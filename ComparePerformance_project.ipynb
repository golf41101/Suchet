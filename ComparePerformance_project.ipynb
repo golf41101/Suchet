{
  "nbformat": 4,
  "nbformat_minor": 0,
  "metadata": {
    "colab": {
      "name": "ComparePerformance_project.ipynb",
      "provenance": [],
      "toc_visible": true,
      "collapsed_sections": [],
      "include_colab_link": true
    },
    "kernelspec": {
      "name": "python3",
      "display_name": "Python 3"
    },
    "language_info": {
      "name": "python"
    }
  },
  "cells": [
    {
      "cell_type": "markdown",
      "metadata": {
        "id": "view-in-github",
        "colab_type": "text"
      },
      "source": [
        "<a href=\"https://colab.research.google.com/github/golf41101/Suchet/blob/master/ComparePerformance_project.ipynb\" target=\"_parent\"><img src=\"https://colab.research.google.com/assets/colab-badge.svg\" alt=\"Open In Colab\"/></a>"
      ]
    },
    {
      "cell_type": "markdown",
      "source": [
        "Compare performance of predict sales on Black Friday datasets from kaggle by scaling data, ont-hot encoder for non-order category ,original data"
      ],
      "metadata": {
        "id": "cxYYOIKttETi"
      }
    },
    {
      "cell_type": "markdown",
      "source": [
        "# Data Exploration"
      ],
      "metadata": {
        "id": "OnhZt-JUE9DM"
      }
    },
    {
      "cell_type": "markdown",
      "source": [
        "1.\tหาค่า frequency,correlations ของแต่ละตัวแปร\n",
        "2.\tดูความถี่ของแต่ละตัวแปร : Gender,Age,Occupation,City_Category,Stay_In_Current_City_Years\n"
      ],
      "metadata": {
        "id": "Qk1dDILNMHnC"
      }
    },
    {
      "cell_type": "markdown",
      "source": [
        "# Methodology / Approach"
      ],
      "metadata": {
        "id": "BiPCf06SFoHz"
      }
    },
    {
      "cell_type": "markdown",
      "source": [
        "1.\tLinear Regression: โมเดลถดถอยอย่างง่ายใช้สำหรับ คาดการณ์ข้อมูลตัวแปรที่เป็นตัวเลข\n",
        "\n",
        "### 2-3 ใช้เพื่อลดการ overfitting ของ model\n",
        "2.\tRidge Regression: โมเดลถดถอยที่มีจุดเด่นในการลดความสำคัญของตัวแปร แต่จะไม่กำจัดออกไป จะใช้ได้ดีกว่า Lasso ในกรณีที่ ตัวแปรส่วนใหญ่ใน model are useful\n",
        "3.\tLasso Regression: โมเดลถดถอยที่มีลักษณะเด่นคือจะกำจัดตัวแปรที่ไม่มีประโยชน์ออกไปจาก model\n",
        "4.\tDecision Tree Regressor: โมเดลต้นไม้โดยจะทำการแบ่งข้อมูลออกมาเป็นส่วนๆ โดยแบ่งออกเป็นแต่ละ node โดย node ที่แบ่งข้อมูลได้มากที่สุดจะกลายเป็น root node และแตกย่อยเป็น leaf node \n",
        "5.\tRandom Forest Regressor: เป็นการสร้างโมเดล Decision Tree หลายๆ ตัวด้วย training data ที่มีข้อมูลและตัวแปรที่แตกต่างกัน และรวมผลการทำนายด้วยวิธีการโหวต\n",
        "\n",
        "\n",
        "\n",
        "\n",
        "\n",
        "\n"
      ],
      "metadata": {
        "id": "vFbmbSNwA7DG"
      }
    },
    {
      "cell_type": "code",
      "source": [
        "import pandas as pd\n",
        "import seaborn as sns\n",
        "from sklearn import preprocessing\n",
        "import matplotlib.pyplot as plt"
      ],
      "metadata": {
        "id": "OzxrisofL-PO"
      },
      "execution_count": 1,
      "outputs": []
    },
    {
      "cell_type": "code",
      "source": [
        "from google.colab import drive\n",
        "#mount you GoogleDrive to \"drive\" folder\n",
        "drive.mount('/drive', force_remount=True)"
      ],
      "metadata": {
        "colab": {
          "base_uri": "https://localhost:8080/"
        },
        "id": "TRU1pgA6FbiC",
        "outputId": "14e3f94c-20a2-44c6-c567-a14e7b6b77c3"
      },
      "execution_count": 2,
      "outputs": [
        {
          "output_type": "stream",
          "name": "stdout",
          "text": [
            "Mounted at /drive\n"
          ]
        }
      ]
    },
    {
      "cell_type": "code",
      "source": [
        "#set path\n",
        "path =\"/drive/MyDrive/Data_For_Project/\""
      ],
      "metadata": {
        "id": "0i86xea1I7AY"
      },
      "execution_count": 3,
      "outputs": []
    },
    {
      "cell_type": "code",
      "source": [
        "df = pd.read_csv(path + \"train.csv\")"
      ],
      "metadata": {
        "id": "cf850HN8I7iB"
      },
      "execution_count": 4,
      "outputs": []
    },
    {
      "cell_type": "code",
      "source": [
        "# มี missing value 2 ตัวแปร : Product_Category_2,Product_Category_3\n",
        "df.isnull().sum()"
      ],
      "metadata": {
        "colab": {
          "base_uri": "https://localhost:8080/"
        },
        "id": "0N9tAXQBc_39",
        "outputId": "84e8b064-a522-4527-858b-4bd130ba7714"
      },
      "execution_count": 5,
      "outputs": [
        {
          "output_type": "execute_result",
          "data": {
            "text/plain": [
              "User_ID                            0\n",
              "Product_ID                         0\n",
              "Gender                             0\n",
              "Age                                0\n",
              "Occupation                         0\n",
              "City_Category                      0\n",
              "Stay_In_Current_City_Years         0\n",
              "Marital_Status                     0\n",
              "Product_Category_1                 0\n",
              "Product_Category_2            173638\n",
              "Product_Category_3            383247\n",
              "Purchase                           0\n",
              "dtype: int64"
            ]
          },
          "metadata": {},
          "execution_count": 5
        }
      ]
    },
    {
      "cell_type": "code",
      "source": [
        "df.head()"
      ],
      "metadata": {
        "colab": {
          "base_uri": "https://localhost:8080/",
          "height": 339
        },
        "id": "vqNkRFhvBoQw",
        "outputId": "ff80f0ce-b528-4e5a-f4d2-a9733ff97f51"
      },
      "execution_count": 6,
      "outputs": [
        {
          "output_type": "execute_result",
          "data": {
            "text/plain": [
              "   User_ID Product_ID Gender   Age  Occupation City_Category  \\\n",
              "0  1000001  P00069042      F  0-17          10             A   \n",
              "1  1000001  P00248942      F  0-17          10             A   \n",
              "2  1000001  P00087842      F  0-17          10             A   \n",
              "3  1000001  P00085442      F  0-17          10             A   \n",
              "4  1000002  P00285442      M   55+          16             C   \n",
              "\n",
              "  Stay_In_Current_City_Years  Marital_Status  Product_Category_1  \\\n",
              "0                          2               0                   3   \n",
              "1                          2               0                   1   \n",
              "2                          2               0                  12   \n",
              "3                          2               0                  12   \n",
              "4                         4+               0                   8   \n",
              "\n",
              "   Product_Category_2  Product_Category_3  Purchase  \n",
              "0                 NaN                 NaN      8370  \n",
              "1                 6.0                14.0     15200  \n",
              "2                 NaN                 NaN      1422  \n",
              "3                14.0                 NaN      1057  \n",
              "4                 NaN                 NaN      7969  "
            ],
            "text/html": [
              "\n",
              "  <div id=\"df-7cb03a6f-a4de-4be0-a99f-4bb9a4410555\">\n",
              "    <div class=\"colab-df-container\">\n",
              "      <div>\n",
              "<style scoped>\n",
              "    .dataframe tbody tr th:only-of-type {\n",
              "        vertical-align: middle;\n",
              "    }\n",
              "\n",
              "    .dataframe tbody tr th {\n",
              "        vertical-align: top;\n",
              "    }\n",
              "\n",
              "    .dataframe thead th {\n",
              "        text-align: right;\n",
              "    }\n",
              "</style>\n",
              "<table border=\"1\" class=\"dataframe\">\n",
              "  <thead>\n",
              "    <tr style=\"text-align: right;\">\n",
              "      <th></th>\n",
              "      <th>User_ID</th>\n",
              "      <th>Product_ID</th>\n",
              "      <th>Gender</th>\n",
              "      <th>Age</th>\n",
              "      <th>Occupation</th>\n",
              "      <th>City_Category</th>\n",
              "      <th>Stay_In_Current_City_Years</th>\n",
              "      <th>Marital_Status</th>\n",
              "      <th>Product_Category_1</th>\n",
              "      <th>Product_Category_2</th>\n",
              "      <th>Product_Category_3</th>\n",
              "      <th>Purchase</th>\n",
              "    </tr>\n",
              "  </thead>\n",
              "  <tbody>\n",
              "    <tr>\n",
              "      <th>0</th>\n",
              "      <td>1000001</td>\n",
              "      <td>P00069042</td>\n",
              "      <td>F</td>\n",
              "      <td>0-17</td>\n",
              "      <td>10</td>\n",
              "      <td>A</td>\n",
              "      <td>2</td>\n",
              "      <td>0</td>\n",
              "      <td>3</td>\n",
              "      <td>NaN</td>\n",
              "      <td>NaN</td>\n",
              "      <td>8370</td>\n",
              "    </tr>\n",
              "    <tr>\n",
              "      <th>1</th>\n",
              "      <td>1000001</td>\n",
              "      <td>P00248942</td>\n",
              "      <td>F</td>\n",
              "      <td>0-17</td>\n",
              "      <td>10</td>\n",
              "      <td>A</td>\n",
              "      <td>2</td>\n",
              "      <td>0</td>\n",
              "      <td>1</td>\n",
              "      <td>6.0</td>\n",
              "      <td>14.0</td>\n",
              "      <td>15200</td>\n",
              "    </tr>\n",
              "    <tr>\n",
              "      <th>2</th>\n",
              "      <td>1000001</td>\n",
              "      <td>P00087842</td>\n",
              "      <td>F</td>\n",
              "      <td>0-17</td>\n",
              "      <td>10</td>\n",
              "      <td>A</td>\n",
              "      <td>2</td>\n",
              "      <td>0</td>\n",
              "      <td>12</td>\n",
              "      <td>NaN</td>\n",
              "      <td>NaN</td>\n",
              "      <td>1422</td>\n",
              "    </tr>\n",
              "    <tr>\n",
              "      <th>3</th>\n",
              "      <td>1000001</td>\n",
              "      <td>P00085442</td>\n",
              "      <td>F</td>\n",
              "      <td>0-17</td>\n",
              "      <td>10</td>\n",
              "      <td>A</td>\n",
              "      <td>2</td>\n",
              "      <td>0</td>\n",
              "      <td>12</td>\n",
              "      <td>14.0</td>\n",
              "      <td>NaN</td>\n",
              "      <td>1057</td>\n",
              "    </tr>\n",
              "    <tr>\n",
              "      <th>4</th>\n",
              "      <td>1000002</td>\n",
              "      <td>P00285442</td>\n",
              "      <td>M</td>\n",
              "      <td>55+</td>\n",
              "      <td>16</td>\n",
              "      <td>C</td>\n",
              "      <td>4+</td>\n",
              "      <td>0</td>\n",
              "      <td>8</td>\n",
              "      <td>NaN</td>\n",
              "      <td>NaN</td>\n",
              "      <td>7969</td>\n",
              "    </tr>\n",
              "  </tbody>\n",
              "</table>\n",
              "</div>\n",
              "      <button class=\"colab-df-convert\" onclick=\"convertToInteractive('df-7cb03a6f-a4de-4be0-a99f-4bb9a4410555')\"\n",
              "              title=\"Convert this dataframe to an interactive table.\"\n",
              "              style=\"display:none;\">\n",
              "        \n",
              "  <svg xmlns=\"http://www.w3.org/2000/svg\" height=\"24px\"viewBox=\"0 0 24 24\"\n",
              "       width=\"24px\">\n",
              "    <path d=\"M0 0h24v24H0V0z\" fill=\"none\"/>\n",
              "    <path d=\"M18.56 5.44l.94 2.06.94-2.06 2.06-.94-2.06-.94-.94-2.06-.94 2.06-2.06.94zm-11 1L8.5 8.5l.94-2.06 2.06-.94-2.06-.94L8.5 2.5l-.94 2.06-2.06.94zm10 10l.94 2.06.94-2.06 2.06-.94-2.06-.94-.94-2.06-.94 2.06-2.06.94z\"/><path d=\"M17.41 7.96l-1.37-1.37c-.4-.4-.92-.59-1.43-.59-.52 0-1.04.2-1.43.59L10.3 9.45l-7.72 7.72c-.78.78-.78 2.05 0 2.83L4 21.41c.39.39.9.59 1.41.59.51 0 1.02-.2 1.41-.59l7.78-7.78 2.81-2.81c.8-.78.8-2.07 0-2.86zM5.41 20L4 18.59l7.72-7.72 1.47 1.35L5.41 20z\"/>\n",
              "  </svg>\n",
              "      </button>\n",
              "      \n",
              "  <style>\n",
              "    .colab-df-container {\n",
              "      display:flex;\n",
              "      flex-wrap:wrap;\n",
              "      gap: 12px;\n",
              "    }\n",
              "\n",
              "    .colab-df-convert {\n",
              "      background-color: #E8F0FE;\n",
              "      border: none;\n",
              "      border-radius: 50%;\n",
              "      cursor: pointer;\n",
              "      display: none;\n",
              "      fill: #1967D2;\n",
              "      height: 32px;\n",
              "      padding: 0 0 0 0;\n",
              "      width: 32px;\n",
              "    }\n",
              "\n",
              "    .colab-df-convert:hover {\n",
              "      background-color: #E2EBFA;\n",
              "      box-shadow: 0px 1px 2px rgba(60, 64, 67, 0.3), 0px 1px 3px 1px rgba(60, 64, 67, 0.15);\n",
              "      fill: #174EA6;\n",
              "    }\n",
              "\n",
              "    [theme=dark] .colab-df-convert {\n",
              "      background-color: #3B4455;\n",
              "      fill: #D2E3FC;\n",
              "    }\n",
              "\n",
              "    [theme=dark] .colab-df-convert:hover {\n",
              "      background-color: #434B5C;\n",
              "      box-shadow: 0px 1px 3px 1px rgba(0, 0, 0, 0.15);\n",
              "      filter: drop-shadow(0px 1px 2px rgba(0, 0, 0, 0.3));\n",
              "      fill: #FFFFFF;\n",
              "    }\n",
              "  </style>\n",
              "\n",
              "      <script>\n",
              "        const buttonEl =\n",
              "          document.querySelector('#df-7cb03a6f-a4de-4be0-a99f-4bb9a4410555 button.colab-df-convert');\n",
              "        buttonEl.style.display =\n",
              "          google.colab.kernel.accessAllowed ? 'block' : 'none';\n",
              "\n",
              "        async function convertToInteractive(key) {\n",
              "          const element = document.querySelector('#df-7cb03a6f-a4de-4be0-a99f-4bb9a4410555');\n",
              "          const dataTable =\n",
              "            await google.colab.kernel.invokeFunction('convertToInteractive',\n",
              "                                                     [key], {});\n",
              "          if (!dataTable) return;\n",
              "\n",
              "          const docLinkHtml = 'Like what you see? Visit the ' +\n",
              "            '<a target=\"_blank\" href=https://colab.research.google.com/notebooks/data_table.ipynb>data table notebook</a>'\n",
              "            + ' to learn more about interactive tables.';\n",
              "          element.innerHTML = '';\n",
              "          dataTable['output_type'] = 'display_data';\n",
              "          await google.colab.output.renderOutput(dataTable, element);\n",
              "          const docLink = document.createElement('div');\n",
              "          docLink.innerHTML = docLinkHtml;\n",
              "          element.appendChild(docLink);\n",
              "        }\n",
              "      </script>\n",
              "    </div>\n",
              "  </div>\n",
              "  "
            ]
          },
          "metadata": {},
          "execution_count": 6
        }
      ]
    },
    {
      "cell_type": "code",
      "source": [
        "# explordata เพื่อดูการกระจายของข้อมูล categories "
      ],
      "metadata": {
        "id": "JpJavDXQEf5V"
      },
      "execution_count": 7,
      "outputs": []
    },
    {
      "cell_type": "code",
      "source": [
        "ax = plt.subplots(figsize=(7, 5))\n",
        "ax = sns.countplot(x=\"Gender\", data=df)"
      ],
      "metadata": {
        "colab": {
          "base_uri": "https://localhost:8080/",
          "height": 334
        },
        "id": "TIwmMVSdEkcE",
        "outputId": "fcd5280a-1143-4ae0-f79b-17073f8f20a0"
      },
      "execution_count": 8,
      "outputs": [
        {
          "output_type": "display_data",
          "data": {
            "text/plain": [
              "<Figure size 504x360 with 1 Axes>"
            ],
            "image/png": "[encoded data removed]"
          },
          "metadata": {
            "needs_background": "light"
          }
        }
      ]
    },
    {
      "cell_type": "code",
      "source": [
        "ax = plt.subplots(figsize=(7, 5))\n",
        "ax = sns.countplot(x=\"Age\", data=df)"
      ],
      "metadata": {
        "colab": {
          "base_uri": "https://localhost:8080/",
          "height": 334
        },
        "id": "RVAhWP0dE4L8",
        "outputId": "24bec7af-e6e9-4464-afeb-0d04c99278b0"
      },
      "execution_count": 9,
      "outputs": [
        {
          "output_type": "display_data",
          "data": {
            "text/plain": [
              "<Figure size 504x360 with 1 Axes>"
            ],
            "image/png": "[encoded data removed]"
          },
          "metadata": {
            "needs_background": "light"
          }
        }
      ]
    },
    {
      "cell_type": "code",
      "source": [
        "ax = plt.subplots(figsize=(7, 5))\n",
        "ax = sns.countplot(x=\"Occupation\", data=df)"
      ],
      "metadata": {
        "colab": {
          "base_uri": "https://localhost:8080/",
          "height": 334
        },
        "id": "bhOjkwVaE-7N",
        "outputId": "dbe44801-94ab-438e-8380-b6077b3ac745"
      },
      "execution_count": 10,
      "outputs": [
        {
          "output_type": "display_data",
          "data": {
            "text/plain": [
              "<Figure size 504x360 with 1 Axes>"
            ],
            "image/png": "[encoded data removed]"
          },
          "metadata": {
            "needs_background": "light"
          }
        }
      ]
    },
    {
      "cell_type": "code",
      "source": [
        "ax = plt.subplots(figsize=(7, 5))\n",
        "ax = sns.countplot(x=\"City_Category\", data=df)"
      ],
      "metadata": {
        "colab": {
          "base_uri": "https://localhost:8080/",
          "height": 335
        },
        "id": "7up5PnfAFHf8",
        "outputId": "cdb7641a-9e57-4e52-f8ef-d2886e22a7c4"
      },
      "execution_count": 11,
      "outputs": [
        {
          "output_type": "display_data",
          "data": {
            "text/plain": [
              "<Figure size 504x360 with 1 Axes>"
            ],
            "image/png": "[encoded data removed]"
          },
          "metadata": {
            "needs_background": "light"
          }
        }
      ]
    },
    {
      "cell_type": "code",
      "source": [
        "ax = plt.subplots(figsize=(7, 5))\n",
        "ax = sns.countplot(x=\"Stay_In_Current_City_Years\", data=df)"
      ],
      "metadata": {
        "colab": {
          "base_uri": "https://localhost:8080/",
          "height": 335
        },
        "id": "U1gZGa1aFN2u",
        "outputId": "44c838c0-10b6-456e-f056-e0b3087d6cbc"
      },
      "execution_count": 12,
      "outputs": [
        {
          "output_type": "display_data",
          "data": {
            "text/plain": [
              "<Figure size 504x360 with 1 Axes>"
            ],
            "image/png": "[encoded data removed]"
          },
          "metadata": {
            "needs_background": "light"
          }
        }
      ]
    },
    {
      "cell_type": "code",
      "source": [
        "# ทำการ labelencoding กับตัวแปร categories\n",
        "le = preprocessing.LabelEncoder()\n",
        "df['Age'] = le.fit_transform(df['Age'])\n",
        "df['Gender'] = le.fit_transform(df['Gender'])\n",
        "df['City_Category'] = le.fit_transform(df['City_Category'])\n",
        "df['Stay_In_Current_City_Years'] = le.fit_transform(df['Stay_In_Current_City_Years'])"
      ],
      "metadata": {
        "id": "_r_H1q-mp2y3"
      },
      "execution_count": 13,
      "outputs": []
    },
    {
      "cell_type": "code",
      "source": [
        "df.head()"
      ],
      "metadata": {
        "colab": {
          "base_uri": "https://localhost:8080/",
          "height": 270
        },
        "id": "ZzKUkDPLqTPU",
        "outputId": "625c7654-b638-4c2c-f424-516cf105452d"
      },
      "execution_count": 14,
      "outputs": [
        {
          "output_type": "execute_result",
          "data": {
            "text/plain": [
              "   User_ID Product_ID  Gender  Age  Occupation  City_Category  \\\n",
              "0  1000001  P00069042       0    0          10              0   \n",
              "1  1000001  P00248942       0    0          10              0   \n",
              "2  1000001  P00087842       0    0          10              0   \n",
              "3  1000001  P00085442       0    0          10              0   \n",
              "4  1000002  P00285442       1    6          16              2   \n",
              "\n",
              "   Stay_In_Current_City_Years  Marital_Status  Product_Category_1  \\\n",
              "0                           2               0                   3   \n",
              "1                           2               0                   1   \n",
              "2                           2               0                  12   \n",
              "3                           2               0                  12   \n",
              "4                           4               0                   8   \n",
              "\n",
              "   Product_Category_2  Product_Category_3  Purchase  \n",
              "0                 NaN                 NaN      8370  \n",
              "1                 6.0                14.0     15200  \n",
              "2                 NaN                 NaN      1422  \n",
              "3                14.0                 NaN      1057  \n",
              "4                 NaN                 NaN      7969  "
            ],
            "text/html": [
              "\n",
              "  <div id=\"df-56e2d687-ec0a-4b87-a3e5-4bf190ec7f70\">\n",
              "    <div class=\"colab-df-container\">\n",
              "      <div>\n",
              "<style scoped>\n",
              "    .dataframe tbody tr th:only-of-type {\n",
              "        vertical-align: middle;\n",
              "    }\n",
              "\n",
              "    .dataframe tbody tr th {\n",
              "        vertical-align: top;\n",
              "    }\n",
              "\n",
              "    .dataframe thead th {\n",
              "        text-align: right;\n",
              "    }\n",
              "</style>\n",
              "<table border=\"1\" class=\"dataframe\">\n",
              "  <thead>\n",
              "    <tr style=\"text-align: right;\">\n",
              "      <th></th>\n",
              "      <th>User_ID</th>\n",
              "      <th>Product_ID</th>\n",
              "      <th>Gender</th>\n",
              "      <th>Age</th>\n",
              "      <th>Occupation</th>\n",
              "      <th>City_Category</th>\n",
              "      <th>Stay_In_Current_City_Years</th>\n",
              "      <th>Marital_Status</th>\n",
              "      <th>Product_Category_1</th>\n",
              "      <th>Product_Category_2</th>\n",
              "      <th>Product_Category_3</th>\n",
              "      <th>Purchase</th>\n",
              "    </tr>\n",
              "  </thead>\n",
              "  <tbody>\n",
              "    <tr>\n",
              "      <th>0</th>\n",
              "      <td>1000001</td>\n",
              "      <td>P00069042</td>\n",
              "      <td>0</td>\n",
              "      <td>0</td>\n",
              "      <td>10</td>\n",
              "      <td>0</td>\n",
              "      <td>2</td>\n",
              "      <td>0</td>\n",
              "      <td>3</td>\n",
              "      <td>NaN</td>\n",
              "      <td>NaN</td>\n",
              "      <td>8370</td>\n",
              "    </tr>\n",
              "    <tr>\n",
              "      <th>1</th>\n",
              "      <td>1000001</td>\n",
              "      <td>P00248942</td>\n",
              "      <td>0</td>\n",
              "      <td>0</td>\n",
              "      <td>10</td>\n",
              "      <td>0</td>\n",
              "      <td>2</td>\n",
              "      <td>0</td>\n",
              "      <td>1</td>\n",
              "      <td>6.0</td>\n",
              "      <td>14.0</td>\n",
              "      <td>15200</td>\n",
              "    </tr>\n",
              "    <tr>\n",
              "      <th>2</th>\n",
              "      <td>1000001</td>\n",
              "      <td>P00087842</td>\n",
              "      <td>0</td>\n",
              "      <td>0</td>\n",
              "      <td>10</td>\n",
              "      <td>0</td>\n",
              "      <td>2</td>\n",
              "      <td>0</td>\n",
              "      <td>12</td>\n",
              "      <td>NaN</td>\n",
              "      <td>NaN</td>\n",
              "      <td>1422</td>\n",
              "    </tr>\n",
              "    <tr>\n",
              "      <th>3</th>\n",
              "      <td>1000001</td>\n",
              "      <td>P00085442</td>\n",
              "      <td>0</td>\n",
              "      <td>0</td>\n",
              "      <td>10</td>\n",
              "      <td>0</td>\n",
              "      <td>2</td>\n",
              "      <td>0</td>\n",
              "      <td>12</td>\n",
              "      <td>14.0</td>\n",
              "      <td>NaN</td>\n",
              "      <td>1057</td>\n",
              "    </tr>\n",
              "    <tr>\n",
              "      <th>4</th>\n",
              "      <td>1000002</td>\n",
              "      <td>P00285442</td>\n",
              "      <td>1</td>\n",
              "      <td>6</td>\n",
              "      <td>16</td>\n",
              "      <td>2</td>\n",
              "      <td>4</td>\n",
              "      <td>0</td>\n",
              "      <td>8</td>\n",
              "      <td>NaN</td>\n",
              "      <td>NaN</td>\n",
              "      <td>7969</td>\n",
              "    </tr>\n",
              "  </tbody>\n",
              "</table>\n",
              "</div>\n",
              "      <button class=\"colab-df-convert\" onclick=\"convertToInteractive('df-56e2d687-ec0a-4b87-a3e5-4bf190ec7f70')\"\n",
              "              title=\"Convert this dataframe to an interactive table.\"\n",
              "              style=\"display:none;\">\n",
              "        \n",
              "  <svg xmlns=\"http://www.w3.org/2000/svg\" height=\"24px\"viewBox=\"0 0 24 24\"\n",
              "       width=\"24px\">\n",
              "    <path d=\"M0 0h24v24H0V0z\" fill=\"none\"/>\n",
              "    <path d=\"M18.56 5.44l.94 2.06.94-2.06 2.06-.94-2.06-.94-.94-2.06-.94 2.06-2.06.94zm-11 1L8.5 8.5l.94-2.06 2.06-.94-2.06-.94L8.5 2.5l-.94 2.06-2.06.94zm10 10l.94 2.06.94-2.06 2.06-.94-2.06-.94-.94-2.06-.94 2.06-2.06.94z\"/><path d=\"M17.41 7.96l-1.37-1.37c-.4-.4-.92-.59-1.43-.59-.52 0-1.04.2-1.43.59L10.3 9.45l-7.72 7.72c-.78.78-.78 2.05 0 2.83L4 21.41c.39.39.9.59 1.41.59.51 0 1.02-.2 1.41-.59l7.78-7.78 2.81-2.81c.8-.78.8-2.07 0-2.86zM5.41 20L4 18.59l7.72-7.72 1.47 1.35L5.41 20z\"/>\n",
              "  </svg>\n",
              "      </button>\n",
              "      \n",
              "  <style>\n",
              "    .colab-df-container {\n",
              "      display:flex;\n",
              "      flex-wrap:wrap;\n",
              "      gap: 12px;\n",
              "    }\n",
              "\n",
              "    .colab-df-convert {\n",
              "      background-color: #E8F0FE;\n",
              "      border: none;\n",
              "      border-radius: 50%;\n",
              "      cursor: pointer;\n",
              "      display: none;\n",
              "      fill: #1967D2;\n",
              "      height: 32px;\n",
              "      padding: 0 0 0 0;\n",
              "      width: 32px;\n",
              "    }\n",
              "\n",
              "    .colab-df-convert:hover {\n",
              "      background-color: #E2EBFA;\n",
              "      box-shadow: 0px 1px 2px rgba(60, 64, 67, 0.3), 0px 1px 3px 1px rgba(60, 64, 67, 0.15);\n",
              "      fill: #174EA6;\n",
              "    }\n",
              "\n",
              "    [theme=dark] .colab-df-convert {\n",
              "      background-color: #3B4455;\n",
              "      fill: #D2E3FC;\n",
              "    }\n",
              "\n",
              "    [theme=dark] .colab-df-convert:hover {\n",
              "      background-color: #434B5C;\n",
              "      box-shadow: 0px 1px 3px 1px rgba(0, 0, 0, 0.15);\n",
              "      filter: drop-shadow(0px 1px 2px rgba(0, 0, 0, 0.3));\n",
              "      fill: #FFFFFF;\n",
              "    }\n",
              "  </style>\n",
              "\n",
              "      <script>\n",
              "        const buttonEl =\n",
              "          document.querySelector('#df-56e2d687-ec0a-4b87-a3e5-4bf190ec7f70 button.colab-df-convert');\n",
              "        buttonEl.style.display =\n",
              "          google.colab.kernel.accessAllowed ? 'block' : 'none';\n",
              "\n",
              "        async function convertToInteractive(key) {\n",
              "          const element = document.querySelector('#df-56e2d687-ec0a-4b87-a3e5-4bf190ec7f70');\n",
              "          const dataTable =\n",
              "            await google.colab.kernel.invokeFunction('convertToInteractive',\n",
              "                                                     [key], {});\n",
              "          if (!dataTable) return;\n",
              "\n",
              "          const docLinkHtml = 'Like what you see? Visit the ' +\n",
              "            '<a target=\"_blank\" href=https://colab.research.google.com/notebooks/data_table.ipynb>data table notebook</a>'\n",
              "            + ' to learn more about interactive tables.';\n",
              "          element.innerHTML = '';\n",
              "          dataTable['output_type'] = 'display_data';\n",
              "          await google.colab.output.renderOutput(dataTable, element);\n",
              "          const docLink = document.createElement('div');\n",
              "          docLink.innerHTML = docLinkHtml;\n",
              "          element.appendChild(docLink);\n",
              "        }\n",
              "      </script>\n",
              "    </div>\n",
              "  </div>\n",
              "  "
            ]
          },
          "metadata": {},
          "execution_count": 14
        }
      ]
    },
    {
      "cell_type": "code",
      "source": [
        "# filling missing data with 0 assume ว่าการสั่งซื้อนั้นไม่เข้าหมวด Product_Category ดังกล่าว\n",
        "df['Product_Category_2'].fillna(0,inplace=True)\n",
        "df['Product_Category_3'].fillna(0,inplace=True)"
      ],
      "metadata": {
        "id": "OA_GuKBxvq1W"
      },
      "execution_count": 15,
      "outputs": []
    },
    {
      "cell_type": "code",
      "source": [
        "# drop product_ID เพราะไม่ใช่ตัวแปร\n",
        "df = df.drop(columns=['Product_ID'],axis=1)"
      ],
      "metadata": {
        "id": "S_uzsGWrqX68"
      },
      "execution_count": 16,
      "outputs": []
    },
    {
      "cell_type": "code",
      "source": [
        "ax = plt.subplots(figsize=(14, 10))\n",
        "ax = sns.heatmap(df.corr(),annot=True)"
      ],
      "metadata": {
        "colab": {
          "base_uri": "https://localhost:8080/",
          "height": 720
        },
        "id": "Pufepv2j_Kdx",
        "outputId": "9b2cdc2c-f4dc-4029-f43f-5e76bec5f052"
      },
      "execution_count": 17,
      "outputs": [
        {
          "output_type": "display_data",
          "data": {
            "text/plain": [
              "<Figure size 1008x720 with 2 Axes>"
            ],
            "image/png": "[encoded data removed]"
          },
          "metadata": {
            "needs_background": "light"
          }
        }
      ]
    },
    {
      "cell_type": "markdown",
      "source": [
        "เตรียมนำข้อมูลเข้า model ต่างๆ"
      ],
      "metadata": {
        "id": "E7C6yrG3EJvF"
      }
    },
    {
      "cell_type": "code",
      "source": [
        "df1 = df.copy()"
      ],
      "metadata": {
        "id": "sqMhFeSWmZJa"
      },
      "execution_count": 18,
      "outputs": []
    },
    {
      "cell_type": "code",
      "source": [
        "df1.drop(columns='User_ID',inplace=True)"
      ],
      "metadata": {
        "id": "04R6L_jxEAQA"
      },
      "execution_count": 19,
      "outputs": []
    },
    {
      "cell_type": "code",
      "source": [
        "df1.info()"
      ],
      "metadata": {
        "colab": {
          "base_uri": "https://localhost:8080/"
        },
        "id": "NTpyxOVHmvS9",
        "outputId": "4e2021ae-7060-4b55-f17e-8ffee2bf03b5"
      },
      "execution_count": 20,
      "outputs": [
        {
          "output_type": "stream",
          "name": "stdout",
          "text": [
            "<class 'pandas.core.frame.DataFrame'>\n",
            "RangeIndex: 550068 entries, 0 to 550067\n",
            "Data columns (total 10 columns):\n",
            " #   Column                      Non-Null Count   Dtype  \n",
            "---  ------                      --------------   -----  \n",
            " 0   Gender                      550068 non-null  int64  \n",
            " 1   Age                         550068 non-null  int64  \n",
            " 2   Occupation                  550068 non-null  int64  \n",
            " 3   City_Category               550068 non-null  int64  \n",
            " 4   Stay_In_Current_City_Years  550068 non-null  int64  \n",
            " 5   Marital_Status              550068 non-null  int64  \n",
            " 6   Product_Category_1          550068 non-null  int64  \n",
            " 7   Product_Category_2          550068 non-null  float64\n",
            " 8   Product_Category_3          550068 non-null  float64\n",
            " 9   Purchase                    550068 non-null  int64  \n",
            "dtypes: float64(2), int64(8)\n",
            "memory usage: 42.0 MB\n"
          ]
        }
      ]
    },
    {
      "cell_type": "code",
      "source": [
        "# plot target variable\n",
        "print(\"skewness \",df1['Purchase'].skew(axis=0))# ดูความเบ้ค่าบวก คือ เบ้ขวา\n",
        "print(\"kurtosis \",df1['Purchase'].kurt(axis=0))# ดูความโด่งของข้อมูล\n",
        "sns.histplot(x='Purchase',data=df1)"
      ],
      "metadata": {
        "colab": {
          "base_uri": "https://localhost:8080/",
          "height": 334
        },
        "id": "-cAFDfJxrqph",
        "outputId": "2c097f47-59b5-4317-c6cb-d9c58d379ea8"
      },
      "execution_count": 21,
      "outputs": [
        {
          "output_type": "stream",
          "name": "stdout",
          "text": [
            "skewness  0.6001400037087128\n",
            "kurtosis  -0.3383775655851702\n"
          ]
        },
        {
          "output_type": "execute_result",
          "data": {
            "text/plain": [
              "<matplotlib.axes._subplots.AxesSubplot at 0x7f4bd68c2f50>"
            ]
          },
          "metadata": {},
          "execution_count": 21
        },
        {
          "output_type": "display_data",
          "data": {
            "text/plain": [
              "<Figure size 432x288 with 1 Axes>"
            ],
            "image/png": "[encoded data removed]"
          },
          "metadata": {
            "needs_background": "light"
          }
        }
      ]
    },
    {
      "cell_type": "code",
      "source": [
        "X = df1.drop(\"Purchase\",axis=1)\n",
        "y = df1[\"Purchase\"]"
      ],
      "metadata": {
        "id": "iVE6J5X7rPfd"
      },
      "execution_count": 22,
      "outputs": []
    },
    {
      "cell_type": "code",
      "source": [
        "df1.shape"
      ],
      "metadata": {
        "colab": {
          "base_uri": "https://localhost:8080/"
        },
        "id": "CghWRZFasyZ0",
        "outputId": "b3fcc668-f7e0-4bfa-ea9b-f68279c31311"
      },
      "execution_count": 23,
      "outputs": [
        {
          "output_type": "execute_result",
          "data": {
            "text/plain": [
              "(550068, 10)"
            ]
          },
          "metadata": {},
          "execution_count": 23
        }
      ]
    },
    {
      "cell_type": "code",
      "source": [
        "from sklearn.model_selection import train_test_split\n",
        "# ใช้ค่า default ของ test size =0.25\n",
        "X_train, X_test, y_train, y_test = train_test_split(X, y, test_size=0.25,random_state=42)"
      ],
      "metadata": {
        "id": "MoAjB1VvoSF9"
      },
      "execution_count": 24,
      "outputs": []
    },
    {
      "cell_type": "code",
      "source": [
        "print(f'training features: {X_train.shape}')\n",
        "print(f'training label: {y_train.shape}')\n",
        "print(f'test features: {X_test.shape}')\n",
        "print(f'test label: {y_test.shape}')"
      ],
      "metadata": {
        "colab": {
          "base_uri": "https://localhost:8080/"
        },
        "id": "wqo30HfsthqZ",
        "outputId": "77199aad-a899-4c4e-d459-d24bfc5fae77"
      },
      "execution_count": 25,
      "outputs": [
        {
          "output_type": "stream",
          "name": "stdout",
          "text": [
            "training features: (412551, 9)\n",
            "training label: (412551,)\n",
            "test features: (137517, 9)\n",
            "test label: (137517,)\n"
          ]
        }
      ]
    },
    {
      "cell_type": "markdown",
      "source": [
        "## **Original Model**"
      ],
      "metadata": {
        "id": "8aYd39cGPxms"
      }
    },
    {
      "cell_type": "code",
      "source": [
        "from sklearn.linear_model import LinearRegression,Ridge\n",
        "from sklearn.metrics import mean_squared_error\n",
        "from sklearn import linear_model\n",
        "from sklearn.tree import DecisionTreeRegressor\n",
        "from sklearn.ensemble import RandomForestRegressor\n",
        "\n",
        "# linear regression\n",
        "model_reg = LinearRegression()\n",
        "model_reg.fit(X_train, y_train)\n",
        "y_pred_reg = model_reg.predict(X_test)\n",
        "mse_reg = mean_squared_error(y_test, y_pred_reg)\n",
        "print('MSE of Linear Regression:', mse_reg)\n",
        "\n",
        "# ridge regression\n",
        "model_rid = Ridge()\n",
        "model_rid.fit(X_train, y_train)\n",
        "y_pred_rid = model_rid.predict(X_test)\n",
        "mse_rid = mean_squared_error(y_test, y_pred_rid)\n",
        "print('MSE of Ridge Regression:', mse_rid)\n",
        "\n",
        "# lasso regression\n",
        "model_las = linear_model.Lasso()\n",
        "model_las.fit(X_train, y_train)\n",
        "y_pred_las = model_las.predict(X_test)\n",
        "mse_las = mean_squared_error(y_test, y_pred_las)\n",
        "print('MSE of Lasso Regression:', mse_las)\n",
        "\n",
        "# Decision Tree Regressor\n",
        "regressor = DecisionTreeRegressor(random_state=0)\n",
        "regressor.fit(X_train, y_train)\n",
        "y_pred_dtr = regressor.predict(X_test)\n",
        "mse_dtr = mean_squared_error(y_test, y_pred_dtr)\n",
        "print('MSE of Decision Tree Regressor:', mse_dtr)\n",
        "\n",
        "# Random Forest Regressor\n",
        "regr = RandomForestRegressor(random_state=0)\n",
        "regr.fit(X_train, y_train)\n",
        "y_pred_regr = regr.predict(X_test)\n",
        "mse_regr = mean_squared_error(y_test, y_pred_regr)\n",
        "print('MSE of Random Forest Regressor:', mse_regr)"
      ],
      "metadata": {
        "colab": {
          "base_uri": "https://localhost:8080/"
        },
        "id": "oO7MvKA7t-td",
        "outputId": "88922c24-1d98-40b4-9ac0-845616cabc68"
      },
      "execution_count": 26,
      "outputs": [
        {
          "output_type": "stream",
          "name": "stdout",
          "text": [
            "MSE of Linear Regression: 21355490.495925907\n",
            "MSE of Ridge Regression: 21355490.48611554\n",
            "MSE of Lasso Regression: 21355499.144180156\n",
            "MSE of Decision Tree Regressor: 11343358.05614451\n",
            "MSE of Random Forest Regressor: 9380980.91795687\n"
          ]
        }
      ]
    },
    {
      "cell_type": "code",
      "source": [
        "# Coefficients of linear regression\n",
        "\n",
        "cdf_reg = pd.DataFrame(model_reg.coef_, X.columns, columns=['Coefficients'])\n",
        "cdf_reg = cdf_reg.sort_values(by='Coefficients',ascending=False)\n",
        "print(cdf_reg)\n",
        "ax = plt.subplots(figsize=(10, 7))\n",
        "x = cdf_reg.index\n",
        "ax = sns.barplot(x=x,y='Coefficients', data=cdf_reg)\n",
        "plt.xticks(rotation=90)\n",
        "plt.show()"
      ],
      "metadata": {
        "colab": {
          "base_uri": "https://localhost:8080/",
          "height": 736
        },
        "id": "blRlr5oQGxph",
        "outputId": "4c21a1bf-8b20-4c97-cba9-f3ef55b7ffeb"
      },
      "execution_count": 27,
      "outputs": [
        {
          "output_type": "stream",
          "name": "stdout",
          "text": [
            "                            Coefficients\n",
            "Gender                        473.642024\n",
            "City_Category                 321.119830\n",
            "Product_Category_3            143.854301\n",
            "Age                           104.769568\n",
            "Product_Category_2             12.866324\n",
            "Stay_In_Current_City_Years      7.194922\n",
            "Occupation                      5.630790\n",
            "Marital_Status                -48.644005\n",
            "Product_Category_1           -348.807911\n"
          ]
        },
        {
          "output_type": "display_data",
          "data": {
            "text/plain": [
              "<Figure size 720x504 with 1 Axes>"
            ],
            "image/png": "[encoded data removed]"
          },
          "metadata": {
            "needs_background": "light"
          }
        }
      ]
    },
    {
      "cell_type": "code",
      "source": [
        "# Coefficients of Ridge regression\n",
        "\n",
        "cdf_rid = pd.DataFrame(model_rid.coef_, X.columns, columns=['Coefficients'])\n",
        "cdf_rid = cdf_rid.sort_values(by='Coefficients',ascending=False)\n",
        "print(cdf_rid)\n",
        "ax = plt.subplots(figsize=(10, 7))\n",
        "x = cdf_rid.index\n",
        "ax = sns.barplot(x=x,y='Coefficients', data=cdf_rid)\n",
        "plt.xticks(rotation=90)\n",
        "plt.show()"
      ],
      "metadata": {
        "colab": {
          "base_uri": "https://localhost:8080/",
          "height": 736
        },
        "id": "lehv19ljKg7h",
        "outputId": "f6a0c5aa-0366-4cae-adac-ee2acba2df7b"
      },
      "execution_count": 28,
      "outputs": [
        {
          "output_type": "stream",
          "name": "stdout",
          "text": [
            "                            Coefficients\n",
            "Gender                        473.635746\n",
            "City_Category                 321.118471\n",
            "Product_Category_3            143.854322\n",
            "Age                           104.769414\n",
            "Product_Category_2             12.866325\n",
            "Stay_In_Current_City_Years      7.194954\n",
            "Occupation                      5.630845\n",
            "Marital_Status                -48.643395\n",
            "Product_Category_1           -348.807877\n"
          ]
        },
        {
          "output_type": "display_data",
          "data": {
            "text/plain": [
              "<Figure size 720x504 with 1 Axes>"
            ],
            "image/png": "[encoded data removed]"
          },
          "metadata": {
            "needs_background": "light"
          }
        }
      ]
    },
    {
      "cell_type": "code",
      "source": [
        "# Coefficients of lasso regression\n",
        "\n",
        "cdf_las = pd.DataFrame(model_las.coef_, X.columns, columns=['Coefficients'])\n",
        "cdf_las = cdf_las.sort_values(by='Coefficients',ascending=False)\n",
        "print(cdf_las)\n",
        "ax = plt.subplots(figsize=(10, 7))\n",
        "x = cdf_las.index\n",
        "ax = sns.barplot(x=x,y='Coefficients', data=cdf_las)\n",
        "plt.xticks(rotation=90)\n",
        "plt.show()"
      ],
      "metadata": {
        "colab": {
          "base_uri": "https://localhost:8080/",
          "height": 736
        },
        "id": "fMbTQvvhKxmp",
        "outputId": "ac76b1ac-3b49-4c69-e0bf-c95e0f1b4173"
      },
      "execution_count": 29,
      "outputs": [
        {
          "output_type": "stream",
          "name": "stdout",
          "text": [
            "                            Coefficients\n",
            "Gender                        468.276530\n",
            "City_Category                 319.492744\n",
            "Product_Category_3            143.861991\n",
            "Age                           103.733004\n",
            "Product_Category_2             12.848310\n",
            "Stay_In_Current_City_Years      6.655137\n",
            "Occupation                      5.669265\n",
            "Marital_Status                -43.617377\n",
            "Product_Category_1           -348.763702\n"
          ]
        },
        {
          "output_type": "display_data",
          "data": {
            "text/plain": [
              "<Figure size 720x504 with 1 Axes>"
            ],
            "image/png": "[encoded data removed]"
          },
          "metadata": {
            "needs_background": "light"
          }
        }
      ]
    },
    {
      "cell_type": "code",
      "source": [
        "# Coefficients of Decision Tree Regressor\n",
        "\n",
        "cdf_regressor = pd.DataFrame(regressor.feature_importances_, X.columns, columns=['importances'])\n",
        "cdf_regressor = cdf_regressor.sort_values(by='importances',ascending=False)\n",
        "print(cdf_regressor)\n",
        "ax = plt.subplots(figsize=(10, 7))\n",
        "x = cdf_regressor.index\n",
        "ax = sns.barplot(x=x,y='importances', data=cdf_regressor)\n",
        "plt.xticks(rotation=90)\n",
        "plt.show()"
      ],
      "metadata": {
        "colab": {
          "base_uri": "https://localhost:8080/",
          "height": 736
        },
        "id": "BGUh4fqDLINm",
        "outputId": "d1847695-d2e5-496b-b5e1-6b00d25e8c22"
      },
      "execution_count": 30,
      "outputs": [
        {
          "output_type": "stream",
          "name": "stdout",
          "text": [
            "                            importances\n",
            "Product_Category_1             0.792500\n",
            "Occupation                     0.054854\n",
            "Stay_In_Current_City_Years     0.039062\n",
            "Age                            0.032977\n",
            "Product_Category_2             0.025398\n",
            "Product_Category_3             0.016486\n",
            "Marital_Status                 0.014526\n",
            "City_Category                  0.013042\n",
            "Gender                         0.011155\n"
          ]
        },
        {
          "output_type": "display_data",
          "data": {
            "text/plain": [
              "<Figure size 720x504 with 1 Axes>"
            ],
            "image/png": "[encoded data removed]"
          },
          "metadata": {
            "needs_background": "light"
          }
        }
      ]
    },
    {
      "cell_type": "code",
      "source": [
        "# Coefficients of Random Forest Regressor\n",
        "\n",
        "cdf_regr = pd.DataFrame(regr.feature_importances_, X.columns, columns=['importances'])\n",
        "cdf_regr= cdf_regr.sort_values(by='importances',ascending=False)\n",
        "print(cdf_regr)\n",
        "ax = plt.subplots(figsize=(10, 7))\n",
        "x = cdf_regr.index\n",
        "ax = sns.barplot(x=x,y='importances', data=cdf_regr)\n",
        "plt.xticks(rotation=90)\n",
        "plt.show()"
      ],
      "metadata": {
        "colab": {
          "base_uri": "https://localhost:8080/",
          "height": 739
        },
        "id": "aLT6dg8eLlXi",
        "outputId": "97683e61-3702-4983-88a5-6e0d14d99d54"
      },
      "execution_count": 31,
      "outputs": [
        {
          "output_type": "stream",
          "name": "stdout",
          "text": [
            "                            importances\n",
            "Product_Category_1             0.764112\n",
            "Occupation                     0.063366\n",
            "Stay_In_Current_City_Years     0.044060\n",
            "Age                            0.038678\n",
            "Product_Category_2             0.027270\n",
            "Product_Category_3             0.017897\n",
            "Marital_Status                 0.016704\n",
            "City_Category                  0.014843\n",
            "Gender                         0.013069\n"
          ]
        },
        {
          "output_type": "display_data",
          "data": {
            "text/plain": [
              "<Figure size 720x504 with 1 Axes>"
            ],
            "image/png": "[encoded data removed]"
          },
          "metadata": {
            "needs_background": "light"
          }
        }
      ]
    },
    {
      "cell_type": "code",
      "source": [
        "# create list of model\n",
        "list_mod = [model_reg,model_rid,model_las,regressor,regr]"
      ],
      "metadata": {
        "id": "0ZxO3l8_qoqB"
      },
      "execution_count": 32,
      "outputs": []
    },
    {
      "cell_type": "code",
      "source": [
        "from sklearn.model_selection import cross_val_score"
      ],
      "metadata": {
        "id": "rcLN8qTDuuUw"
      },
      "execution_count": 33,
      "outputs": []
    },
    {
      "cell_type": "code",
      "source": [
        "#5 fold cross-validation \n",
        "for i in list_mod:\n",
        "  score_mse = cross_val_score(i, X, y,scoring='neg_mean_squared_error',cv=5)\n",
        "  score_mse.tolist()\n",
        "  print(i,\"%0.4f accuracy with a standard deviation of %0.4f\" % (score_mse.mean(), score_mse.std()))"
      ],
      "metadata": {
        "colab": {
          "base_uri": "https://localhost:8080/"
        },
        "id": "TCeIpInX0eWh",
        "outputId": "a328ac60-6162-4d9a-935a-d6b74c9785d2"
      },
      "execution_count": 34,
      "outputs": [
        {
          "output_type": "stream",
          "name": "stdout",
          "text": [
            "LinearRegression() -21421784.4777 accuracy with a standard deviation of 78579.8286\n",
            "Ridge() -21421784.4693 accuracy with a standard deviation of 78579.8239\n",
            "Lasso() -21421802.6517 accuracy with a standard deviation of 78575.1712\n",
            "DecisionTreeRegressor(random_state=0) -11154187.6703 accuracy with a standard deviation of 29086.8365\n",
            "RandomForestRegressor(random_state=0) -9316216.0698 accuracy with a standard deviation of 29372.4039\n"
          ]
        }
      ]
    },
    {
      "cell_type": "code",
      "source": [
        "#5 fold cross-validation R2\n",
        "for i in list_mod:\n",
        "  score_mse = cross_val_score(i, X, y,scoring='r2',cv=5)\n",
        "  score_mse.tolist()\n",
        "  print(i,\"%0.4f accuracy with a standard deviation of %0.4f\" % (score_mse.mean(), score_mse.std()))"
      ],
      "metadata": {
        "colab": {
          "base_uri": "https://localhost:8080/"
        },
        "id": "0mEZb7P2vaZO",
        "outputId": "1650f40a-d824-4ad5-9821-03d92338ba34"
      },
      "execution_count": 35,
      "outputs": [
        {
          "output_type": "stream",
          "name": "stdout",
          "text": [
            "LinearRegression() 0.1494 accuracy with a standard deviation of 0.0304\n",
            "Ridge() 0.1494 accuracy with a standard deviation of 0.0304\n",
            "Lasso() 0.1494 accuracy with a standard deviation of 0.0304\n",
            "DecisionTreeRegressor(random_state=0) 0.5571 accuracy with a standard deviation of 0.0150\n",
            "RandomForestRegressor(random_state=0) 0.6301 accuracy with a standard deviation of 0.0118\n"
          ]
        }
      ]
    },
    {
      "cell_type": "markdown",
      "source": [
        "## **Scaling Data**"
      ],
      "metadata": {
        "id": "DU77fLT8AL7u"
      }
    },
    {
      "cell_type": "markdown",
      "source": [
        "1.   โดยการทำการใช้ one-hot encoding กับตัวแปร City_Category แทนการใช้ label encoding\n",
        "2.   โดยการทำการ tranform data ให้อยู่ใน scale เดียวกันโดยใช้ MinMaxScaler\n",
        "\n",
        "โดยทำเป็น 2 กรณี\n",
        "\n",
        "\n",
        "1.   tranform data MinMaxScaler โดยประเมินประสิทธิภาพด้วย mse จาก model ต่างๆ\n",
        "2.   one-hot encoding กับตัวแปร City_Category ส่วนตัวแปร input อื่นใช้การ label endoing เช่นเดิม และ มีการ tranform data MinMaxScaler โดยประเมินประสิทธิภาพด้วย mse จาก model ต่างๆ\n",
        "\n",
        "\n",
        "\n"
      ],
      "metadata": {
        "id": "FBL20C5dAyBs"
      }
    },
    {
      "cell_type": "code",
      "source": [
        "df2 = df1.copy()"
      ],
      "metadata": {
        "id": "dE9H3KDhAoot"
      },
      "execution_count": 36,
      "outputs": []
    },
    {
      "cell_type": "code",
      "source": [
        "df2.head()"
      ],
      "metadata": {
        "id": "puVRNbWAAqYP",
        "colab": {
          "base_uri": "https://localhost:8080/",
          "height": 206
        },
        "outputId": "65de85ed-2c9f-43c8-da23-f2a83747eaab"
      },
      "execution_count": 37,
      "outputs": [
        {
          "output_type": "execute_result",
          "data": {
            "text/plain": [
              "   Gender  Age  Occupation  City_Category  Stay_In_Current_City_Years  \\\n",
              "0       0    0          10              0                           2   \n",
              "1       0    0          10              0                           2   \n",
              "2       0    0          10              0                           2   \n",
              "3       0    0          10              0                           2   \n",
              "4       1    6          16              2                           4   \n",
              "\n",
              "   Marital_Status  Product_Category_1  Product_Category_2  Product_Category_3  \\\n",
              "0               0                   3                 0.0                 0.0   \n",
              "1               0                   1                 6.0                14.0   \n",
              "2               0                  12                 0.0                 0.0   \n",
              "3               0                  12                14.0                 0.0   \n",
              "4               0                   8                 0.0                 0.0   \n",
              "\n",
              "   Purchase  \n",
              "0      8370  \n",
              "1     15200  \n",
              "2      1422  \n",
              "3      1057  \n",
              "4      7969  "
            ],
            "text/html": [
              "\n",
              "  <div id=\"df-61c4f8d0-2c42-42a6-96d3-558a11382358\">\n",
              "    <div class=\"colab-df-container\">\n",
              "      <div>\n",
              "<style scoped>\n",
              "    .dataframe tbody tr th:only-of-type {\n",
              "        vertical-align: middle;\n",
              "    }\n",
              "\n",
              "    .dataframe tbody tr th {\n",
              "        vertical-align: top;\n",
              "    }\n",
              "\n",
              "    .dataframe thead th {\n",
              "        text-align: right;\n",
              "    }\n",
              "</style>\n",
              "<table border=\"1\" class=\"dataframe\">\n",
              "  <thead>\n",
              "    <tr style=\"text-align: right;\">\n",
              "      <th></th>\n",
              "      <th>Gender</th>\n",
              "      <th>Age</th>\n",
              "      <th>Occupation</th>\n",
              "      <th>City_Category</th>\n",
              "      <th>Stay_In_Current_City_Years</th>\n",
              "      <th>Marital_Status</th>\n",
              "      <th>Product_Category_1</th>\n",
              "      <th>Product_Category_2</th>\n",
              "      <th>Product_Category_3</th>\n",
              "      <th>Purchase</th>\n",
              "    </tr>\n",
              "  </thead>\n",
              "  <tbody>\n",
              "    <tr>\n",
              "      <th>0</th>\n",
              "      <td>0</td>\n",
              "      <td>0</td>\n",
              "      <td>10</td>\n",
              "      <td>0</td>\n",
              "      <td>2</td>\n",
              "      <td>0</td>\n",
              "      <td>3</td>\n",
              "      <td>0.0</td>\n",
              "      <td>0.0</td>\n",
              "      <td>8370</td>\n",
              "    </tr>\n",
              "    <tr>\n",
              "      <th>1</th>\n",
              "      <td>0</td>\n",
              "      <td>0</td>\n",
              "      <td>10</td>\n",
              "      <td>0</td>\n",
              "      <td>2</td>\n",
              "      <td>0</td>\n",
              "      <td>1</td>\n",
              "      <td>6.0</td>\n",
              "      <td>14.0</td>\n",
              "      <td>15200</td>\n",
              "    </tr>\n",
              "    <tr>\n",
              "      <th>2</th>\n",
              "      <td>0</td>\n",
              "      <td>0</td>\n",
              "      <td>10</td>\n",
              "      <td>0</td>\n",
              "      <td>2</td>\n",
              "      <td>0</td>\n",
              "      <td>12</td>\n",
              "      <td>0.0</td>\n",
              "      <td>0.0</td>\n",
              "      <td>1422</td>\n",
              "    </tr>\n",
              "    <tr>\n",
              "      <th>3</th>\n",
              "      <td>0</td>\n",
              "      <td>0</td>\n",
              "      <td>10</td>\n",
              "      <td>0</td>\n",
              "      <td>2</td>\n",
              "      <td>0</td>\n",
              "      <td>12</td>\n",
              "      <td>14.0</td>\n",
              "      <td>0.0</td>\n",
              "      <td>1057</td>\n",
              "    </tr>\n",
              "    <tr>\n",
              "      <th>4</th>\n",
              "      <td>1</td>\n",
              "      <td>6</td>\n",
              "      <td>16</td>\n",
              "      <td>2</td>\n",
              "      <td>4</td>\n",
              "      <td>0</td>\n",
              "      <td>8</td>\n",
              "      <td>0.0</td>\n",
              "      <td>0.0</td>\n",
              "      <td>7969</td>\n",
              "    </tr>\n",
              "  </tbody>\n",
              "</table>\n",
              "</div>\n",
              "      <button class=\"colab-df-convert\" onclick=\"convertToInteractive('df-61c4f8d0-2c42-42a6-96d3-558a11382358')\"\n",
              "              title=\"Convert this dataframe to an interactive table.\"\n",
              "              style=\"display:none;\">\n",
              "        \n",
              "  <svg xmlns=\"http://www.w3.org/2000/svg\" height=\"24px\"viewBox=\"0 0 24 24\"\n",
              "       width=\"24px\">\n",
              "    <path d=\"M0 0h24v24H0V0z\" fill=\"none\"/>\n",
              "    <path d=\"M18.56 5.44l.94 2.06.94-2.06 2.06-.94-2.06-.94-.94-2.06-.94 2.06-2.06.94zm-11 1L8.5 8.5l.94-2.06 2.06-.94-2.06-.94L8.5 2.5l-.94 2.06-2.06.94zm10 10l.94 2.06.94-2.06 2.06-.94-2.06-.94-.94-2.06-.94 2.06-2.06.94z\"/><path d=\"M17.41 7.96l-1.37-1.37c-.4-.4-.92-.59-1.43-.59-.52 0-1.04.2-1.43.59L10.3 9.45l-7.72 7.72c-.78.78-.78 2.05 0 2.83L4 21.41c.39.39.9.59 1.41.59.51 0 1.02-.2 1.41-.59l7.78-7.78 2.81-2.81c.8-.78.8-2.07 0-2.86zM5.41 20L4 18.59l7.72-7.72 1.47 1.35L5.41 20z\"/>\n",
              "  </svg>\n",
              "      </button>\n",
              "      \n",
              "  <style>\n",
              "    .colab-df-container {\n",
              "      display:flex;\n",
              "      flex-wrap:wrap;\n",
              "      gap: 12px;\n",
              "    }\n",
              "\n",
              "    .colab-df-convert {\n",
              "      background-color: #E8F0FE;\n",
              "      border: none;\n",
              "      border-radius: 50%;\n",
              "      cursor: pointer;\n",
              "      display: none;\n",
              "      fill: #1967D2;\n",
              "      height: 32px;\n",
              "      padding: 0 0 0 0;\n",
              "      width: 32px;\n",
              "    }\n",
              "\n",
              "    .colab-df-convert:hover {\n",
              "      background-color: #E2EBFA;\n",
              "      box-shadow: 0px 1px 2px rgba(60, 64, 67, 0.3), 0px 1px 3px 1px rgba(60, 64, 67, 0.15);\n",
              "      fill: #174EA6;\n",
              "    }\n",
              "\n",
              "    [theme=dark] .colab-df-convert {\n",
              "      background-color: #3B4455;\n",
              "      fill: #D2E3FC;\n",
              "    }\n",
              "\n",
              "    [theme=dark] .colab-df-convert:hover {\n",
              "      background-color: #434B5C;\n",
              "      box-shadow: 0px 1px 3px 1px rgba(0, 0, 0, 0.15);\n",
              "      filter: drop-shadow(0px 1px 2px rgba(0, 0, 0, 0.3));\n",
              "      fill: #FFFFFF;\n",
              "    }\n",
              "  </style>\n",
              "\n",
              "      <script>\n",
              "        const buttonEl =\n",
              "          document.querySelector('#df-61c4f8d0-2c42-42a6-96d3-558a11382358 button.colab-df-convert');\n",
              "        buttonEl.style.display =\n",
              "          google.colab.kernel.accessAllowed ? 'block' : 'none';\n",
              "\n",
              "        async function convertToInteractive(key) {\n",
              "          const element = document.querySelector('#df-61c4f8d0-2c42-42a6-96d3-558a11382358');\n",
              "          const dataTable =\n",
              "            await google.colab.kernel.invokeFunction('convertToInteractive',\n",
              "                                                     [key], {});\n",
              "          if (!dataTable) return;\n",
              "\n",
              "          const docLinkHtml = 'Like what you see? Visit the ' +\n",
              "            '<a target=\"_blank\" href=https://colab.research.google.com/notebooks/data_table.ipynb>data table notebook</a>'\n",
              "            + ' to learn more about interactive tables.';\n",
              "          element.innerHTML = '';\n",
              "          dataTable['output_type'] = 'display_data';\n",
              "          await google.colab.output.renderOutput(dataTable, element);\n",
              "          const docLink = document.createElement('div');\n",
              "          docLink.innerHTML = docLinkHtml;\n",
              "          element.appendChild(docLink);\n",
              "        }\n",
              "      </script>\n",
              "    </div>\n",
              "  </div>\n",
              "  "
            ]
          },
          "metadata": {},
          "execution_count": 37
        }
      ]
    },
    {
      "cell_type": "code",
      "source": [
        "df2.info()"
      ],
      "metadata": {
        "id": "r_iNY4AQA8-U",
        "colab": {
          "base_uri": "https://localhost:8080/"
        },
        "outputId": "235b62fe-c932-4d4f-fa5a-6f649042db32"
      },
      "execution_count": 38,
      "outputs": [
        {
          "output_type": "stream",
          "name": "stdout",
          "text": [
            "<class 'pandas.core.frame.DataFrame'>\n",
            "RangeIndex: 550068 entries, 0 to 550067\n",
            "Data columns (total 10 columns):\n",
            " #   Column                      Non-Null Count   Dtype  \n",
            "---  ------                      --------------   -----  \n",
            " 0   Gender                      550068 non-null  int64  \n",
            " 1   Age                         550068 non-null  int64  \n",
            " 2   Occupation                  550068 non-null  int64  \n",
            " 3   City_Category               550068 non-null  int64  \n",
            " 4   Stay_In_Current_City_Years  550068 non-null  int64  \n",
            " 5   Marital_Status              550068 non-null  int64  \n",
            " 6   Product_Category_1          550068 non-null  int64  \n",
            " 7   Product_Category_2          550068 non-null  float64\n",
            " 8   Product_Category_3          550068 non-null  float64\n",
            " 9   Purchase                    550068 non-null  int64  \n",
            "dtypes: float64(2), int64(8)\n",
            "memory usage: 42.0 MB\n"
          ]
        }
      ]
    },
    {
      "cell_type": "code",
      "source": [
        "from sklearn.preprocessing import MinMaxScaler\n",
        "import numpy as np"
      ],
      "metadata": {
        "id": "V4IF7hY3tkbR"
      },
      "execution_count": 39,
      "outputs": []
    },
    {
      "cell_type": "code",
      "source": [
        "df2 = df2.astype('float64')\n",
        "# normalize features\n",
        "scaler = preprocessing.MinMaxScaler(feature_range=(0, 1))"
      ],
      "metadata": {
        "id": "TmDWc8hR_yPi"
      },
      "execution_count": 40,
      "outputs": []
    },
    {
      "cell_type": "code",
      "source": [
        "X_numpy = X.to_numpy()\n",
        "y_numpy = y.to_numpy()"
      ],
      "metadata": {
        "id": "n4XfSruY_1GU"
      },
      "execution_count": 41,
      "outputs": []
    },
    {
      "cell_type": "code",
      "source": [
        "scaler_x = scaler.fit(X_numpy.reshape(-1,9))\n",
        "scaler_y = scaler.fit(y_numpy.reshape(-1,1))"
      ],
      "metadata": {
        "id": "N3s4iIRX-OZj"
      },
      "execution_count": 42,
      "outputs": []
    },
    {
      "cell_type": "code",
      "source": [
        "scaled_test_x = scaler_x.fit_transform(X_numpy.reshape(-1,9))\n",
        "scaled_test_y = scaler_y.fit_transform(y_numpy.reshape(-1,1))"
      ],
      "metadata": {
        "id": "obWm6nPV-aEU"
      },
      "execution_count": 43,
      "outputs": []
    },
    {
      "cell_type": "code",
      "source": [
        "scaled_data = np.concatenate((scaled_test_x,scaled_test_y),axis=1)"
      ],
      "metadata": {
        "id": "s_cqQhCNDPYD"
      },
      "execution_count": 44,
      "outputs": []
    },
    {
      "cell_type": "code",
      "source": [
        "df_scaled_data = pd.DataFrame(scaled_data, columns = df1.columns)"
      ],
      "metadata": {
        "id": "xvbdBQcVDyYF"
      },
      "execution_count": 45,
      "outputs": []
    },
    {
      "cell_type": "code",
      "source": [
        "df_scaled_data.head()"
      ],
      "metadata": {
        "colab": {
          "base_uri": "https://localhost:8080/",
          "height": 206
        },
        "id": "5oARroz4D9S7",
        "outputId": "eabd18da-1bd1-4796-cd75-d09c5d8dd8e3"
      },
      "execution_count": 46,
      "outputs": [
        {
          "output_type": "execute_result",
          "data": {
            "text/plain": [
              "   Gender  Age  Occupation  City_Category  Stay_In_Current_City_Years  \\\n",
              "0     0.0  0.0         0.5            0.0                         0.5   \n",
              "1     0.0  0.0         0.5            0.0                         0.5   \n",
              "2     0.0  0.0         0.5            0.0                         0.5   \n",
              "3     0.0  0.0         0.5            0.0                         0.5   \n",
              "4     1.0  1.0         0.8            1.0                         1.0   \n",
              "\n",
              "   Marital_Status  Product_Category_1  Product_Category_2  Product_Category_3  \\\n",
              "0             0.0            0.105263            0.000000            0.000000   \n",
              "1             0.0            0.000000            0.333333            0.777778   \n",
              "2             0.0            0.578947            0.000000            0.000000   \n",
              "3             0.0            0.578947            0.777778            0.000000   \n",
              "4             0.0            0.368421            0.000000            0.000000   \n",
              "\n",
              "   Purchase  \n",
              "0  0.348992  \n",
              "1  0.634181  \n",
              "2  0.058875  \n",
              "3  0.043634  \n",
              "4  0.332248  "
            ],
            "text/html": [
              "\n",
              "  <div id=\"df-3f972632-98f2-4e6d-b4c2-c842956729b9\">\n",
              "    <div class=\"colab-df-container\">\n",
              "      <div>\n",
              "<style scoped>\n",
              "    .dataframe tbody tr th:only-of-type {\n",
              "        vertical-align: middle;\n",
              "    }\n",
              "\n",
              "    .dataframe tbody tr th {\n",
              "        vertical-align: top;\n",
              "    }\n",
              "\n",
              "    .dataframe thead th {\n",
              "        text-align: right;\n",
              "    }\n",
              "</style>\n",
              "<table border=\"1\" class=\"dataframe\">\n",
              "  <thead>\n",
              "    <tr style=\"text-align: right;\">\n",
              "      <th></th>\n",
              "      <th>Gender</th>\n",
              "      <th>Age</th>\n",
              "      <th>Occupation</th>\n",
              "      <th>City_Category</th>\n",
              "      <th>Stay_In_Current_City_Years</th>\n",
              "      <th>Marital_Status</th>\n",
              "      <th>Product_Category_1</th>\n",
              "      <th>Product_Category_2</th>\n",
              "      <th>Product_Category_3</th>\n",
              "      <th>Purchase</th>\n",
              "    </tr>\n",
              "  </thead>\n",
              "  <tbody>\n",
              "    <tr>\n",
              "      <th>0</th>\n",
              "      <td>0.0</td>\n",
              "      <td>0.0</td>\n",
              "      <td>0.5</td>\n",
              "      <td>0.0</td>\n",
              "      <td>0.5</td>\n",
              "      <td>0.0</td>\n",
              "      <td>0.105263</td>\n",
              "      <td>0.000000</td>\n",
              "      <td>0.000000</td>\n",
              "      <td>0.348992</td>\n",
              "    </tr>\n",
              "    <tr>\n",
              "      <th>1</th>\n",
              "      <td>0.0</td>\n",
              "      <td>0.0</td>\n",
              "      <td>0.5</td>\n",
              "      <td>0.0</td>\n",
              "      <td>0.5</td>\n",
              "      <td>0.0</td>\n",
              "      <td>0.000000</td>\n",
              "      <td>0.333333</td>\n",
              "      <td>0.777778</td>\n",
              "      <td>0.634181</td>\n",
              "    </tr>\n",
              "    <tr>\n",
              "      <th>2</th>\n",
              "      <td>0.0</td>\n",
              "      <td>0.0</td>\n",
              "      <td>0.5</td>\n",
              "      <td>0.0</td>\n",
              "      <td>0.5</td>\n",
              "      <td>0.0</td>\n",
              "      <td>0.578947</td>\n",
              "      <td>0.000000</td>\n",
              "      <td>0.000000</td>\n",
              "      <td>0.058875</td>\n",
              "    </tr>\n",
              "    <tr>\n",
              "      <th>3</th>\n",
              "      <td>0.0</td>\n",
              "      <td>0.0</td>\n",
              "      <td>0.5</td>\n",
              "      <td>0.0</td>\n",
              "      <td>0.5</td>\n",
              "      <td>0.0</td>\n",
              "      <td>0.578947</td>\n",
              "      <td>0.777778</td>\n",
              "      <td>0.000000</td>\n",
              "      <td>0.043634</td>\n",
              "    </tr>\n",
              "    <tr>\n",
              "      <th>4</th>\n",
              "      <td>1.0</td>\n",
              "      <td>1.0</td>\n",
              "      <td>0.8</td>\n",
              "      <td>1.0</td>\n",
              "      <td>1.0</td>\n",
              "      <td>0.0</td>\n",
              "      <td>0.368421</td>\n",
              "      <td>0.000000</td>\n",
              "      <td>0.000000</td>\n",
              "      <td>0.332248</td>\n",
              "    </tr>\n",
              "  </tbody>\n",
              "</table>\n",
              "</div>\n",
              "      <button class=\"colab-df-convert\" onclick=\"convertToInteractive('df-3f972632-98f2-4e6d-b4c2-c842956729b9')\"\n",
              "              title=\"Convert this dataframe to an interactive table.\"\n",
              "              style=\"display:none;\">\n",
              "        \n",
              "  <svg xmlns=\"http://www.w3.org/2000/svg\" height=\"24px\"viewBox=\"0 0 24 24\"\n",
              "       width=\"24px\">\n",
              "    <path d=\"M0 0h24v24H0V0z\" fill=\"none\"/>\n",
              "    <path d=\"M18.56 5.44l.94 2.06.94-2.06 2.06-.94-2.06-.94-.94-2.06-.94 2.06-2.06.94zm-11 1L8.5 8.5l.94-2.06 2.06-.94-2.06-.94L8.5 2.5l-.94 2.06-2.06.94zm10 10l.94 2.06.94-2.06 2.06-.94-2.06-.94-.94-2.06-.94 2.06-2.06.94z\"/><path d=\"M17.41 7.96l-1.37-1.37c-.4-.4-.92-.59-1.43-.59-.52 0-1.04.2-1.43.59L10.3 9.45l-7.72 7.72c-.78.78-.78 2.05 0 2.83L4 21.41c.39.39.9.59 1.41.59.51 0 1.02-.2 1.41-.59l7.78-7.78 2.81-2.81c.8-.78.8-2.07 0-2.86zM5.41 20L4 18.59l7.72-7.72 1.47 1.35L5.41 20z\"/>\n",
              "  </svg>\n",
              "      </button>\n",
              "      \n",
              "  <style>\n",
              "    .colab-df-container {\n",
              "      display:flex;\n",
              "      flex-wrap:wrap;\n",
              "      gap: 12px;\n",
              "    }\n",
              "\n",
              "    .colab-df-convert {\n",
              "      background-color: #E8F0FE;\n",
              "      border: none;\n",
              "      border-radius: 50%;\n",
              "      cursor: pointer;\n",
              "      display: none;\n",
              "      fill: #1967D2;\n",
              "      height: 32px;\n",
              "      padding: 0 0 0 0;\n",
              "      width: 32px;\n",
              "    }\n",
              "\n",
              "    .colab-df-convert:hover {\n",
              "      background-color: #E2EBFA;\n",
              "      box-shadow: 0px 1px 2px rgba(60, 64, 67, 0.3), 0px 1px 3px 1px rgba(60, 64, 67, 0.15);\n",
              "      fill: #174EA6;\n",
              "    }\n",
              "\n",
              "    [theme=dark] .colab-df-convert {\n",
              "      background-color: #3B4455;\n",
              "      fill: #D2E3FC;\n",
              "    }\n",
              "\n",
              "    [theme=dark] .colab-df-convert:hover {\n",
              "      background-color: #434B5C;\n",
              "      box-shadow: 0px 1px 3px 1px rgba(0, 0, 0, 0.15);\n",
              "      filter: drop-shadow(0px 1px 2px rgba(0, 0, 0, 0.3));\n",
              "      fill: #FFFFFF;\n",
              "    }\n",
              "  </style>\n",
              "\n",
              "      <script>\n",
              "        const buttonEl =\n",
              "          document.querySelector('#df-3f972632-98f2-4e6d-b4c2-c842956729b9 button.colab-df-convert');\n",
              "        buttonEl.style.display =\n",
              "          google.colab.kernel.accessAllowed ? 'block' : 'none';\n",
              "\n",
              "        async function convertToInteractive(key) {\n",
              "          const element = document.querySelector('#df-3f972632-98f2-4e6d-b4c2-c842956729b9');\n",
              "          const dataTable =\n",
              "            await google.colab.kernel.invokeFunction('convertToInteractive',\n",
              "                                                     [key], {});\n",
              "          if (!dataTable) return;\n",
              "\n",
              "          const docLinkHtml = 'Like what you see? Visit the ' +\n",
              "            '<a target=\"_blank\" href=https://colab.research.google.com/notebooks/data_table.ipynb>data table notebook</a>'\n",
              "            + ' to learn more about interactive tables.';\n",
              "          element.innerHTML = '';\n",
              "          dataTable['output_type'] = 'display_data';\n",
              "          await google.colab.output.renderOutput(dataTable, element);\n",
              "          const docLink = document.createElement('div');\n",
              "          docLink.innerHTML = docLinkHtml;\n",
              "          element.appendChild(docLink);\n",
              "        }\n",
              "      </script>\n",
              "    </div>\n",
              "  </div>\n",
              "  "
            ]
          },
          "metadata": {},
          "execution_count": 46
        }
      ]
    },
    {
      "cell_type": "code",
      "source": [
        "# export file scaled\n",
        "pd.DataFrame(df_scaled_data).to_csv(path+\"scaled_data_1.csv\")"
      ],
      "metadata": {
        "id": "ZBseZlTvU6o3"
      },
      "execution_count": 47,
      "outputs": []
    },
    {
      "cell_type": "code",
      "source": [
        "print(scaled_test_x.shape)\n",
        "print(scaled_test_y.shape)"
      ],
      "metadata": {
        "id": "HdQJBfGzB37V",
        "colab": {
          "base_uri": "https://localhost:8080/"
        },
        "outputId": "1caf79ef-20d8-4cef-b8e9-6aa876b2722e"
      },
      "execution_count": 48,
      "outputs": [
        {
          "output_type": "stream",
          "name": "stdout",
          "text": [
            "(550068, 9)\n",
            "(550068, 1)\n"
          ]
        }
      ]
    },
    {
      "cell_type": "code",
      "source": [
        "X_train_sc, X_test_sc, y_train_sc, y_test_sc = train_test_split(scaled_test_x, scaled_test_y, test_size=0.25,random_state=42)"
      ],
      "metadata": {
        "id": "Y46nT75OB53V"
      },
      "execution_count": 49,
      "outputs": []
    },
    {
      "cell_type": "code",
      "source": [
        "print(f'training features: {X_train_sc.shape}')\n",
        "print(f'training label: {y_train_sc.shape}')\n",
        "print(f'test features: {X_test_sc.shape}')\n",
        "print(f'test label: {y_test_sc.shape}')"
      ],
      "metadata": {
        "id": "vhlF5wlVCQLT",
        "colab": {
          "base_uri": "https://localhost:8080/"
        },
        "outputId": "1684345f-8f1b-4a67-bac5-d09a73c880a3"
      },
      "execution_count": 50,
      "outputs": [
        {
          "output_type": "stream",
          "name": "stdout",
          "text": [
            "training features: (412551, 9)\n",
            "training label: (412551, 1)\n",
            "test features: (137517, 9)\n",
            "test label: (137517, 1)\n"
          ]
        }
      ]
    },
    {
      "cell_type": "code",
      "source": [
        "import warnings\n",
        "from sklearn.exceptions import DataConversionWarning\n",
        "warnings.filterwarnings(action='ignore', category=DataConversionWarning)"
      ],
      "metadata": {
        "id": "IQubtMgBMzeo"
      },
      "execution_count": 51,
      "outputs": []
    },
    {
      "cell_type": "code",
      "source": [
        "# ทดสอบค่า mse หลังจาก rescale data และ ค่า mse ทดสอบโดย inverse ค่า y predict กับ y test\n",
        "print('calculate MSE Afrer inverse scale')\n",
        "# linear regression\n",
        "model_reg = LinearRegression()\n",
        "model_reg.fit(X_train_sc, y_train_sc)\n",
        "y_pred_reg = model_reg.predict(X_test_sc)\n",
        "inv_y_pred_reg = scaler_y.inverse_transform(y_pred_reg.reshape(-1,1))\n",
        "inv_y_test = scaler_y.inverse_transform(y_test_sc)\n",
        "mse_reg = mean_squared_error(y_test, inv_y_pred_reg)\n",
        "print('MSE of Linear Regression:', mse_reg)\n",
        "#print(inv_y_pred_reg)\n",
        "\n",
        "# ridge regression\n",
        "model_rid = Ridge()\n",
        "model_rid.fit(X_train_sc, y_train_sc)\n",
        "y_pred_rid = model_rid.predict(X_test_sc)\n",
        "inv_y_pred_rid = scaler_y.inverse_transform(y_pred_rid)\n",
        "inv_y_test = scaler_y.inverse_transform(y_test_sc)\n",
        "mse_rid = mean_squared_error(y_test, inv_y_pred_rid)\n",
        "print('MSE of Ridge Regression:', mse_rid)\n",
        "\n",
        "# lasso regression\n",
        "model_las = linear_model.Lasso()\n",
        "model_las.fit(X_train_sc, y_train_sc)\n",
        "y_pred_las = model_las.predict(X_test_sc)\n",
        "inv_y_pred_las = scaler_y.inverse_transform(y_pred_las.reshape(-1,1))\n",
        "inv_y_test = scaler_y.inverse_transform(y_test_sc)\n",
        "mse_las = mean_squared_error(y_test, inv_y_pred_las)\n",
        "print('MSE of Lasso Regression:', mse_las)\n",
        "\n",
        "# Decision Tree Regressor\n",
        "regressor = DecisionTreeRegressor(random_state=0)\n",
        "regressor.fit(X_train_sc, y_train_sc)\n",
        "y_pred_dtr = regressor.predict(X_test_sc)\n",
        "inv_y_pred_dtr = scaler_y.inverse_transform(y_pred_dtr.reshape(-1,1))\n",
        "inv_y_test = scaler_y.inverse_transform(y_test_sc)\n",
        "mse_dtr = mean_squared_error(y_test, inv_y_pred_dtr)\n",
        "print('MSE of Decision Tree Regressor:', mse_dtr)\n",
        "\n",
        "#Random Forest Regressor\n",
        "regr = RandomForestRegressor(random_state=0)\n",
        "regr.fit(X_train_sc, y_train_sc)\n",
        "y_pred_regr = regr.predict(X_test_sc)\n",
        "inv_y_pred_regr = scaler_y.inverse_transform(y_pred_regr.reshape(-1,1))\n",
        "inv_y_test = scaler_y.inverse_transform(y_test_sc)\n",
        "mse_regr = mean_squared_error(y_test, inv_y_pred_regr)\n",
        "print('MSE of Random Forest Regressor:', mse_regr)"
      ],
      "metadata": {
        "colab": {
          "base_uri": "https://localhost:8080/"
        },
        "id": "CR4TK2-iI5y1",
        "outputId": "3522b1d8-22d0-493f-a52e-f9af63d80953"
      },
      "execution_count": 53,
      "outputs": [
        {
          "output_type": "stream",
          "name": "stdout",
          "text": [
            "calculate MSE Afrer inverse scale\n",
            "MSE of Linear Regression: 21355490.49592588\n",
            "MSE of Ridge Regression: 21355488.564214736\n",
            "MSE of Lasso Regression: 25154056.039056424\n",
            "MSE of Decision Tree Regressor: 11340903.929485302\n",
            "MSE of Random Forest Regressor: 9382204.646618672\n"
          ]
        }
      ]
    },
    {
      "cell_type": "markdown",
      "source": [
        "**tranform city variable to one-hot encoding**"
      ],
      "metadata": {
        "id": "ggP54khNoGC_"
      }
    },
    {
      "cell_type": "code",
      "source": [
        "from sklearn.preprocessing import OneHotEncoder"
      ],
      "metadata": {
        "id": "mkixc0v7wrrq"
      },
      "execution_count": 54,
      "outputs": []
    },
    {
      "cell_type": "code",
      "source": [
        "oe = OneHotEncoder()"
      ],
      "metadata": {
        "id": "eFkSLMZKozHl"
      },
      "execution_count": 55,
      "outputs": []
    },
    {
      "cell_type": "code",
      "source": [
        "df3 = pd.read_csv(path + \"train.csv\")"
      ],
      "metadata": {
        "id": "PgxtcjbC5446"
      },
      "execution_count": 56,
      "outputs": []
    },
    {
      "cell_type": "code",
      "source": [
        "oe.fit(np.array(df3['City_Category']).reshape(-1, 1))"
      ],
      "metadata": {
        "id": "IDt_1e0Y99BS",
        "colab": {
          "base_uri": "https://localhost:8080/"
        },
        "outputId": "2debc169-799e-47df-8862-09907a233f19"
      },
      "execution_count": 57,
      "outputs": [
        {
          "output_type": "execute_result",
          "data": {
            "text/plain": [
              "OneHotEncoder()"
            ]
          },
          "metadata": {},
          "execution_count": 57
        }
      ]
    },
    {
      "cell_type": "code",
      "source": [
        "dummies = oe.transform(np.array(df3['City_Category']).reshape(-1, 1)).toarray()"
      ],
      "metadata": {
        "id": "FdB39qEK_Dxw"
      },
      "execution_count": 58,
      "outputs": []
    },
    {
      "cell_type": "code",
      "source": [
        "dummies.shape"
      ],
      "metadata": {
        "id": "HCb2KiUl6Iwt",
        "colab": {
          "base_uri": "https://localhost:8080/"
        },
        "outputId": "c62eaddd-1c47-4700-fc11-d3ca1c2ed1a9"
      },
      "execution_count": 59,
      "outputs": [
        {
          "output_type": "execute_result",
          "data": {
            "text/plain": [
              "(550068, 3)"
            ]
          },
          "metadata": {},
          "execution_count": 59
        }
      ]
    },
    {
      "cell_type": "code",
      "source": [
        "encoded = oe.fit_transform(df3[['City_Category']])"
      ],
      "metadata": {
        "id": "75cd53pMBuzj"
      },
      "execution_count": 60,
      "outputs": []
    },
    {
      "cell_type": "code",
      "source": [
        "df3[oe.categories_[0]] = encoded.toarray()"
      ],
      "metadata": {
        "id": "jBzSZMGS_OOD"
      },
      "execution_count": 61,
      "outputs": []
    },
    {
      "cell_type": "code",
      "source": [
        "df3.drop(columns=['City_Category','User_ID','Product_ID'],inplace=True)"
      ],
      "metadata": {
        "id": "8ggEJkul_eyZ"
      },
      "execution_count": 62,
      "outputs": []
    },
    {
      "cell_type": "code",
      "source": [
        "df3.head()"
      ],
      "metadata": {
        "id": "KXedslaVDPLh",
        "colab": {
          "base_uri": "https://localhost:8080/",
          "height": 206
        },
        "outputId": "313764eb-ac8c-4b6b-b03e-1739741aef28"
      },
      "execution_count": 63,
      "outputs": [
        {
          "output_type": "execute_result",
          "data": {
            "text/plain": [
              "  Gender   Age  Occupation Stay_In_Current_City_Years  Marital_Status  \\\n",
              "0      F  0-17          10                          2               0   \n",
              "1      F  0-17          10                          2               0   \n",
              "2      F  0-17          10                          2               0   \n",
              "3      F  0-17          10                          2               0   \n",
              "4      M   55+          16                         4+               0   \n",
              "\n",
              "   Product_Category_1  Product_Category_2  Product_Category_3  Purchase    A  \\\n",
              "0                   3                 NaN                 NaN      8370  1.0   \n",
              "1                   1                 6.0                14.0     15200  1.0   \n",
              "2                  12                 NaN                 NaN      1422  1.0   \n",
              "3                  12                14.0                 NaN      1057  1.0   \n",
              "4                   8                 NaN                 NaN      7969  0.0   \n",
              "\n",
              "     B    C  \n",
              "0  0.0  0.0  \n",
              "1  0.0  0.0  \n",
              "2  0.0  0.0  \n",
              "3  0.0  0.0  \n",
              "4  0.0  1.0  "
            ],
            "text/html": [
              "\n",
              "  <div id=\"df-2d5ae174-e868-4b4f-81ab-88c389157975\">\n",
              "    <div class=\"colab-df-container\">\n",
              "      <div>\n",
              "<style scoped>\n",
              "    .dataframe tbody tr th:only-of-type {\n",
              "        vertical-align: middle;\n",
              "    }\n",
              "\n",
              "    .dataframe tbody tr th {\n",
              "        vertical-align: top;\n",
              "    }\n",
              "\n",
              "    .dataframe thead th {\n",
              "        text-align: right;\n",
              "    }\n",
              "</style>\n",
              "<table border=\"1\" class=\"dataframe\">\n",
              "  <thead>\n",
              "    <tr style=\"text-align: right;\">\n",
              "      <th></th>\n",
              "      <th>Gender</th>\n",
              "      <th>Age</th>\n",
              "      <th>Occupation</th>\n",
              "      <th>Stay_In_Current_City_Years</th>\n",
              "      <th>Marital_Status</th>\n",
              "      <th>Product_Category_1</th>\n",
              "      <th>Product_Category_2</th>\n",
              "      <th>Product_Category_3</th>\n",
              "      <th>Purchase</th>\n",
              "      <th>A</th>\n",
              "      <th>B</th>\n",
              "      <th>C</th>\n",
              "    </tr>\n",
              "  </thead>\n",
              "  <tbody>\n",
              "    <tr>\n",
              "      <th>0</th>\n",
              "      <td>F</td>\n",
              "      <td>0-17</td>\n",
              "      <td>10</td>\n",
              "      <td>2</td>\n",
              "      <td>0</td>\n",
              "      <td>3</td>\n",
              "      <td>NaN</td>\n",
              "      <td>NaN</td>\n",
              "      <td>8370</td>\n",
              "      <td>1.0</td>\n",
              "      <td>0.0</td>\n",
              "      <td>0.0</td>\n",
              "    </tr>\n",
              "    <tr>\n",
              "      <th>1</th>\n",
              "      <td>F</td>\n",
              "      <td>0-17</td>\n",
              "      <td>10</td>\n",
              "      <td>2</td>\n",
              "      <td>0</td>\n",
              "      <td>1</td>\n",
              "      <td>6.0</td>\n",
              "      <td>14.0</td>\n",
              "      <td>15200</td>\n",
              "      <td>1.0</td>\n",
              "      <td>0.0</td>\n",
              "      <td>0.0</td>\n",
              "    </tr>\n",
              "    <tr>\n",
              "      <th>2</th>\n",
              "      <td>F</td>\n",
              "      <td>0-17</td>\n",
              "      <td>10</td>\n",
              "      <td>2</td>\n",
              "      <td>0</td>\n",
              "      <td>12</td>\n",
              "      <td>NaN</td>\n",
              "      <td>NaN</td>\n",
              "      <td>1422</td>\n",
              "      <td>1.0</td>\n",
              "      <td>0.0</td>\n",
              "      <td>0.0</td>\n",
              "    </tr>\n",
              "    <tr>\n",
              "      <th>3</th>\n",
              "      <td>F</td>\n",
              "      <td>0-17</td>\n",
              "      <td>10</td>\n",
              "      <td>2</td>\n",
              "      <td>0</td>\n",
              "      <td>12</td>\n",
              "      <td>14.0</td>\n",
              "      <td>NaN</td>\n",
              "      <td>1057</td>\n",
              "      <td>1.0</td>\n",
              "      <td>0.0</td>\n",
              "      <td>0.0</td>\n",
              "    </tr>\n",
              "    <tr>\n",
              "      <th>4</th>\n",
              "      <td>M</td>\n",
              "      <td>55+</td>\n",
              "      <td>16</td>\n",
              "      <td>4+</td>\n",
              "      <td>0</td>\n",
              "      <td>8</td>\n",
              "      <td>NaN</td>\n",
              "      <td>NaN</td>\n",
              "      <td>7969</td>\n",
              "      <td>0.0</td>\n",
              "      <td>0.0</td>\n",
              "      <td>1.0</td>\n",
              "    </tr>\n",
              "  </tbody>\n",
              "</table>\n",
              "</div>\n",
              "      <button class=\"colab-df-convert\" onclick=\"convertToInteractive('df-2d5ae174-e868-4b4f-81ab-88c389157975')\"\n",
              "              title=\"Convert this dataframe to an interactive table.\"\n",
              "              style=\"display:none;\">\n",
              "        \n",
              "  <svg xmlns=\"http://www.w3.org/2000/svg\" height=\"24px\"viewBox=\"0 0 24 24\"\n",
              "       width=\"24px\">\n",
              "    <path d=\"M0 0h24v24H0V0z\" fill=\"none\"/>\n",
              "    <path d=\"M18.56 5.44l.94 2.06.94-2.06 2.06-.94-2.06-.94-.94-2.06-.94 2.06-2.06.94zm-11 1L8.5 8.5l.94-2.06 2.06-.94-2.06-.94L8.5 2.5l-.94 2.06-2.06.94zm10 10l.94 2.06.94-2.06 2.06-.94-2.06-.94-.94-2.06-.94 2.06-2.06.94z\"/><path d=\"M17.41 7.96l-1.37-1.37c-.4-.4-.92-.59-1.43-.59-.52 0-1.04.2-1.43.59L10.3 9.45l-7.72 7.72c-.78.78-.78 2.05 0 2.83L4 21.41c.39.39.9.59 1.41.59.51 0 1.02-.2 1.41-.59l7.78-7.78 2.81-2.81c.8-.78.8-2.07 0-2.86zM5.41 20L4 18.59l7.72-7.72 1.47 1.35L5.41 20z\"/>\n",
              "  </svg>\n",
              "      </button>\n",
              "      \n",
              "  <style>\n",
              "    .colab-df-container {\n",
              "      display:flex;\n",
              "      flex-wrap:wrap;\n",
              "      gap: 12px;\n",
              "    }\n",
              "\n",
              "    .colab-df-convert {\n",
              "      background-color: #E8F0FE;\n",
              "      border: none;\n",
              "      border-radius: 50%;\n",
              "      cursor: pointer;\n",
              "      display: none;\n",
              "      fill: #1967D2;\n",
              "      height: 32px;\n",
              "      padding: 0 0 0 0;\n",
              "      width: 32px;\n",
              "    }\n",
              "\n",
              "    .colab-df-convert:hover {\n",
              "      background-color: #E2EBFA;\n",
              "      box-shadow: 0px 1px 2px rgba(60, 64, 67, 0.3), 0px 1px 3px 1px rgba(60, 64, 67, 0.15);\n",
              "      fill: #174EA6;\n",
              "    }\n",
              "\n",
              "    [theme=dark] .colab-df-convert {\n",
              "      background-color: #3B4455;\n",
              "      fill: #D2E3FC;\n",
              "    }\n",
              "\n",
              "    [theme=dark] .colab-df-convert:hover {\n",
              "      background-color: #434B5C;\n",
              "      box-shadow: 0px 1px 3px 1px rgba(0, 0, 0, 0.15);\n",
              "      filter: drop-shadow(0px 1px 2px rgba(0, 0, 0, 0.3));\n",
              "      fill: #FFFFFF;\n",
              "    }\n",
              "  </style>\n",
              "\n",
              "      <script>\n",
              "        const buttonEl =\n",
              "          document.querySelector('#df-2d5ae174-e868-4b4f-81ab-88c389157975 button.colab-df-convert');\n",
              "        buttonEl.style.display =\n",
              "          google.colab.kernel.accessAllowed ? 'block' : 'none';\n",
              "\n",
              "        async function convertToInteractive(key) {\n",
              "          const element = document.querySelector('#df-2d5ae174-e868-4b4f-81ab-88c389157975');\n",
              "          const dataTable =\n",
              "            await google.colab.kernel.invokeFunction('convertToInteractive',\n",
              "                                                     [key], {});\n",
              "          if (!dataTable) return;\n",
              "\n",
              "          const docLinkHtml = 'Like what you see? Visit the ' +\n",
              "            '<a target=\"_blank\" href=https://colab.research.google.com/notebooks/data_table.ipynb>data table notebook</a>'\n",
              "            + ' to learn more about interactive tables.';\n",
              "          element.innerHTML = '';\n",
              "          dataTable['output_type'] = 'display_data';\n",
              "          await google.colab.output.renderOutput(dataTable, element);\n",
              "          const docLink = document.createElement('div');\n",
              "          docLink.innerHTML = docLinkHtml;\n",
              "          element.appendChild(docLink);\n",
              "        }\n",
              "      </script>\n",
              "    </div>\n",
              "  </div>\n",
              "  "
            ]
          },
          "metadata": {},
          "execution_count": 63
        }
      ]
    },
    {
      "cell_type": "code",
      "source": [
        "df3['Gender'] = le.fit_transform(df['Gender'])\n",
        "df3['Age'] = le.fit_transform(df['Age'])\n",
        "df3['Stay_In_Current_City_Years'] = le.fit_transform(df['Stay_In_Current_City_Years'])"
      ],
      "metadata": {
        "id": "RI53-SawCCLV"
      },
      "execution_count": 64,
      "outputs": []
    },
    {
      "cell_type": "code",
      "source": [
        "df3 = df3[['Gender', 'Age', 'Occupation', 'Stay_In_Current_City_Years','A', 'B', 'C',\n",
        "       'Marital_Status', 'Product_Category_1', 'Product_Category_2',\n",
        "       'Product_Category_3','Purchase']]"
      ],
      "metadata": {
        "id": "jcNOqeELDcFD"
      },
      "execution_count": 65,
      "outputs": []
    },
    {
      "cell_type": "code",
      "source": [
        "df3 = df3.rename(columns={'A':'City_A','B':'City_B','C':'City_C'})"
      ],
      "metadata": {
        "id": "d3ovw-rpDmFe"
      },
      "execution_count": 66,
      "outputs": []
    },
    {
      "cell_type": "code",
      "source": [
        "df3 = df3.fillna(0)"
      ],
      "metadata": {
        "id": "qdht2u0YFU3U"
      },
      "execution_count": 67,
      "outputs": []
    },
    {
      "cell_type": "code",
      "source": [
        "df3 = df3.astype('float64')"
      ],
      "metadata": {
        "id": "YaCV6GEsDxzd"
      },
      "execution_count": 68,
      "outputs": []
    },
    {
      "cell_type": "code",
      "source": [
        "df3.head()"
      ],
      "metadata": {
        "id": "an-yNvEtUWrN",
        "colab": {
          "base_uri": "https://localhost:8080/",
          "height": 206
        },
        "outputId": "b807bb2e-d263-4381-dc7b-63e2b9d2429f"
      },
      "execution_count": 69,
      "outputs": [
        {
          "output_type": "execute_result",
          "data": {
            "text/plain": [
              "   Gender  Age  Occupation  Stay_In_Current_City_Years  City_A  City_B  \\\n",
              "0     0.0  0.0        10.0                         2.0     1.0     0.0   \n",
              "1     0.0  0.0        10.0                         2.0     1.0     0.0   \n",
              "2     0.0  0.0        10.0                         2.0     1.0     0.0   \n",
              "3     0.0  0.0        10.0                         2.0     1.0     0.0   \n",
              "4     1.0  6.0        16.0                         4.0     0.0     0.0   \n",
              "\n",
              "   City_C  Marital_Status  Product_Category_1  Product_Category_2  \\\n",
              "0     0.0             0.0                 3.0                 0.0   \n",
              "1     0.0             0.0                 1.0                 6.0   \n",
              "2     0.0             0.0                12.0                 0.0   \n",
              "3     0.0             0.0                12.0                14.0   \n",
              "4     1.0             0.0                 8.0                 0.0   \n",
              "\n",
              "   Product_Category_3  Purchase  \n",
              "0                 0.0    8370.0  \n",
              "1                14.0   15200.0  \n",
              "2                 0.0    1422.0  \n",
              "3                 0.0    1057.0  \n",
              "4                 0.0    7969.0  "
            ],
            "text/html": [
              "\n",
              "  <div id=\"df-4c65c643-eff5-4cff-8d25-d20c3f0347a5\">\n",
              "    <div class=\"colab-df-container\">\n",
              "      <div>\n",
              "<style scoped>\n",
              "    .dataframe tbody tr th:only-of-type {\n",
              "        vertical-align: middle;\n",
              "    }\n",
              "\n",
              "    .dataframe tbody tr th {\n",
              "        vertical-align: top;\n",
              "    }\n",
              "\n",
              "    .dataframe thead th {\n",
              "        text-align: right;\n",
              "    }\n",
              "</style>\n",
              "<table border=\"1\" class=\"dataframe\">\n",
              "  <thead>\n",
              "    <tr style=\"text-align: right;\">\n",
              "      <th></th>\n",
              "      <th>Gender</th>\n",
              "      <th>Age</th>\n",
              "      <th>Occupation</th>\n",
              "      <th>Stay_In_Current_City_Years</th>\n",
              "      <th>City_A</th>\n",
              "      <th>City_B</th>\n",
              "      <th>City_C</th>\n",
              "      <th>Marital_Status</th>\n",
              "      <th>Product_Category_1</th>\n",
              "      <th>Product_Category_2</th>\n",
              "      <th>Product_Category_3</th>\n",
              "      <th>Purchase</th>\n",
              "    </tr>\n",
              "  </thead>\n",
              "  <tbody>\n",
              "    <tr>\n",
              "      <th>0</th>\n",
              "      <td>0.0</td>\n",
              "      <td>0.0</td>\n",
              "      <td>10.0</td>\n",
              "      <td>2.0</td>\n",
              "      <td>1.0</td>\n",
              "      <td>0.0</td>\n",
              "      <td>0.0</td>\n",
              "      <td>0.0</td>\n",
              "      <td>3.0</td>\n",
              "      <td>0.0</td>\n",
              "      <td>0.0</td>\n",
              "      <td>8370.0</td>\n",
              "    </tr>\n",
              "    <tr>\n",
              "      <th>1</th>\n",
              "      <td>0.0</td>\n",
              "      <td>0.0</td>\n",
              "      <td>10.0</td>\n",
              "      <td>2.0</td>\n",
              "      <td>1.0</td>\n",
              "      <td>0.0</td>\n",
              "      <td>0.0</td>\n",
              "      <td>0.0</td>\n",
              "      <td>1.0</td>\n",
              "      <td>6.0</td>\n",
              "      <td>14.0</td>\n",
              "      <td>15200.0</td>\n",
              "    </tr>\n",
              "    <tr>\n",
              "      <th>2</th>\n",
              "      <td>0.0</td>\n",
              "      <td>0.0</td>\n",
              "      <td>10.0</td>\n",
              "      <td>2.0</td>\n",
              "      <td>1.0</td>\n",
              "      <td>0.0</td>\n",
              "      <td>0.0</td>\n",
              "      <td>0.0</td>\n",
              "      <td>12.0</td>\n",
              "      <td>0.0</td>\n",
              "      <td>0.0</td>\n",
              "      <td>1422.0</td>\n",
              "    </tr>\n",
              "    <tr>\n",
              "      <th>3</th>\n",
              "      <td>0.0</td>\n",
              "      <td>0.0</td>\n",
              "      <td>10.0</td>\n",
              "      <td>2.0</td>\n",
              "      <td>1.0</td>\n",
              "      <td>0.0</td>\n",
              "      <td>0.0</td>\n",
              "      <td>0.0</td>\n",
              "      <td>12.0</td>\n",
              "      <td>14.0</td>\n",
              "      <td>0.0</td>\n",
              "      <td>1057.0</td>\n",
              "    </tr>\n",
              "    <tr>\n",
              "      <th>4</th>\n",
              "      <td>1.0</td>\n",
              "      <td>6.0</td>\n",
              "      <td>16.0</td>\n",
              "      <td>4.0</td>\n",
              "      <td>0.0</td>\n",
              "      <td>0.0</td>\n",
              "      <td>1.0</td>\n",
              "      <td>0.0</td>\n",
              "      <td>8.0</td>\n",
              "      <td>0.0</td>\n",
              "      <td>0.0</td>\n",
              "      <td>7969.0</td>\n",
              "    </tr>\n",
              "  </tbody>\n",
              "</table>\n",
              "</div>\n",
              "      <button class=\"colab-df-convert\" onclick=\"convertToInteractive('df-4c65c643-eff5-4cff-8d25-d20c3f0347a5')\"\n",
              "              title=\"Convert this dataframe to an interactive table.\"\n",
              "              style=\"display:none;\">\n",
              "        \n",
              "  <svg xmlns=\"http://www.w3.org/2000/svg\" height=\"24px\"viewBox=\"0 0 24 24\"\n",
              "       width=\"24px\">\n",
              "    <path d=\"M0 0h24v24H0V0z\" fill=\"none\"/>\n",
              "    <path d=\"M18.56 5.44l.94 2.06.94-2.06 2.06-.94-2.06-.94-.94-2.06-.94 2.06-2.06.94zm-11 1L8.5 8.5l.94-2.06 2.06-.94-2.06-.94L8.5 2.5l-.94 2.06-2.06.94zm10 10l.94 2.06.94-2.06 2.06-.94-2.06-.94-.94-2.06-.94 2.06-2.06.94z\"/><path d=\"M17.41 7.96l-1.37-1.37c-.4-.4-.92-.59-1.43-.59-.52 0-1.04.2-1.43.59L10.3 9.45l-7.72 7.72c-.78.78-.78 2.05 0 2.83L4 21.41c.39.39.9.59 1.41.59.51 0 1.02-.2 1.41-.59l7.78-7.78 2.81-2.81c.8-.78.8-2.07 0-2.86zM5.41 20L4 18.59l7.72-7.72 1.47 1.35L5.41 20z\"/>\n",
              "  </svg>\n",
              "      </button>\n",
              "      \n",
              "  <style>\n",
              "    .colab-df-container {\n",
              "      display:flex;\n",
              "      flex-wrap:wrap;\n",
              "      gap: 12px;\n",
              "    }\n",
              "\n",
              "    .colab-df-convert {\n",
              "      background-color: #E8F0FE;\n",
              "      border: none;\n",
              "      border-radius: 50%;\n",
              "      cursor: pointer;\n",
              "      display: none;\n",
              "      fill: #1967D2;\n",
              "      height: 32px;\n",
              "      padding: 0 0 0 0;\n",
              "      width: 32px;\n",
              "    }\n",
              "\n",
              "    .colab-df-convert:hover {\n",
              "      background-color: #E2EBFA;\n",
              "      box-shadow: 0px 1px 2px rgba(60, 64, 67, 0.3), 0px 1px 3px 1px rgba(60, 64, 67, 0.15);\n",
              "      fill: #174EA6;\n",
              "    }\n",
              "\n",
              "    [theme=dark] .colab-df-convert {\n",
              "      background-color: #3B4455;\n",
              "      fill: #D2E3FC;\n",
              "    }\n",
              "\n",
              "    [theme=dark] .colab-df-convert:hover {\n",
              "      background-color: #434B5C;\n",
              "      box-shadow: 0px 1px 3px 1px rgba(0, 0, 0, 0.15);\n",
              "      filter: drop-shadow(0px 1px 2px rgba(0, 0, 0, 0.3));\n",
              "      fill: #FFFFFF;\n",
              "    }\n",
              "  </style>\n",
              "\n",
              "      <script>\n",
              "        const buttonEl =\n",
              "          document.querySelector('#df-4c65c643-eff5-4cff-8d25-d20c3f0347a5 button.colab-df-convert');\n",
              "        buttonEl.style.display =\n",
              "          google.colab.kernel.accessAllowed ? 'block' : 'none';\n",
              "\n",
              "        async function convertToInteractive(key) {\n",
              "          const element = document.querySelector('#df-4c65c643-eff5-4cff-8d25-d20c3f0347a5');\n",
              "          const dataTable =\n",
              "            await google.colab.kernel.invokeFunction('convertToInteractive',\n",
              "                                                     [key], {});\n",
              "          if (!dataTable) return;\n",
              "\n",
              "          const docLinkHtml = 'Like what you see? Visit the ' +\n",
              "            '<a target=\"_blank\" href=https://colab.research.google.com/notebooks/data_table.ipynb>data table notebook</a>'\n",
              "            + ' to learn more about interactive tables.';\n",
              "          element.innerHTML = '';\n",
              "          dataTable['output_type'] = 'display_data';\n",
              "          await google.colab.output.renderOutput(dataTable, element);\n",
              "          const docLink = document.createElement('div');\n",
              "          docLink.innerHTML = docLinkHtml;\n",
              "          element.appendChild(docLink);\n",
              "        }\n",
              "      </script>\n",
              "    </div>\n",
              "  </div>\n",
              "  "
            ]
          },
          "metadata": {},
          "execution_count": 69
        }
      ]
    },
    {
      "cell_type": "code",
      "source": [
        "X_2 = df3.drop(\"Purchase\",axis=1)\n",
        "y_2 = df3[\"Purchase\"]"
      ],
      "metadata": {
        "id": "4-Mc63MjUMYV"
      },
      "execution_count": 70,
      "outputs": []
    },
    {
      "cell_type": "code",
      "source": [
        "X_2_numpy = X_2.to_numpy()\n",
        "y_2_numpy = y_2.to_numpy()\n",
        "\n",
        "scaler_x_2 = scaler.fit(X_2_numpy.reshape(-1,11))\n",
        "scaler_y_2 = scaler.fit(y_2_numpy.reshape(-1,1))"
      ],
      "metadata": {
        "id": "vKuFoNUDWLOW"
      },
      "execution_count": 71,
      "outputs": []
    },
    {
      "cell_type": "code",
      "source": [
        "X_2_numpy.reshape(-1,11)"
      ],
      "metadata": {
        "id": "HLCoc7XsWzcV",
        "colab": {
          "base_uri": "https://localhost:8080/"
        },
        "outputId": "c29042ec-e9dd-47a3-92a8-30a5c73bf294"
      },
      "execution_count": 72,
      "outputs": [
        {
          "output_type": "execute_result",
          "data": {
            "text/plain": [
              "array([[ 0.,  0., 10., ...,  3.,  0.,  0.],\n",
              "       [ 0.,  0., 10., ...,  1.,  6., 14.],\n",
              "       [ 0.,  0., 10., ..., 12.,  0.,  0.],\n",
              "       ...,\n",
              "       [ 0.,  2., 15., ..., 20.,  0.,  0.],\n",
              "       [ 0.,  6.,  1., ..., 20.,  0.,  0.],\n",
              "       [ 0.,  4.,  0., ..., 20.,  0.,  0.]])"
            ]
          },
          "metadata": {},
          "execution_count": 72
        }
      ]
    },
    {
      "cell_type": "code",
      "source": [
        "scaled_test_x_2 = scaler_x_2.fit_transform(X_2_numpy.reshape(-1,11))\n",
        "scaled_test_y_2 = scaler_y_2.fit_transform(y_2_numpy.reshape(-1,1))\n",
        "scaled_2_data = np.concatenate((scaled_test_x,scaled_test_y),axis=1)\n",
        "\n",
        "df_scaled_2_data = pd.DataFrame(scaled_2_data, columns = df1.columns)\n",
        "\n",
        "# export file scaled 2\n",
        "pd.DataFrame(df_scaled_2_data).to_csv(path+\"scaled_data_2.csv\")\n",
        "\n",
        "print(scaled_test_x_2.shape)\n",
        "print(scaled_test_y_2.shape)"
      ],
      "metadata": {
        "id": "HHPNVQ9PULOL",
        "colab": {
          "base_uri": "https://localhost:8080/"
        },
        "outputId": "53a2b8c7-7fb2-4f0b-cee5-cd61f9319a9c"
      },
      "execution_count": 73,
      "outputs": [
        {
          "output_type": "stream",
          "name": "stdout",
          "text": [
            "(550068, 11)\n",
            "(550068, 1)\n"
          ]
        }
      ]
    },
    {
      "cell_type": "code",
      "source": [
        "X_train_sc2, X_test_sc2, y_train_sc2, y_test_sc2 = train_test_split(scaled_test_x_2, scaled_test_y_2, test_size=0.25,random_state=42)"
      ],
      "metadata": {
        "id": "OQygEOsrEbN_"
      },
      "execution_count": 74,
      "outputs": []
    },
    {
      "cell_type": "code",
      "source": [
        "print(f'training features: {X_train_sc2.shape}')\n",
        "print(f'training label: {y_train_sc2.shape}')\n",
        "print(f'test features: {X_test_sc2.shape}')\n",
        "print(f'test label: {y_test_sc2.shape}')"
      ],
      "metadata": {
        "id": "FGuSxAt2EdkO",
        "colab": {
          "base_uri": "https://localhost:8080/"
        },
        "outputId": "843f87d3-64c8-4cd7-da02-5e7c7f8d1232"
      },
      "execution_count": 75,
      "outputs": [
        {
          "output_type": "stream",
          "name": "stdout",
          "text": [
            "training features: (412551, 11)\n",
            "training label: (412551, 1)\n",
            "test features: (137517, 11)\n",
            "test label: (137517, 1)\n"
          ]
        }
      ]
    },
    {
      "cell_type": "code",
      "source": [
        "# ทดสอบค่า mse หลังจาก rescale data และ ค่า mse ทดสอบโดย inverse ค่า y predict กับ y test\n",
        "print('calculate MSE Afrer inverse scale')\n",
        "# linear regression\n",
        "model_reg_2 = LinearRegression()\n",
        "model_reg_2.fit(X_train_sc2, y_train_sc2)\n",
        "y_pred_reg = model_reg_2.predict(X_test_sc2)\n",
        "inv_y_pred_reg = scaler_y_2.inverse_transform(y_pred_reg.reshape(-1,1))\n",
        "inv_y_test = scaler_y_2.inverse_transform(y_test_sc2)\n",
        "mse_reg_2 = mean_squared_error(y_test_sc2, inv_y_pred_reg)\n",
        "print('MSE of Linear Regression:', mse_reg_2)"
      ],
      "metadata": {
        "id": "mpVw0-dJt6g2",
        "colab": {
          "base_uri": "https://localhost:8080/"
        },
        "outputId": "1d95beaa-9224-403f-f6d7-5eb9d11753ee"
      },
      "execution_count": 76,
      "outputs": [
        {
          "output_type": "stream",
          "name": "stdout",
          "text": [
            "calculate MSE Afrer inverse scale\n",
            "MSE of Linear Regression: 89736752.22189729\n"
          ]
        }
      ]
    },
    {
      "cell_type": "code",
      "source": [
        "# ทดสอบค่า mse หลังจาก rescale data และ ค่า mse ทดสอบโดย inverse ค่า y predict กับ y test\n",
        "print('calculate MSE Afrer inverse scale')\n",
        "# linear regression\n",
        "model_reg_2 = LinearRegression()\n",
        "model_reg_2.fit(X_train_sc2, y_train_sc2)\n",
        "y_pred_reg = model_reg_2.predict(X_test_sc2)\n",
        "inv_y_pred_reg = scaler_y_2.inverse_transform(y_pred_reg.reshape(-1,1))\n",
        "inv_y_test = scaler_y_2.inverse_transform(y_test_sc2)\n",
        "mse_reg_2 = mean_squared_error(y_test, inv_y_pred_reg)\n",
        "print('MSE of Linear Regression:', mse_reg_2)\n",
        "\n",
        "# ridge regression\n",
        "model_rid_2 = Ridge()\n",
        "model_rid_2.fit(X_train_sc2, y_train_sc2)\n",
        "y_pred_rid = model_rid_2.predict(X_test_sc2)\n",
        "inv_y_pred_rid = scaler_y_2.inverse_transform(y_pred_rid.reshape(-1,1))\n",
        "inv_y_test = scaler_y_2.inverse_transform(y_test_sc2)\n",
        "mse_rid_2 = mean_squared_error(y_test, inv_y_pred_rid)\n",
        "print('MSE of Ridge Regression:', mse_rid_2)\n",
        "\n",
        "# lasso regression\n",
        "model_las_2 = linear_model.Lasso()\n",
        "model_las_2.fit(X_train_sc2, y_train_sc2)\n",
        "y_pred_las = model_las_2.predict(X_test_sc2)\n",
        "inv_y_pred_las = scaler_y_2.inverse_transform(y_pred_las.reshape(-1,1))\n",
        "inv_y_test = scaler_y_2.inverse_transform(y_test_sc2)\n",
        "mse_las_2 = mean_squared_error(y_test, inv_y_pred_las)\n",
        "print('MSE of Lasso Regression:', mse_las_2)\n",
        "\n",
        "# Decision Tree Regressor\n",
        "regressor_2 = DecisionTreeRegressor(random_state=0)\n",
        "regressor_2.fit(X_train_sc2, y_train_sc2)\n",
        "y_pred_dtr = regressor_2.predict(X_test_sc2)\n",
        "inv_y_pred_dtr = scaler_y_2.inverse_transform(y_pred_dtr.reshape(-1,1))\n",
        "inv_y_test = scaler_y_2.inverse_transform(y_test_sc2)\n",
        "mse_dtr_2 = mean_squared_error(y_test, inv_y_pred_dtr)\n",
        "print('MSE of Decision Tree Regressor:', mse_dtr_2)\n",
        "\n",
        "#Random Forest Regressor\n",
        "regr_2 = RandomForestRegressor(random_state=0)\n",
        "regr_2.fit(X_train_sc2, y_train_sc2)\n",
        "y_pred_regr = regr_2.predict(X_test_sc2)\n",
        "inv_y_pred_regr = scaler_y_2.inverse_transform(y_pred_regr.reshape(-1,1))\n",
        "inv_y_test = scaler_y_2.inverse_transform(y_test_sc2)\n",
        "mse_regr_2 = mean_squared_error(y_test, inv_y_pred_regr)\n",
        "print('MSE of Random Forest Regressor:', mse_regr_2)"
      ],
      "metadata": {
        "id": "w90tO2iGGRIM",
        "colab": {
          "base_uri": "https://localhost:8080/"
        },
        "outputId": "b884d6d5-1844-4e45-ce50-230e0e6ae65a"
      },
      "execution_count": 78,
      "outputs": [
        {
          "output_type": "stream",
          "name": "stdout",
          "text": [
            "calculate MSE Afrer inverse scale\n",
            "MSE of Linear Regression: 21349220.241090328\n",
            "MSE of Ridge Regression: 21349206.364871744\n",
            "MSE of Lasso Regression: 25154056.039056424\n",
            "MSE of Decision Tree Regressor: 11319678.638979636\n",
            "MSE of Random Forest Regressor: 9379004.188422274\n"
          ]
        }
      ]
    },
    {
      "cell_type": "markdown",
      "source": [
        "# **Result**"
      ],
      "metadata": {
        "id": "2T9wmCU_aHsR"
      }
    },
    {
      "cell_type": "markdown",
      "source": [
        "จะเห็นได้ว่าการทำ Scaling มีผลทำให้ MSE เปลี่ยนแปลงไปจากเดิม ผลดังนี้\n",
        "\n",
        "![model_compare.png](data:image/png;base64,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)\n",
        "\n",
        "\n"
      ],
      "metadata": {
        "id": "dEVvmFVYZ0K0"
      }
    },
    {
      "cell_type": "code",
      "source": [
        ""
      ],
      "metadata": {
        "id": "7P5VeWJotlUT"
      },
      "execution_count": null,
      "outputs": []
    }
  ]
}