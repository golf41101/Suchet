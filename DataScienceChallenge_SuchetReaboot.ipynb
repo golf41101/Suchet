{
  "cells": [
    {
      "cell_type": "markdown",
      "metadata": {
        "id": "view-in-github",
        "colab_type": "text"
      },
      "source": [
        "<a href=\"https://colab.research.google.com/github/golf41101/Suchet/blob/master/DataScienceChallenge_SuchetReaboot.ipynb\" target=\"_parent\"><img src=\"https://colab.research.google.com/assets/colab-badge.svg\" alt=\"Open In Colab\"/></a>"
      ]
    },
    {
      "cell_type": "markdown",
      "source": [
        "**Show ideas in data science project**"
      ],
      "metadata": {
        "id": "gBt1H9eNpX62"
      },
      "id": "gBt1H9eNpX62"
    },
    {
      "cell_type": "code",
      "source": [
        "# for get the place name use geocoder\n",
        "!pip install geocoder"
      ],
      "metadata": {
        "colab": {
          "base_uri": "https://localhost:8080/"
        },
        "id": "V6d_1CtwHoDO",
        "outputId": "ac4560f5-9ab1-49bc-cbe0-30700d6b2413"
      },
      "id": "V6d_1CtwHoDO",
      "execution_count": null,
      "outputs": [
        {
          "output_type": "stream",
          "name": "stdout",
          "text": [
            "Requirement already satisfied: geocoder in /usr/local/lib/python3.7/dist-packages (1.38.1)\n",
            "Requirement already satisfied: future in /usr/local/lib/python3.7/dist-packages (from geocoder) (0.16.0)\n",
            "Requirement already satisfied: requests in /usr/local/lib/python3.7/dist-packages (from geocoder) (2.23.0)\n",
            "Requirement already satisfied: click in /usr/local/lib/python3.7/dist-packages (from geocoder) (7.1.2)\n",
            "Requirement already satisfied: six in /usr/local/lib/python3.7/dist-packages (from geocoder) (1.15.0)\n",
            "Requirement already satisfied: ratelim in /usr/local/lib/python3.7/dist-packages (from geocoder) (0.1.6)\n",
            "Requirement already satisfied: decorator in /usr/local/lib/python3.7/dist-packages (from ratelim->geocoder) (4.4.2)\n",
            "Requirement already satisfied: certifi>=2017.4.17 in /usr/local/lib/python3.7/dist-packages (from requests->geocoder) (2021.10.8)\n",
            "Requirement already satisfied: chardet<4,>=3.0.2 in /usr/local/lib/python3.7/dist-packages (from requests->geocoder) (3.0.4)\n",
            "Requirement already satisfied: idna<3,>=2.5 in /usr/local/lib/python3.7/dist-packages (from requests->geocoder) (2.10)\n",
            "Requirement already satisfied: urllib3!=1.25.0,!=1.25.1,<1.26,>=1.21.1 in /usr/local/lib/python3.7/dist-packages (from requests->geocoder) (1.24.3)\n"
          ]
        }
      ]
    },
    {
      "cell_type": "code",
      "execution_count": null,
      "id": "e76d5a88",
      "metadata": {
        "id": "e76d5a88"
      },
      "outputs": [],
      "source": [
        "from sklearn import preprocessing\n",
        "from pandas.core.common import SettingWithCopyWarning\n",
        "from sklearn.exceptions import DataConversionWarning\n",
        "from sklearn.preprocessing import MinMaxScaler\n",
        "from sklearn.model_selection import train_test_split\n",
        "from sklearn.model_selection import cross_val_score\n",
        "from sklearn.linear_model import LinearRegression,Ridge\n",
        "from sklearn.metrics import mean_squared_error\n",
        "from sklearn import linear_model\n",
        "from sklearn.tree import DecisionTreeRegressor\n",
        "from sklearn.ensemble import RandomForestRegressor\n",
        "import pandas as pd\n",
        "import seaborn as sns\n",
        "import numpy as np\n",
        "import geocoder\n",
        "import warnings\n",
        "\n",
        "warnings.simplefilter(action='ignore', category=FutureWarning)\n",
        "warnings.simplefilter(action=\"ignore\", category=SettingWithCopyWarning)\n",
        "warnings.filterwarnings(action='ignore', category=DataConversionWarning)"
      ]
    },
    {
      "cell_type": "markdown",
      "source": [
        "## Question 1"
      ],
      "metadata": {
        "id": "P_-dOf2Zkbkw"
      },
      "id": "P_-dOf2Zkbkw"
    },
    {
      "cell_type": "markdown",
      "source": [
        "### 1.1 Programmatically download and load into your favorite analytical tool the trip data for September 2015.\n",
        "\n",
        "\n",
        "---\n",
        "\n",
        "\n",
        "> download file from https://s3.amazonaws.com/nyc-tlc/trip+data/green_tripdata_2015-09.csv\n",
        "\n",
        "\n",
        "\n",
        "> upload to google drive\n",
        "\n",
        "\n",
        "\n",
        "> set path and read file\n",
        "\n",
        "\n",
        "\n",
        "\n"
      ],
      "metadata": {
        "id": "XBC-O2rIkl3w"
      },
      "id": "XBC-O2rIkl3w"
    },
    {
      "cell_type": "code",
      "source": [
        "from google.colab import drive\n",
        "#mount you GoogleDrive to \"drive\" folder\n",
        "drive.mount('/drive', force_remount=True)"
      ],
      "metadata": {
        "colab": {
          "base_uri": "https://localhost:8080/"
        },
        "id": "43fKw1PrXz8k",
        "outputId": "a896ae79-451a-4906-c402-f91860492d24"
      },
      "id": "43fKw1PrXz8k",
      "execution_count": null,
      "outputs": [
        {
          "output_type": "stream",
          "name": "stdout",
          "text": [
            "Mounted at /drive\n"
          ]
        }
      ]
    },
    {
      "cell_type": "code",
      "source": [
        "#set path\n",
        "path =\"/drive/MyDrive/Exam_sec_suchetreaboot/\""
      ],
      "metadata": {
        "id": "ijfnIpXmYITy"
      },
      "id": "ijfnIpXmYITy",
      "execution_count": null,
      "outputs": []
    },
    {
      "cell_type": "code",
      "execution_count": null,
      "id": "7cccafae",
      "metadata": {
        "id": "7cccafae"
      },
      "outputs": [],
      "source": [
        "# load green taxi \n",
        "df = pd.read_csv(path + \"green_tripdata_2015-09.csv\")"
      ]
    },
    {
      "cell_type": "markdown",
      "source": [
        "### 1.2 Report how many rows and columns of data you have loaded."
      ],
      "metadata": {
        "id": "9Qgf-Klbk0iN"
      },
      "id": "9Qgf-Klbk0iN"
    },
    {
      "cell_type": "code",
      "execution_count": null,
      "id": "2b3f8e10",
      "metadata": {
        "colab": {
          "base_uri": "https://localhost:8080/"
        },
        "id": "2b3f8e10",
        "outputId": "bc44cbfc-06a6-4531-b36c-374fc4186e19"
      },
      "outputs": [
        {
          "output_type": "stream",
          "name": "stdout",
          "text": [
            "count of rows :  1494926\n",
            "count of columns :  21\n"
          ]
        }
      ],
      "source": [
        "# Report how many rows and columns of data you have loaded.\n",
        "print(\"count of rows : \", df.shape[0])\n",
        "print(\"count of columns : \", df.shape[1])"
      ]
    },
    {
      "cell_type": "markdown",
      "source": [
        "# Question 2"
      ],
      "metadata": {
        "id": "vclaWACKlHR9"
      },
      "id": "vclaWACKlHR9"
    },
    {
      "cell_type": "markdown",
      "source": [
        "### Explore and Cleansing Data before plot histrogram\n",
        "\n",
        "\n",
        "---\n",
        "\n",
        "\n",
        "> Because I select Option C: seach in Question 5 I found abnormal data in lat-long pickup data which location is Soul Buoy (pacific ocean) then I decied to delete those data\n",
        "\n",
        "\n"
      ],
      "metadata": {
        "id": "BYHWPjTzomEN"
      },
      "id": "BYHWPjTzomEN"
    },
    {
      "cell_type": "code",
      "source": [
        "pd.set_option('display.max_columns', None)"
      ],
      "metadata": {
        "id": "WLXPCl5FtL7e"
      },
      "id": "WLXPCl5FtL7e",
      "execution_count": null,
      "outputs": []
    },
    {
      "cell_type": "code",
      "execution_count": null,
      "id": "57a8bb34",
      "metadata": {
        "colab": {
          "base_uri": "https://localhost:8080/"
        },
        "id": "57a8bb34",
        "outputId": "3d61ab61-4dcf-497a-9cc0-44cc8a81c0be"
      },
      "outputs": [
        {
          "output_type": "execute_result",
          "data": {
            "text/plain": [
              "VendorID                       0\n",
              "lpep_pickup_datetime           0\n",
              "Lpep_dropoff_datetime          0\n",
              "Store_and_fwd_flag             0\n",
              "RateCodeID                     0\n",
              "Pickup_longitude               0\n",
              "Pickup_latitude                0\n",
              "Dropoff_longitude              0\n",
              "Dropoff_latitude               0\n",
              "Passenger_count                0\n",
              "Trip_distance                  0\n",
              "Fare_amount                    0\n",
              "Extra                          0\n",
              "MTA_tax                        0\n",
              "Tip_amount                     0\n",
              "Tolls_amount                   0\n",
              "Ehail_fee                1494926\n",
              "improvement_surcharge          0\n",
              "Total_amount                   0\n",
              "Payment_type                   0\n",
              "Trip_type                      4\n",
              "dtype: int64"
            ]
          },
          "metadata": {},
          "execution_count": 8
        }
      ],
      "source": [
        "# check null data\n",
        "df.isnull().sum()"
      ]
    },
    {
      "cell_type": "code",
      "source": [
        "# delete Ehail_fee variable because it have no data\n",
        "df.drop(columns='Ehail_fee',inplace=True)"
      ],
      "metadata": {
        "id": "wuWwu2UnqJZ4"
      },
      "id": "wuWwu2UnqJZ4",
      "execution_count": null,
      "outputs": []
    },
    {
      "cell_type": "code",
      "source": [
        "# create columns pickup lat,long for drop abnormal data\n",
        "df['lat,long'] = df['Pickup_latitude'].astype(str) + ',' + df['Pickup_longitude'].astype(str) "
      ],
      "metadata": {
        "id": "kcuxmF4Wqq7-"
      },
      "id": "kcuxmF4Wqq7-",
      "execution_count": null,
      "outputs": []
    },
    {
      "cell_type": "code",
      "source": [
        "# lat long 0.0,0.0 is Soul Buoy that place is in the ocean so it impossible for pickup location then delete this values\n",
        "df = df[df['lat,long']!='0.0,0.0']"
      ],
      "metadata": {
        "id": "vzlM6jM7qYsl"
      },
      "id": "vzlM6jM7qYsl",
      "execution_count": null,
      "outputs": []
    },
    {
      "cell_type": "code",
      "source": [
        "# after cleaned data\n",
        "df.shape"
      ],
      "metadata": {
        "colab": {
          "base_uri": "https://localhost:8080/"
        },
        "id": "3rJQCzy6rHD_",
        "outputId": "9cb7316e-7120-4585-a54b-a267bc85331d"
      },
      "id": "3rJQCzy6rHD_",
      "execution_count": null,
      "outputs": [
        {
          "output_type": "execute_result",
          "data": {
            "text/plain": [
              "(1492816, 21)"
            ]
          },
          "metadata": {},
          "execution_count": 12
        }
      ]
    },
    {
      "cell_type": "code",
      "source": [
        "# set picup and dropoff object type to datetime type \n",
        "df['lpep_pickup_datetime'] = pd.to_datetime(df['lpep_pickup_datetime'])\n",
        "df['Lpep_dropoff_datetime'] = pd.to_datetime(df['Lpep_dropoff_datetime'])"
      ],
      "metadata": {
        "id": "TDiajW0NEVrL"
      },
      "id": "TDiajW0NEVrL",
      "execution_count": null,
      "outputs": []
    },
    {
      "cell_type": "code",
      "source": [
        "# create Hour, Day variables for calculation\n",
        "df['Hour'] = df['lpep_pickup_datetime'].dt.strftime('%H')\n",
        "df['Day'] = df['lpep_pickup_datetime'].dt.strftime('%d')"
      ],
      "metadata": {
        "id": "NbY6sPiHEXOM"
      },
      "id": "NbY6sPiHEXOM",
      "execution_count": null,
      "outputs": []
    },
    {
      "cell_type": "markdown",
      "source": [
        "### 2.1 Plot a histogram of the number of the trip distance (\"Trip Distance\")."
      ],
      "metadata": {
        "id": "qzMZMgDIlXhd"
      },
      "id": "qzMZMgDIlXhd"
    },
    {
      "cell_type": "code",
      "execution_count": null,
      "id": "de47e1db",
      "metadata": {
        "colab": {
          "base_uri": "https://localhost:8080/"
        },
        "id": "de47e1db",
        "outputId": "6cdf47ea-0186-4d13-996e-cb15bb0c6447"
      },
      "outputs": [
        {
          "output_type": "execute_result",
          "data": {
            "text/plain": [
              "Index(['VendorID', 'lpep_pickup_datetime', 'Lpep_dropoff_datetime',\n",
              "       'Store_and_fwd_flag', 'RateCodeID', 'Pickup_longitude',\n",
              "       'Pickup_latitude', 'Dropoff_longitude', 'Dropoff_latitude',\n",
              "       'Passenger_count', 'Trip_distance', 'Fare_amount', 'Extra', 'MTA_tax',\n",
              "       'Tip_amount', 'Tolls_amount', 'improvement_surcharge', 'Total_amount',\n",
              "       'Payment_type', 'Trip_type ', 'lat,long', 'Hour', 'Day'],\n",
              "      dtype='object')"
            ]
          },
          "metadata": {},
          "execution_count": 15
        }
      ],
      "source": [
        "# find columns name trip distance in dataframe\n",
        "df.columns"
      ]
    },
    {
      "cell_type": "markdown",
      "source": [
        "\n",
        "\n",
        "> Explore Trip distance variable\n",
        "\n"
      ],
      "metadata": {
        "id": "EXj9MBS1mE-P"
      },
      "id": "EXj9MBS1mE-P"
    },
    {
      "cell_type": "code",
      "execution_count": null,
      "id": "99e6a55a",
      "metadata": {
        "colab": {
          "base_uri": "https://localhost:8080/"
        },
        "id": "99e6a55a",
        "outputId": "b1cba997-dbb8-4b3b-a853-c1a5123f827a"
      },
      "outputs": [
        {
          "output_type": "execute_result",
          "data": {
            "text/plain": [
              "count    1.492816e+06\n",
              "mean     2.970418e+00\n",
              "std      3.076780e+00\n",
              "min      0.000000e+00\n",
              "25%      1.100000e+00\n",
              "50%      1.980000e+00\n",
              "75%      3.740000e+00\n",
              "max      6.031000e+02\n",
              "Name: Trip_distance, dtype: float64"
            ]
          },
          "metadata": {},
          "execution_count": 16
        }
      ],
      "source": [
        "df['Trip_distance'].describe()"
      ]
    },
    {
      "cell_type": "code",
      "execution_count": null,
      "id": "02db3588",
      "metadata": {
        "id": "02db3588"
      },
      "outputs": [],
      "source": [
        "# set value to not show e\n",
        "pd.set_option('display.float_format', lambda x: '%.4f' % x)"
      ]
    },
    {
      "cell_type": "code",
      "source": [
        "df['Trip_distance'].describe()"
      ],
      "metadata": {
        "colab": {
          "base_uri": "https://localhost:8080/"
        },
        "id": "JhGMFWXAlm21",
        "outputId": "2bbad3b4-2ab9-4a15-ea74-e917ff9809d4"
      },
      "id": "JhGMFWXAlm21",
      "execution_count": null,
      "outputs": [
        {
          "output_type": "execute_result",
          "data": {
            "text/plain": [
              "count   1492816.0000\n",
              "mean          2.9704\n",
              "std           3.0768\n",
              "min           0.0000\n",
              "25%           1.1000\n",
              "50%           1.9800\n",
              "75%           3.7400\n",
              "max         603.1000\n",
              "Name: Trip_distance, dtype: float64"
            ]
          },
          "metadata": {},
          "execution_count": 18
        }
      ]
    },
    {
      "cell_type": "code",
      "execution_count": null,
      "id": "bd64f244",
      "metadata": {
        "colab": {
          "base_uri": "https://localhost:8080/",
          "height": 299
        },
        "id": "bd64f244",
        "outputId": "c31b2ea6-c05c-4e2f-99b7-0d0b7947ca1d"
      },
      "outputs": [
        {
          "output_type": "execute_result",
          "data": {
            "text/plain": [
              "<matplotlib.axes._subplots.AxesSubplot at 0x7f663c7db290>"
            ]
          },
          "metadata": {},
          "execution_count": 19
        },
        {
          "output_type": "display_data",
          "data": {
            "text/plain": [
              "<Figure size 432x288 with 1 Axes>"
            ],
            "image/png": "[encoded data removed]"
          },
          "metadata": {
            "needs_background": "light"
          }
        }
      ],
      "source": [
        "ax = sns.histplot(data=df, x=df[\"Trip_distance\"])\n",
        "ax"
      ]
    },
    {
      "cell_type": "code",
      "execution_count": null,
      "id": "1691b9e6",
      "metadata": {
        "colab": {
          "base_uri": "https://localhost:8080/",
          "height": 280
        },
        "id": "1691b9e6",
        "outputId": "62d09b26-38e6-4a4f-e808-edd3f4c7e9aa"
      },
      "outputs": [
        {
          "output_type": "display_data",
          "data": {
            "text/plain": [
              "<Figure size 432x288 with 1 Axes>"
            ],
            "image/png": "[encoded data removed]"
          },
          "metadata": {
            "needs_background": "light"
          }
        }
      ],
      "source": [
        "ax_log = sns.histplot(df[\"Trip_distance\"])\n",
        "ax_log.set_yscale(\"log\")"
      ]
    },
    {
      "cell_type": "code",
      "source": [
        "print(\"skewness\",df[\"Trip_distance\"].skew())\n",
        "print(\"kurtosis\",df[\"Trip_distance\"].kurtosis())"
      ],
      "metadata": {
        "colab": {
          "base_uri": "https://localhost:8080/"
        },
        "id": "AHU-prSVl-7N",
        "outputId": "094e6fab-4267-4ad3-be3f-f7f91b275ec8"
      },
      "id": "AHU-prSVl-7N",
      "execution_count": null,
      "outputs": [
        {
          "output_type": "stream",
          "name": "stdout",
          "text": [
            "skewness 8.450053458307753\n",
            "kurtosis 1023.6840438252528\n"
          ]
        }
      ]
    },
    {
      "cell_type": "code",
      "source": [
        "# from skewness and kurtosis have postive values"
      ],
      "metadata": {
        "id": "0qFc3SBumsHF"
      },
      "id": "0qFc3SBumsHF",
      "execution_count": null,
      "outputs": []
    },
    {
      "cell_type": "markdown",
      "source": [
        "### 2.2 Report any structure you find and any hypotheses you have about that structure.\n"
      ],
      "metadata": {
        "id": "du285tJjnnpc"
      },
      "id": "du285tJjnnpc"
    },
    {
      "cell_type": "code",
      "source": [
        "df[['Tip_amount','Trip_distance']].corr()"
      ],
      "metadata": {
        "colab": {
          "base_uri": "https://localhost:8080/",
          "height": 112
        },
        "id": "WduNZfRjC-Cs",
        "outputId": "9a440158-ecb7-422d-f5b7-98ef1bfca533"
      },
      "id": "WduNZfRjC-Cs",
      "execution_count": null,
      "outputs": [
        {
          "output_type": "execute_result",
          "data": {
            "text/plain": [
              "               Tip_amount  Trip_distance\n",
              "Tip_amount         1.0000         0.3928\n",
              "Trip_distance      0.3928         1.0000"
            ],
            "text/html": [
              "\n",
              "  <div id=\"df-2f9add8b-b6ec-4251-a8c9-2d24bf261574\">\n",
              "    <div class=\"colab-df-container\">\n",
              "      <div>\n",
              "<style scoped>\n",
              "    .dataframe tbody tr th:only-of-type {\n",
              "        vertical-align: middle;\n",
              "    }\n",
              "\n",
              "    .dataframe tbody tr th {\n",
              "        vertical-align: top;\n",
              "    }\n",
              "\n",
              "    .dataframe thead th {\n",
              "        text-align: right;\n",
              "    }\n",
              "</style>\n",
              "<table border=\"1\" class=\"dataframe\">\n",
              "  <thead>\n",
              "    <tr style=\"text-align: right;\">\n",
              "      <th></th>\n",
              "      <th>Tip_amount</th>\n",
              "      <th>Trip_distance</th>\n",
              "    </tr>\n",
              "  </thead>\n",
              "  <tbody>\n",
              "    <tr>\n",
              "      <th>Tip_amount</th>\n",
              "      <td>1.0000</td>\n",
              "      <td>0.3928</td>\n",
              "    </tr>\n",
              "    <tr>\n",
              "      <th>Trip_distance</th>\n",
              "      <td>0.3928</td>\n",
              "      <td>1.0000</td>\n",
              "    </tr>\n",
              "  </tbody>\n",
              "</table>\n",
              "</div>\n",
              "      <button class=\"colab-df-convert\" onclick=\"convertToInteractive('df-2f9add8b-b6ec-4251-a8c9-2d24bf261574')\"\n",
              "              title=\"Convert this dataframe to an interactive table.\"\n",
              "              style=\"display:none;\">\n",
              "        \n",
              "  <svg xmlns=\"http://www.w3.org/2000/svg\" height=\"24px\"viewBox=\"0 0 24 24\"\n",
              "       width=\"24px\">\n",
              "    <path d=\"M0 0h24v24H0V0z\" fill=\"none\"/>\n",
              "    <path d=\"M18.56 5.44l.94 2.06.94-2.06 2.06-.94-2.06-.94-.94-2.06-.94 2.06-2.06.94zm-11 1L8.5 8.5l.94-2.06 2.06-.94-2.06-.94L8.5 2.5l-.94 2.06-2.06.94zm10 10l.94 2.06.94-2.06 2.06-.94-2.06-.94-.94-2.06-.94 2.06-2.06.94z\"/><path d=\"M17.41 7.96l-1.37-1.37c-.4-.4-.92-.59-1.43-.59-.52 0-1.04.2-1.43.59L10.3 9.45l-7.72 7.72c-.78.78-.78 2.05 0 2.83L4 21.41c.39.39.9.59 1.41.59.51 0 1.02-.2 1.41-.59l7.78-7.78 2.81-2.81c.8-.78.8-2.07 0-2.86zM5.41 20L4 18.59l7.72-7.72 1.47 1.35L5.41 20z\"/>\n",
              "  </svg>\n",
              "      </button>\n",
              "      \n",
              "  <style>\n",
              "    .colab-df-container {\n",
              "      display:flex;\n",
              "      flex-wrap:wrap;\n",
              "      gap: 12px;\n",
              "    }\n",
              "\n",
              "    .colab-df-convert {\n",
              "      background-color: #E8F0FE;\n",
              "      border: none;\n",
              "      border-radius: 50%;\n",
              "      cursor: pointer;\n",
              "      display: none;\n",
              "      fill: #1967D2;\n",
              "      height: 32px;\n",
              "      padding: 0 0 0 0;\n",
              "      width: 32px;\n",
              "    }\n",
              "\n",
              "    .colab-df-convert:hover {\n",
              "      background-color: #E2EBFA;\n",
              "      box-shadow: 0px 1px 2px rgba(60, 64, 67, 0.3), 0px 1px 3px 1px rgba(60, 64, 67, 0.15);\n",
              "      fill: #174EA6;\n",
              "    }\n",
              "\n",
              "    [theme=dark] .colab-df-convert {\n",
              "      background-color: #3B4455;\n",
              "      fill: #D2E3FC;\n",
              "    }\n",
              "\n",
              "    [theme=dark] .colab-df-convert:hover {\n",
              "      background-color: #434B5C;\n",
              "      box-shadow: 0px 1px 3px 1px rgba(0, 0, 0, 0.15);\n",
              "      filter: drop-shadow(0px 1px 2px rgba(0, 0, 0, 0.3));\n",
              "      fill: #FFFFFF;\n",
              "    }\n",
              "  </style>\n",
              "\n",
              "      <script>\n",
              "        const buttonEl =\n",
              "          document.querySelector('#df-2f9add8b-b6ec-4251-a8c9-2d24bf261574 button.colab-df-convert');\n",
              "        buttonEl.style.display =\n",
              "          google.colab.kernel.accessAllowed ? 'block' : 'none';\n",
              "\n",
              "        async function convertToInteractive(key) {\n",
              "          const element = document.querySelector('#df-2f9add8b-b6ec-4251-a8c9-2d24bf261574');\n",
              "          const dataTable =\n",
              "            await google.colab.kernel.invokeFunction('convertToInteractive',\n",
              "                                                     [key], {});\n",
              "          if (!dataTable) return;\n",
              "\n",
              "          const docLinkHtml = 'Like what you see? Visit the ' +\n",
              "            '<a target=\"_blank\" href=https://colab.research.google.com/notebooks/data_table.ipynb>data table notebook</a>'\n",
              "            + ' to learn more about interactive tables.';\n",
              "          element.innerHTML = '';\n",
              "          dataTable['output_type'] = 'display_data';\n",
              "          await google.colab.output.renderOutput(dataTable, element);\n",
              "          const docLink = document.createElement('div');\n",
              "          docLink.innerHTML = docLinkHtml;\n",
              "          element.appendChild(docLink);\n",
              "        }\n",
              "      </script>\n",
              "    </div>\n",
              "  </div>\n",
              "  "
            ]
          },
          "metadata": {},
          "execution_count": 23
        }
      ]
    },
    {
      "cell_type": "code",
      "source": [
        "ax_2 = sns.scatterplot(data=df, x=df['Tip_amount'], y=df['Trip_distance'])\n",
        "ax_2"
      ],
      "metadata": {
        "colab": {
          "base_uri": "https://localhost:8080/",
          "height": 298
        },
        "id": "APMvlKwkBkMs",
        "outputId": "1393a4db-6d77-4bff-eecb-cdd79f3d759d"
      },
      "id": "APMvlKwkBkMs",
      "execution_count": null,
      "outputs": [
        {
          "output_type": "execute_result",
          "data": {
            "text/plain": [
              "<matplotlib.axes._subplots.AxesSubplot at 0x7f66122a7e10>"
            ]
          },
          "metadata": {},
          "execution_count": 24
        },
        {
          "output_type": "display_data",
          "data": {
            "text/plain": [
              "<Figure size 432x288 with 1 Axes>"
            ],
            "image/png": "[encoded data removed]"
          },
          "metadata": {
            "needs_background": "light"
          }
        }
      ]
    },
    {
      "cell_type": "markdown",
      "source": [
        "Tip amount and Trip distance have positive correlation"
      ],
      "metadata": {
        "id": "00tFbsioEqW3"
      },
      "id": "00tFbsioEqW3"
    },
    {
      "cell_type": "code",
      "source": [
        "ax_3 = sns.countplot(data=df, x=df['Hour'])\n",
        "ax_3"
      ],
      "metadata": {
        "colab": {
          "base_uri": "https://localhost:8080/",
          "height": 297
        },
        "id": "IaPePSdzDUA0",
        "outputId": "639e3138-4394-4583-c636-325289ce2ee6"
      },
      "id": "IaPePSdzDUA0",
      "execution_count": null,
      "outputs": [
        {
          "output_type": "execute_result",
          "data": {
            "text/plain": [
              "<matplotlib.axes._subplots.AxesSubplot at 0x7f6612241c50>"
            ]
          },
          "metadata": {},
          "execution_count": 25
        },
        {
          "output_type": "display_data",
          "data": {
            "text/plain": [
              "<Figure size 432x288 with 1 Axes>"
            ],
            "image/png": "[encoded data removed]"
          },
          "metadata": {
            "needs_background": "light"
          }
        }
      ]
    },
    {
      "cell_type": "markdown",
      "source": [
        "Taxis are most commonly used in the evenings and late at night.(5 p.m.-11 p.m.)\n",
        "\n",
        "Assumption main users group in this application\n",
        "\n",
        "1.   office people\n",
        "2.   party people\n",
        "\n"
      ],
      "metadata": {
        "id": "U-aOlJ5HFKDa"
      },
      "id": "U-aOlJ5HFKDa"
    },
    {
      "cell_type": "markdown",
      "source": [
        "# Question 3"
      ],
      "metadata": {
        "id": "79yFF4x3s_Z2"
      },
      "id": "79yFF4x3s_Z2"
    },
    {
      "cell_type": "markdown",
      "source": [
        "### 3.1 Report mean and median trip distance grouped by hour of day."
      ],
      "metadata": {
        "id": "2roBegHOtE0F"
      },
      "id": "2roBegHOtE0F"
    },
    {
      "cell_type": "code",
      "execution_count": null,
      "id": "328f5d92",
      "metadata": {
        "colab": {
          "base_uri": "https://localhost:8080/",
          "height": 864
        },
        "id": "328f5d92",
        "outputId": "9fe63695-af59-477b-856f-ca5d854b15dc"
      },
      "outputs": [
        {
          "output_type": "execute_result",
          "data": {
            "text/plain": [
              "     Trip_distance       \n",
              "              mean median\n",
              "Hour                     \n",
              "00          3.1172 2.2000\n",
              "01          3.0189 2.1300\n",
              "02          3.0479 2.1400\n",
              "03          3.2157 2.2100\n",
              "04          3.5304 2.3600\n",
              "05          4.1369 2.9000\n",
              "06          4.0611 2.8500\n",
              "07          3.2873 2.1800\n",
              "08          3.0511 1.9800\n",
              "09          3.0019 1.9700\n",
              "10          2.9463 1.9200\n",
              "11          2.9153 1.8800\n",
              "12          2.9068 1.8900\n",
              "13          2.8817 1.8500\n",
              "14          2.8671 1.8300\n",
              "15          2.8604 1.8100\n",
              "16          2.7822 1.8000\n",
              "17          2.6807 1.7800\n",
              "18          2.6549 1.8000\n",
              "19          2.7167 1.8500\n",
              "20          2.7786 1.9000\n",
              "21          3.0010 2.0300\n",
              "22          3.1872 2.2000\n",
              "23          3.1933 2.2200"
            ],
            "text/html": [
              "\n",
              "  <div id=\"df-4f849054-9ca9-4db6-8b54-cfb6e7b3c5bd\">\n",
              "    <div class=\"colab-df-container\">\n",
              "      <div>\n",
              "<style scoped>\n",
              "    .dataframe tbody tr th:only-of-type {\n",
              "        vertical-align: middle;\n",
              "    }\n",
              "\n",
              "    .dataframe tbody tr th {\n",
              "        vertical-align: top;\n",
              "    }\n",
              "\n",
              "    .dataframe thead tr th {\n",
              "        text-align: left;\n",
              "    }\n",
              "\n",
              "    .dataframe thead tr:last-of-type th {\n",
              "        text-align: right;\n",
              "    }\n",
              "</style>\n",
              "<table border=\"1\" class=\"dataframe\">\n",
              "  <thead>\n",
              "    <tr>\n",
              "      <th></th>\n",
              "      <th colspan=\"2\" halign=\"left\">Trip_distance</th>\n",
              "    </tr>\n",
              "    <tr>\n",
              "      <th></th>\n",
              "      <th>mean</th>\n",
              "      <th>median</th>\n",
              "    </tr>\n",
              "    <tr>\n",
              "      <th>Hour</th>\n",
              "      <th></th>\n",
              "      <th></th>\n",
              "    </tr>\n",
              "  </thead>\n",
              "  <tbody>\n",
              "    <tr>\n",
              "      <th>00</th>\n",
              "      <td>3.1172</td>\n",
              "      <td>2.2000</td>\n",
              "    </tr>\n",
              "    <tr>\n",
              "      <th>01</th>\n",
              "      <td>3.0189</td>\n",
              "      <td>2.1300</td>\n",
              "    </tr>\n",
              "    <tr>\n",
              "      <th>02</th>\n",
              "      <td>3.0479</td>\n",
              "      <td>2.1400</td>\n",
              "    </tr>\n",
              "    <tr>\n",
              "      <th>03</th>\n",
              "      <td>3.2157</td>\n",
              "      <td>2.2100</td>\n",
              "    </tr>\n",
              "    <tr>\n",
              "      <th>04</th>\n",
              "      <td>3.5304</td>\n",
              "      <td>2.3600</td>\n",
              "    </tr>\n",
              "    <tr>\n",
              "      <th>05</th>\n",
              "      <td>4.1369</td>\n",
              "      <td>2.9000</td>\n",
              "    </tr>\n",
              "    <tr>\n",
              "      <th>06</th>\n",
              "      <td>4.0611</td>\n",
              "      <td>2.8500</td>\n",
              "    </tr>\n",
              "    <tr>\n",
              "      <th>07</th>\n",
              "      <td>3.2873</td>\n",
              "      <td>2.1800</td>\n",
              "    </tr>\n",
              "    <tr>\n",
              "      <th>08</th>\n",
              "      <td>3.0511</td>\n",
              "      <td>1.9800</td>\n",
              "    </tr>\n",
              "    <tr>\n",
              "      <th>09</th>\n",
              "      <td>3.0019</td>\n",
              "      <td>1.9700</td>\n",
              "    </tr>\n",
              "    <tr>\n",
              "      <th>10</th>\n",
              "      <td>2.9463</td>\n",
              "      <td>1.9200</td>\n",
              "    </tr>\n",
              "    <tr>\n",
              "      <th>11</th>\n",
              "      <td>2.9153</td>\n",
              "      <td>1.8800</td>\n",
              "    </tr>\n",
              "    <tr>\n",
              "      <th>12</th>\n",
              "      <td>2.9068</td>\n",
              "      <td>1.8900</td>\n",
              "    </tr>\n",
              "    <tr>\n",
              "      <th>13</th>\n",
              "      <td>2.8817</td>\n",
              "      <td>1.8500</td>\n",
              "    </tr>\n",
              "    <tr>\n",
              "      <th>14</th>\n",
              "      <td>2.8671</td>\n",
              "      <td>1.8300</td>\n",
              "    </tr>\n",
              "    <tr>\n",
              "      <th>15</th>\n",
              "      <td>2.8604</td>\n",
              "      <td>1.8100</td>\n",
              "    </tr>\n",
              "    <tr>\n",
              "      <th>16</th>\n",
              "      <td>2.7822</td>\n",
              "      <td>1.8000</td>\n",
              "    </tr>\n",
              "    <tr>\n",
              "      <th>17</th>\n",
              "      <td>2.6807</td>\n",
              "      <td>1.7800</td>\n",
              "    </tr>\n",
              "    <tr>\n",
              "      <th>18</th>\n",
              "      <td>2.6549</td>\n",
              "      <td>1.8000</td>\n",
              "    </tr>\n",
              "    <tr>\n",
              "      <th>19</th>\n",
              "      <td>2.7167</td>\n",
              "      <td>1.8500</td>\n",
              "    </tr>\n",
              "    <tr>\n",
              "      <th>20</th>\n",
              "      <td>2.7786</td>\n",
              "      <td>1.9000</td>\n",
              "    </tr>\n",
              "    <tr>\n",
              "      <th>21</th>\n",
              "      <td>3.0010</td>\n",
              "      <td>2.0300</td>\n",
              "    </tr>\n",
              "    <tr>\n",
              "      <th>22</th>\n",
              "      <td>3.1872</td>\n",
              "      <td>2.2000</td>\n",
              "    </tr>\n",
              "    <tr>\n",
              "      <th>23</th>\n",
              "      <td>3.1933</td>\n",
              "      <td>2.2200</td>\n",
              "    </tr>\n",
              "  </tbody>\n",
              "</table>\n",
              "</div>\n",
              "      <button class=\"colab-df-convert\" onclick=\"convertToInteractive('df-4f849054-9ca9-4db6-8b54-cfb6e7b3c5bd')\"\n",
              "              title=\"Convert this dataframe to an interactive table.\"\n",
              "              style=\"display:none;\">\n",
              "        \n",
              "  <svg xmlns=\"http://www.w3.org/2000/svg\" height=\"24px\"viewBox=\"0 0 24 24\"\n",
              "       width=\"24px\">\n",
              "    <path d=\"M0 0h24v24H0V0z\" fill=\"none\"/>\n",
              "    <path d=\"M18.56 5.44l.94 2.06.94-2.06 2.06-.94-2.06-.94-.94-2.06-.94 2.06-2.06.94zm-11 1L8.5 8.5l.94-2.06 2.06-.94-2.06-.94L8.5 2.5l-.94 2.06-2.06.94zm10 10l.94 2.06.94-2.06 2.06-.94-2.06-.94-.94-2.06-.94 2.06-2.06.94z\"/><path d=\"M17.41 7.96l-1.37-1.37c-.4-.4-.92-.59-1.43-.59-.52 0-1.04.2-1.43.59L10.3 9.45l-7.72 7.72c-.78.78-.78 2.05 0 2.83L4 21.41c.39.39.9.59 1.41.59.51 0 1.02-.2 1.41-.59l7.78-7.78 2.81-2.81c.8-.78.8-2.07 0-2.86zM5.41 20L4 18.59l7.72-7.72 1.47 1.35L5.41 20z\"/>\n",
              "  </svg>\n",
              "      </button>\n",
              "      \n",
              "  <style>\n",
              "    .colab-df-container {\n",
              "      display:flex;\n",
              "      flex-wrap:wrap;\n",
              "      gap: 12px;\n",
              "    }\n",
              "\n",
              "    .colab-df-convert {\n",
              "      background-color: #E8F0FE;\n",
              "      border: none;\n",
              "      border-radius: 50%;\n",
              "      cursor: pointer;\n",
              "      display: none;\n",
              "      fill: #1967D2;\n",
              "      height: 32px;\n",
              "      padding: 0 0 0 0;\n",
              "      width: 32px;\n",
              "    }\n",
              "\n",
              "    .colab-df-convert:hover {\n",
              "      background-color: #E2EBFA;\n",
              "      box-shadow: 0px 1px 2px rgba(60, 64, 67, 0.3), 0px 1px 3px 1px rgba(60, 64, 67, 0.15);\n",
              "      fill: #174EA6;\n",
              "    }\n",
              "\n",
              "    [theme=dark] .colab-df-convert {\n",
              "      background-color: #3B4455;\n",
              "      fill: #D2E3FC;\n",
              "    }\n",
              "\n",
              "    [theme=dark] .colab-df-convert:hover {\n",
              "      background-color: #434B5C;\n",
              "      box-shadow: 0px 1px 3px 1px rgba(0, 0, 0, 0.15);\n",
              "      filter: drop-shadow(0px 1px 2px rgba(0, 0, 0, 0.3));\n",
              "      fill: #FFFFFF;\n",
              "    }\n",
              "  </style>\n",
              "\n",
              "      <script>\n",
              "        const buttonEl =\n",
              "          document.querySelector('#df-4f849054-9ca9-4db6-8b54-cfb6e7b3c5bd button.colab-df-convert');\n",
              "        buttonEl.style.display =\n",
              "          google.colab.kernel.accessAllowed ? 'block' : 'none';\n",
              "\n",
              "        async function convertToInteractive(key) {\n",
              "          const element = document.querySelector('#df-4f849054-9ca9-4db6-8b54-cfb6e7b3c5bd');\n",
              "          const dataTable =\n",
              "            await google.colab.kernel.invokeFunction('convertToInteractive',\n",
              "                                                     [key], {});\n",
              "          if (!dataTable) return;\n",
              "\n",
              "          const docLinkHtml = 'Like what you see? Visit the ' +\n",
              "            '<a target=\"_blank\" href=https://colab.research.google.com/notebooks/data_table.ipynb>data table notebook</a>'\n",
              "            + ' to learn more about interactive tables.';\n",
              "          element.innerHTML = '';\n",
              "          dataTable['output_type'] = 'display_data';\n",
              "          await google.colab.output.renderOutput(dataTable, element);\n",
              "          const docLink = document.createElement('div');\n",
              "          docLink.innerHTML = docLinkHtml;\n",
              "          element.appendChild(docLink);\n",
              "        }\n",
              "      </script>\n",
              "    </div>\n",
              "  </div>\n",
              "  "
            ]
          },
          "metadata": {},
          "execution_count": 26
        }
      ],
      "source": [
        "# mean and median trip distance grouped by hour of day.\n",
        "df.groupby('Hour').agg({'Trip_distance': ['mean', 'median']})"
      ]
    },
    {
      "cell_type": "markdown",
      "source": [
        "## 3.2 We'd like to get a rough sense of identifying trips that originate or terminate at one of the NYC area airports. Can you provide a count of how many transactions fit this criteria, the average fair, and any other interesting characteristics of these trips."
      ],
      "metadata": {
        "id": "9LLkuyVUt9ZO"
      },
      "id": "9LLkuyVUt9ZO"
    },
    {
      "cell_type": "markdown",
      "id": "d70e0bb9",
      "metadata": {
        "id": "d70e0bb9"
      },
      "source": [
        "In Data Dictionary RateCodeID can represent area of destination trip\n",
        "\n",
        "> The final rate code in effect at the end of the trip.\n",
        "\n",
        "\n",
        "1= Standard rate\n",
        "\n",
        "1.   Standard rate\n",
        "2.   JFK\n",
        "3.   Newark\n",
        "4.   Nassau or Westchester\n",
        "5.   Negotiated fare\n",
        "6.   Group ride\n",
        "\n",
        "\n",
        "---\n",
        "NYC area airports : JFK ,Newark,Nassau or Westchester\n",
        "Reference : https://en.wikipedia.org/wiki/Aviation_in_the_New_York_metropolitan_area\n"
      ]
    },
    {
      "cell_type": "code",
      "execution_count": null,
      "id": "cf5c3fec",
      "metadata": {
        "colab": {
          "base_uri": "https://localhost:8080/"
        },
        "id": "cf5c3fec",
        "outputId": "6f259e2e-df8b-496e-e315-f975b88505c5"
      },
      "outputs": [
        {
          "output_type": "execute_result",
          "data": {
            "text/plain": [
              "1     1453010\n",
              "5       33317\n",
              "2        4409\n",
              "3        1114\n",
              "4         925\n",
              "6          35\n",
              "99          6\n",
              "Name: RateCodeID, dtype: int64"
            ]
          },
          "metadata": {},
          "execution_count": 27
        }
      ],
      "source": [
        "df['RateCodeID'].value_counts()"
      ]
    },
    {
      "cell_type": "code",
      "execution_count": null,
      "id": "c77ca8ca",
      "metadata": {
        "id": "c77ca8ca",
        "colab": {
          "base_uri": "https://localhost:8080/"
        },
        "outputId": "f9faf8c3-782d-4bec-eed3-6e7c65fc3fd6"
      },
      "outputs": [
        {
          "output_type": "stream",
          "name": "stdout",
          "text": [
            "transactions :  6448\n"
          ]
        }
      ],
      "source": [
        "# select rate code from area airports : JFK ,Newark,Nassau or Westchester\n",
        "focus_area = [2,3,4]\n",
        "focus_df = df[df['RateCodeID'].isin(focus_area)]\n",
        "# transaction in area airports\n",
        "print('transactions : ',focus_df.shape[0])"
      ]
    },
    {
      "cell_type": "code",
      "execution_count": null,
      "id": "de4b0b5b",
      "metadata": {
        "colab": {
          "base_uri": "https://localhost:8080/",
          "height": 206
        },
        "id": "de4b0b5b",
        "outputId": "9129621c-3f69-44d4-a0e6-4ecc143dabc6"
      },
      "outputs": [
        {
          "output_type": "execute_result",
          "data": {
            "text/plain": [
              "           Fare_amount      \n",
              "                  mean count\n",
              "RateCodeID                  \n",
              "2              49.0279  4409\n",
              "3              48.8757  1114\n",
              "4              60.1649   925"
            ],
            "text/html": [
              "\n",
              "  <div id=\"df-06673cca-4292-4f34-88db-0822b219c7f1\">\n",
              "    <div class=\"colab-df-container\">\n",
              "      <div>\n",
              "<style scoped>\n",
              "    .dataframe tbody tr th:only-of-type {\n",
              "        vertical-align: middle;\n",
              "    }\n",
              "\n",
              "    .dataframe tbody tr th {\n",
              "        vertical-align: top;\n",
              "    }\n",
              "\n",
              "    .dataframe thead tr th {\n",
              "        text-align: left;\n",
              "    }\n",
              "\n",
              "    .dataframe thead tr:last-of-type th {\n",
              "        text-align: right;\n",
              "    }\n",
              "</style>\n",
              "<table border=\"1\" class=\"dataframe\">\n",
              "  <thead>\n",
              "    <tr>\n",
              "      <th></th>\n",
              "      <th colspan=\"2\" halign=\"left\">Fare_amount</th>\n",
              "    </tr>\n",
              "    <tr>\n",
              "      <th></th>\n",
              "      <th>mean</th>\n",
              "      <th>count</th>\n",
              "    </tr>\n",
              "    <tr>\n",
              "      <th>RateCodeID</th>\n",
              "      <th></th>\n",
              "      <th></th>\n",
              "    </tr>\n",
              "  </thead>\n",
              "  <tbody>\n",
              "    <tr>\n",
              "      <th>2</th>\n",
              "      <td>49.0279</td>\n",
              "      <td>4409</td>\n",
              "    </tr>\n",
              "    <tr>\n",
              "      <th>3</th>\n",
              "      <td>48.8757</td>\n",
              "      <td>1114</td>\n",
              "    </tr>\n",
              "    <tr>\n",
              "      <th>4</th>\n",
              "      <td>60.1649</td>\n",
              "      <td>925</td>\n",
              "    </tr>\n",
              "  </tbody>\n",
              "</table>\n",
              "</div>\n",
              "      <button class=\"colab-df-convert\" onclick=\"convertToInteractive('df-06673cca-4292-4f34-88db-0822b219c7f1')\"\n",
              "              title=\"Convert this dataframe to an interactive table.\"\n",
              "              style=\"display:none;\">\n",
              "        \n",
              "  <svg xmlns=\"http://www.w3.org/2000/svg\" height=\"24px\"viewBox=\"0 0 24 24\"\n",
              "       width=\"24px\">\n",
              "    <path d=\"M0 0h24v24H0V0z\" fill=\"none\"/>\n",
              "    <path d=\"M18.56 5.44l.94 2.06.94-2.06 2.06-.94-2.06-.94-.94-2.06-.94 2.06-2.06.94zm-11 1L8.5 8.5l.94-2.06 2.06-.94-2.06-.94L8.5 2.5l-.94 2.06-2.06.94zm10 10l.94 2.06.94-2.06 2.06-.94-2.06-.94-.94-2.06-.94 2.06-2.06.94z\"/><path d=\"M17.41 7.96l-1.37-1.37c-.4-.4-.92-.59-1.43-.59-.52 0-1.04.2-1.43.59L10.3 9.45l-7.72 7.72c-.78.78-.78 2.05 0 2.83L4 21.41c.39.39.9.59 1.41.59.51 0 1.02-.2 1.41-.59l7.78-7.78 2.81-2.81c.8-.78.8-2.07 0-2.86zM5.41 20L4 18.59l7.72-7.72 1.47 1.35L5.41 20z\"/>\n",
              "  </svg>\n",
              "      </button>\n",
              "      \n",
              "  <style>\n",
              "    .colab-df-container {\n",
              "      display:flex;\n",
              "      flex-wrap:wrap;\n",
              "      gap: 12px;\n",
              "    }\n",
              "\n",
              "    .colab-df-convert {\n",
              "      background-color: #E8F0FE;\n",
              "      border: none;\n",
              "      border-radius: 50%;\n",
              "      cursor: pointer;\n",
              "      display: none;\n",
              "      fill: #1967D2;\n",
              "      height: 32px;\n",
              "      padding: 0 0 0 0;\n",
              "      width: 32px;\n",
              "    }\n",
              "\n",
              "    .colab-df-convert:hover {\n",
              "      background-color: #E2EBFA;\n",
              "      box-shadow: 0px 1px 2px rgba(60, 64, 67, 0.3), 0px 1px 3px 1px rgba(60, 64, 67, 0.15);\n",
              "      fill: #174EA6;\n",
              "    }\n",
              "\n",
              "    [theme=dark] .colab-df-convert {\n",
              "      background-color: #3B4455;\n",
              "      fill: #D2E3FC;\n",
              "    }\n",
              "\n",
              "    [theme=dark] .colab-df-convert:hover {\n",
              "      background-color: #434B5C;\n",
              "      box-shadow: 0px 1px 3px 1px rgba(0, 0, 0, 0.15);\n",
              "      filter: drop-shadow(0px 1px 2px rgba(0, 0, 0, 0.3));\n",
              "      fill: #FFFFFF;\n",
              "    }\n",
              "  </style>\n",
              "\n",
              "      <script>\n",
              "        const buttonEl =\n",
              "          document.querySelector('#df-06673cca-4292-4f34-88db-0822b219c7f1 button.colab-df-convert');\n",
              "        buttonEl.style.display =\n",
              "          google.colab.kernel.accessAllowed ? 'block' : 'none';\n",
              "\n",
              "        async function convertToInteractive(key) {\n",
              "          const element = document.querySelector('#df-06673cca-4292-4f34-88db-0822b219c7f1');\n",
              "          const dataTable =\n",
              "            await google.colab.kernel.invokeFunction('convertToInteractive',\n",
              "                                                     [key], {});\n",
              "          if (!dataTable) return;\n",
              "\n",
              "          const docLinkHtml = 'Like what you see? Visit the ' +\n",
              "            '<a target=\"_blank\" href=https://colab.research.google.com/notebooks/data_table.ipynb>data table notebook</a>'\n",
              "            + ' to learn more about interactive tables.';\n",
              "          element.innerHTML = '';\n",
              "          dataTable['output_type'] = 'display_data';\n",
              "          await google.colab.output.renderOutput(dataTable, element);\n",
              "          const docLink = document.createElement('div');\n",
              "          docLink.innerHTML = docLinkHtml;\n",
              "          element.appendChild(docLink);\n",
              "        }\n",
              "      </script>\n",
              "    </div>\n",
              "  </div>\n",
              "  "
            ]
          },
          "metadata": {},
          "execution_count": 29
        }
      ],
      "source": [
        "# mean of fare amount and count of transaction by RatecodeID(area airports) \n",
        "focus_df.groupby('RateCodeID').agg({'Fare_amount': ['mean', 'count']})"
      ]
    },
    {
      "cell_type": "code",
      "execution_count": null,
      "id": "286313ac",
      "metadata": {
        "colab": {
          "base_uri": "https://localhost:8080/",
          "height": 112
        },
        "id": "286313ac",
        "outputId": "c884230e-ef34-426c-94a6-92ca29ee4aa1"
      },
      "outputs": [
        {
          "output_type": "execute_result",
          "data": {
            "text/plain": [
              "       Fare_amount  Tip_amount\n",
              "mean       50.5993      4.5049\n",
              "count    6448.0000   6448.0000"
            ],
            "text/html": [
              "\n",
              "  <div id=\"df-e7cf906d-3f4d-4fad-baef-74f08d804253\">\n",
              "    <div class=\"colab-df-container\">\n",
              "      <div>\n",
              "<style scoped>\n",
              "    .dataframe tbody tr th:only-of-type {\n",
              "        vertical-align: middle;\n",
              "    }\n",
              "\n",
              "    .dataframe tbody tr th {\n",
              "        vertical-align: top;\n",
              "    }\n",
              "\n",
              "    .dataframe thead th {\n",
              "        text-align: right;\n",
              "    }\n",
              "</style>\n",
              "<table border=\"1\" class=\"dataframe\">\n",
              "  <thead>\n",
              "    <tr style=\"text-align: right;\">\n",
              "      <th></th>\n",
              "      <th>Fare_amount</th>\n",
              "      <th>Tip_amount</th>\n",
              "    </tr>\n",
              "  </thead>\n",
              "  <tbody>\n",
              "    <tr>\n",
              "      <th>mean</th>\n",
              "      <td>50.5993</td>\n",
              "      <td>4.5049</td>\n",
              "    </tr>\n",
              "    <tr>\n",
              "      <th>count</th>\n",
              "      <td>6448.0000</td>\n",
              "      <td>6448.0000</td>\n",
              "    </tr>\n",
              "  </tbody>\n",
              "</table>\n",
              "</div>\n",
              "      <button class=\"colab-df-convert\" onclick=\"convertToInteractive('df-e7cf906d-3f4d-4fad-baef-74f08d804253')\"\n",
              "              title=\"Convert this dataframe to an interactive table.\"\n",
              "              style=\"display:none;\">\n",
              "        \n",
              "  <svg xmlns=\"http://www.w3.org/2000/svg\" height=\"24px\"viewBox=\"0 0 24 24\"\n",
              "       width=\"24px\">\n",
              "    <path d=\"M0 0h24v24H0V0z\" fill=\"none\"/>\n",
              "    <path d=\"M18.56 5.44l.94 2.06.94-2.06 2.06-.94-2.06-.94-.94-2.06-.94 2.06-2.06.94zm-11 1L8.5 8.5l.94-2.06 2.06-.94-2.06-.94L8.5 2.5l-.94 2.06-2.06.94zm10 10l.94 2.06.94-2.06 2.06-.94-2.06-.94-.94-2.06-.94 2.06-2.06.94z\"/><path d=\"M17.41 7.96l-1.37-1.37c-.4-.4-.92-.59-1.43-.59-.52 0-1.04.2-1.43.59L10.3 9.45l-7.72 7.72c-.78.78-.78 2.05 0 2.83L4 21.41c.39.39.9.59 1.41.59.51 0 1.02-.2 1.41-.59l7.78-7.78 2.81-2.81c.8-.78.8-2.07 0-2.86zM5.41 20L4 18.59l7.72-7.72 1.47 1.35L5.41 20z\"/>\n",
              "  </svg>\n",
              "      </button>\n",
              "      \n",
              "  <style>\n",
              "    .colab-df-container {\n",
              "      display:flex;\n",
              "      flex-wrap:wrap;\n",
              "      gap: 12px;\n",
              "    }\n",
              "\n",
              "    .colab-df-convert {\n",
              "      background-color: #E8F0FE;\n",
              "      border: none;\n",
              "      border-radius: 50%;\n",
              "      cursor: pointer;\n",
              "      display: none;\n",
              "      fill: #1967D2;\n",
              "      height: 32px;\n",
              "      padding: 0 0 0 0;\n",
              "      width: 32px;\n",
              "    }\n",
              "\n",
              "    .colab-df-convert:hover {\n",
              "      background-color: #E2EBFA;\n",
              "      box-shadow: 0px 1px 2px rgba(60, 64, 67, 0.3), 0px 1px 3px 1px rgba(60, 64, 67, 0.15);\n",
              "      fill: #174EA6;\n",
              "    }\n",
              "\n",
              "    [theme=dark] .colab-df-convert {\n",
              "      background-color: #3B4455;\n",
              "      fill: #D2E3FC;\n",
              "    }\n",
              "\n",
              "    [theme=dark] .colab-df-convert:hover {\n",
              "      background-color: #434B5C;\n",
              "      box-shadow: 0px 1px 3px 1px rgba(0, 0, 0, 0.15);\n",
              "      filter: drop-shadow(0px 1px 2px rgba(0, 0, 0, 0.3));\n",
              "      fill: #FFFFFF;\n",
              "    }\n",
              "  </style>\n",
              "\n",
              "      <script>\n",
              "        const buttonEl =\n",
              "          document.querySelector('#df-e7cf906d-3f4d-4fad-baef-74f08d804253 button.colab-df-convert');\n",
              "        buttonEl.style.display =\n",
              "          google.colab.kernel.accessAllowed ? 'block' : 'none';\n",
              "\n",
              "        async function convertToInteractive(key) {\n",
              "          const element = document.querySelector('#df-e7cf906d-3f4d-4fad-baef-74f08d804253');\n",
              "          const dataTable =\n",
              "            await google.colab.kernel.invokeFunction('convertToInteractive',\n",
              "                                                     [key], {});\n",
              "          if (!dataTable) return;\n",
              "\n",
              "          const docLinkHtml = 'Like what you see? Visit the ' +\n",
              "            '<a target=\"_blank\" href=https://colab.research.google.com/notebooks/data_table.ipynb>data table notebook</a>'\n",
              "            + ' to learn more about interactive tables.';\n",
              "          element.innerHTML = '';\n",
              "          dataTable['output_type'] = 'display_data';\n",
              "          await google.colab.output.renderOutput(dataTable, element);\n",
              "          const docLink = document.createElement('div');\n",
              "          docLink.innerHTML = docLinkHtml;\n",
              "          element.appendChild(docLink);\n",
              "        }\n",
              "      </script>\n",
              "    </div>\n",
              "  </div>\n",
              "  "
            ]
          },
          "metadata": {},
          "execution_count": 30
        }
      ],
      "source": [
        "# mean of fare amount and count of transaction\n",
        "focus_df.agg({'Fare_amount': ['mean', 'count'],'Tip_amount': ['mean', 'count']})"
      ]
    },
    {
      "cell_type": "markdown",
      "source": [
        "# Question 4"
      ],
      "metadata": {
        "id": "K5q1dDltwpFX"
      },
      "id": "K5q1dDltwpFX"
    },
    {
      "cell_type": "markdown",
      "source": [
        "### 4.1 Build a derived variable for tip as a percentage of the total fare."
      ],
      "metadata": {
        "id": "efh0wB6mw_DH"
      },
      "id": "efh0wB6mw_DH"
    },
    {
      "cell_type": "code",
      "execution_count": null,
      "id": "05012a82",
      "metadata": {
        "id": "05012a82"
      },
      "outputs": [],
      "source": [
        "# tip amount – This field is automatically populated for credit card tips. Cash tips are not included.\n",
        "# so create credit card dataframe for calculate tip per total fare from data dictionary : credit card type is 1 \n",
        "cc_df = df[df['Payment_type']==1]"
      ]
    },
    {
      "cell_type": "code",
      "execution_count": null,
      "id": "10afcbdd",
      "metadata": {
        "id": "10afcbdd"
      },
      "outputs": [],
      "source": [
        "cc_df['tip_per_total_fare'] = cc_df['Tip_amount'] / cc_df['Total_amount']"
      ]
    },
    {
      "cell_type": "code",
      "source": [
        "cc_df[cc_df['tip_per_total_fare'].isnull()][['Tip_amount','tip_per_total_fare']]"
      ],
      "metadata": {
        "colab": {
          "base_uri": "https://localhost:8080/",
          "height": 423
        },
        "id": "OmtaK06axYKQ",
        "outputId": "3de7d8d9-0801-4f65-dd86-e2c34d7e663e"
      },
      "id": "OmtaK06axYKQ",
      "execution_count": null,
      "outputs": [
        {
          "output_type": "execute_result",
          "data": {
            "text/plain": [
              "         Tip_amount  tip_per_total_fare\n",
              "14743        0.0000                 NaN\n",
              "16079        0.0000                 NaN\n",
              "18922        0.0000                 NaN\n",
              "22244        0.0000                 NaN\n",
              "25288        0.0000                 NaN\n",
              "...             ...                 ...\n",
              "1439137      0.0000                 NaN\n",
              "1442349      0.0000                 NaN\n",
              "1444373      0.0000                 NaN\n",
              "1462890      0.0000                 NaN\n",
              "1483292      0.0000                 NaN\n",
              "\n",
              "[227 rows x 2 columns]"
            ],
            "text/html": [
              "\n",
              "  <div id=\"df-ae142827-a27f-4e64-ba49-6533ed61b6e0\">\n",
              "    <div class=\"colab-df-container\">\n",
              "      <div>\n",
              "<style scoped>\n",
              "    .dataframe tbody tr th:only-of-type {\n",
              "        vertical-align: middle;\n",
              "    }\n",
              "\n",
              "    .dataframe tbody tr th {\n",
              "        vertical-align: top;\n",
              "    }\n",
              "\n",
              "    .dataframe thead th {\n",
              "        text-align: right;\n",
              "    }\n",
              "</style>\n",
              "<table border=\"1\" class=\"dataframe\">\n",
              "  <thead>\n",
              "    <tr style=\"text-align: right;\">\n",
              "      <th></th>\n",
              "      <th>Tip_amount</th>\n",
              "      <th>tip_per_total_fare</th>\n",
              "    </tr>\n",
              "  </thead>\n",
              "  <tbody>\n",
              "    <tr>\n",
              "      <th>14743</th>\n",
              "      <td>0.0000</td>\n",
              "      <td>NaN</td>\n",
              "    </tr>\n",
              "    <tr>\n",
              "      <th>16079</th>\n",
              "      <td>0.0000</td>\n",
              "      <td>NaN</td>\n",
              "    </tr>\n",
              "    <tr>\n",
              "      <th>18922</th>\n",
              "      <td>0.0000</td>\n",
              "      <td>NaN</td>\n",
              "    </tr>\n",
              "    <tr>\n",
              "      <th>22244</th>\n",
              "      <td>0.0000</td>\n",
              "      <td>NaN</td>\n",
              "    </tr>\n",
              "    <tr>\n",
              "      <th>25288</th>\n",
              "      <td>0.0000</td>\n",
              "      <td>NaN</td>\n",
              "    </tr>\n",
              "    <tr>\n",
              "      <th>...</th>\n",
              "      <td>...</td>\n",
              "      <td>...</td>\n",
              "    </tr>\n",
              "    <tr>\n",
              "      <th>1439137</th>\n",
              "      <td>0.0000</td>\n",
              "      <td>NaN</td>\n",
              "    </tr>\n",
              "    <tr>\n",
              "      <th>1442349</th>\n",
              "      <td>0.0000</td>\n",
              "      <td>NaN</td>\n",
              "    </tr>\n",
              "    <tr>\n",
              "      <th>1444373</th>\n",
              "      <td>0.0000</td>\n",
              "      <td>NaN</td>\n",
              "    </tr>\n",
              "    <tr>\n",
              "      <th>1462890</th>\n",
              "      <td>0.0000</td>\n",
              "      <td>NaN</td>\n",
              "    </tr>\n",
              "    <tr>\n",
              "      <th>1483292</th>\n",
              "      <td>0.0000</td>\n",
              "      <td>NaN</td>\n",
              "    </tr>\n",
              "  </tbody>\n",
              "</table>\n",
              "<p>227 rows × 2 columns</p>\n",
              "</div>\n",
              "      <button class=\"colab-df-convert\" onclick=\"convertToInteractive('df-ae142827-a27f-4e64-ba49-6533ed61b6e0')\"\n",
              "              title=\"Convert this dataframe to an interactive table.\"\n",
              "              style=\"display:none;\">\n",
              "        \n",
              "  <svg xmlns=\"http://www.w3.org/2000/svg\" height=\"24px\"viewBox=\"0 0 24 24\"\n",
              "       width=\"24px\">\n",
              "    <path d=\"M0 0h24v24H0V0z\" fill=\"none\"/>\n",
              "    <path d=\"M18.56 5.44l.94 2.06.94-2.06 2.06-.94-2.06-.94-.94-2.06-.94 2.06-2.06.94zm-11 1L8.5 8.5l.94-2.06 2.06-.94-2.06-.94L8.5 2.5l-.94 2.06-2.06.94zm10 10l.94 2.06.94-2.06 2.06-.94-2.06-.94-.94-2.06-.94 2.06-2.06.94z\"/><path d=\"M17.41 7.96l-1.37-1.37c-.4-.4-.92-.59-1.43-.59-.52 0-1.04.2-1.43.59L10.3 9.45l-7.72 7.72c-.78.78-.78 2.05 0 2.83L4 21.41c.39.39.9.59 1.41.59.51 0 1.02-.2 1.41-.59l7.78-7.78 2.81-2.81c.8-.78.8-2.07 0-2.86zM5.41 20L4 18.59l7.72-7.72 1.47 1.35L5.41 20z\"/>\n",
              "  </svg>\n",
              "      </button>\n",
              "      \n",
              "  <style>\n",
              "    .colab-df-container {\n",
              "      display:flex;\n",
              "      flex-wrap:wrap;\n",
              "      gap: 12px;\n",
              "    }\n",
              "\n",
              "    .colab-df-convert {\n",
              "      background-color: #E8F0FE;\n",
              "      border: none;\n",
              "      border-radius: 50%;\n",
              "      cursor: pointer;\n",
              "      display: none;\n",
              "      fill: #1967D2;\n",
              "      height: 32px;\n",
              "      padding: 0 0 0 0;\n",
              "      width: 32px;\n",
              "    }\n",
              "\n",
              "    .colab-df-convert:hover {\n",
              "      background-color: #E2EBFA;\n",
              "      box-shadow: 0px 1px 2px rgba(60, 64, 67, 0.3), 0px 1px 3px 1px rgba(60, 64, 67, 0.15);\n",
              "      fill: #174EA6;\n",
              "    }\n",
              "\n",
              "    [theme=dark] .colab-df-convert {\n",
              "      background-color: #3B4455;\n",
              "      fill: #D2E3FC;\n",
              "    }\n",
              "\n",
              "    [theme=dark] .colab-df-convert:hover {\n",
              "      background-color: #434B5C;\n",
              "      box-shadow: 0px 1px 3px 1px rgba(0, 0, 0, 0.15);\n",
              "      filter: drop-shadow(0px 1px 2px rgba(0, 0, 0, 0.3));\n",
              "      fill: #FFFFFF;\n",
              "    }\n",
              "  </style>\n",
              "\n",
              "      <script>\n",
              "        const buttonEl =\n",
              "          document.querySelector('#df-ae142827-a27f-4e64-ba49-6533ed61b6e0 button.colab-df-convert');\n",
              "        buttonEl.style.display =\n",
              "          google.colab.kernel.accessAllowed ? 'block' : 'none';\n",
              "\n",
              "        async function convertToInteractive(key) {\n",
              "          const element = document.querySelector('#df-ae142827-a27f-4e64-ba49-6533ed61b6e0');\n",
              "          const dataTable =\n",
              "            await google.colab.kernel.invokeFunction('convertToInteractive',\n",
              "                                                     [key], {});\n",
              "          if (!dataTable) return;\n",
              "\n",
              "          const docLinkHtml = 'Like what you see? Visit the ' +\n",
              "            '<a target=\"_blank\" href=https://colab.research.google.com/notebooks/data_table.ipynb>data table notebook</a>'\n",
              "            + ' to learn more about interactive tables.';\n",
              "          element.innerHTML = '';\n",
              "          dataTable['output_type'] = 'display_data';\n",
              "          await google.colab.output.renderOutput(dataTable, element);\n",
              "          const docLink = document.createElement('div');\n",
              "          docLink.innerHTML = docLinkHtml;\n",
              "          element.appendChild(docLink);\n",
              "        }\n",
              "      </script>\n",
              "    </div>\n",
              "  </div>\n",
              "  "
            ]
          },
          "metadata": {},
          "execution_count": 33
        }
      ]
    },
    {
      "cell_type": "code",
      "source": [
        "# Got Nan values because tip amount =0 \n",
        "# I fix it by fill NaN by 0\n",
        "cc_df['tip_per_total_fare'].fillna(0,inplace=True)"
      ],
      "metadata": {
        "id": "sLGhh1yixyrn"
      },
      "id": "sLGhh1yixyrn",
      "execution_count": null,
      "outputs": []
    },
    {
      "cell_type": "code",
      "execution_count": null,
      "id": "449b0d4c",
      "metadata": {
        "id": "449b0d4c"
      },
      "outputs": [],
      "source": [
        "# create non credit card dataframe for calculate non-credit card per total fare\n",
        "non_cc_df = df[df['Payment_type']!=1]"
      ]
    },
    {
      "cell_type": "code",
      "execution_count": null,
      "id": "3f67771a",
      "metadata": {
        "id": "3f67771a"
      },
      "outputs": [],
      "source": [
        "non_cc_df['tip_per_total_fare'] = non_cc_df['Tip_amount'] / non_cc_df['Total_amount']"
      ]
    },
    {
      "cell_type": "markdown",
      "source": [
        "### 4.2 Build a predictive model for tip as a percentage of the total fare. Use as much of the data as you like (or all of it). We will validate a sample."
      ],
      "metadata": {
        "id": "WogkRhseyli4"
      },
      "id": "WogkRhseyli4"
    },
    {
      "cell_type": "code",
      "source": [
        "cc_df.info()"
      ],
      "metadata": {
        "colab": {
          "base_uri": "https://localhost:8080/"
        },
        "id": "LiK4kAway_te",
        "outputId": "ce8ea81f-df59-4522-d27d-4d8e6db119fc"
      },
      "id": "LiK4kAway_te",
      "execution_count": null,
      "outputs": [
        {
          "output_type": "stream",
          "name": "stdout",
          "text": [
            "<class 'pandas.core.frame.DataFrame'>\n",
            "Int64Index: 700113 entries, 0 to 1494925\n",
            "Data columns (total 24 columns):\n",
            " #   Column                 Non-Null Count   Dtype         \n",
            "---  ------                 --------------   -----         \n",
            " 0   VendorID               700113 non-null  int64         \n",
            " 1   lpep_pickup_datetime   700113 non-null  datetime64[ns]\n",
            " 2   Lpep_dropoff_datetime  700113 non-null  datetime64[ns]\n",
            " 3   Store_and_fwd_flag     700113 non-null  object        \n",
            " 4   RateCodeID             700113 non-null  int64         \n",
            " 5   Pickup_longitude       700113 non-null  float64       \n",
            " 6   Pickup_latitude        700113 non-null  float64       \n",
            " 7   Dropoff_longitude      700113 non-null  float64       \n",
            " 8   Dropoff_latitude       700113 non-null  float64       \n",
            " 9   Passenger_count        700113 non-null  int64         \n",
            " 10  Trip_distance          700113 non-null  float64       \n",
            " 11  Fare_amount            700113 non-null  float64       \n",
            " 12  Extra                  700113 non-null  float64       \n",
            " 13  MTA_tax                700113 non-null  float64       \n",
            " 14  Tip_amount             700113 non-null  float64       \n",
            " 15  Tolls_amount           700113 non-null  float64       \n",
            " 16  improvement_surcharge  700113 non-null  float64       \n",
            " 17  Total_amount           700113 non-null  float64       \n",
            " 18  Payment_type           700113 non-null  int64         \n",
            " 19  Trip_type              700110 non-null  float64       \n",
            " 20  lat,long               700113 non-null  object        \n",
            " 21  Hour                   700113 non-null  object        \n",
            " 22  Day                    700113 non-null  object        \n",
            " 23  tip_per_total_fare     700113 non-null  float64       \n",
            "dtypes: datetime64[ns](2), float64(14), int64(4), object(4)\n",
            "memory usage: 133.5+ MB\n"
          ]
        }
      ]
    },
    {
      "cell_type": "code",
      "source": [
        "#Trip type has null data"
      ],
      "metadata": {
        "id": "qOPVInd53MJJ"
      },
      "id": "qOPVInd53MJJ",
      "execution_count": null,
      "outputs": []
    },
    {
      "cell_type": "code",
      "execution_count": null,
      "id": "a225ef1b",
      "metadata": {
        "id": "a225ef1b"
      },
      "outputs": [],
      "source": [
        "# Convert category value to numberic value\n",
        "cc_df=cc_df.replace(to_replace=\"N\",value=1)\n",
        "cc_df=cc_df.replace(to_replace=\"Y\",value=2)"
      ]
    },
    {
      "cell_type": "code",
      "execution_count": null,
      "id": "3312d382",
      "metadata": {
        "colab": {
          "base_uri": "https://localhost:8080/",
          "height": 487
        },
        "id": "3312d382",
        "outputId": "2d9e4080-caef-473e-cb99-27b20a68772e"
      },
      "outputs": [
        {
          "output_type": "execute_result",
          "data": {
            "text/plain": [
              "         VendorID lpep_pickup_datetime Lpep_dropoff_datetime  \\\n",
              "0               2  2015-09-01 00:02:34   2015-09-01 00:02:38   \n",
              "1               2  2015-09-01 00:04:20   2015-09-01 00:04:24   \n",
              "2               2  2015-09-01 00:01:50   2015-09-01 00:04:24   \n",
              "5               2  2015-09-01 00:00:39   2015-09-01 00:05:20   \n",
              "6               2  2015-09-01 00:00:52   2015-09-01 00:05:50   \n",
              "...           ...                  ...                   ...   \n",
              "1494915         1  2015-09-30 23:00:49   2015-09-30 23:23:45   \n",
              "1494916         1  2015-09-30 23:00:29   2015-09-30 23:20:19   \n",
              "1494920         1  2015-09-30 23:01:05   2015-09-30 23:19:14   \n",
              "1494924         1  2015-09-30 23:00:10   2015-09-30 23:03:49   \n",
              "1494925         1  2015-09-30 23:00:11   2015-09-30 23:05:36   \n",
              "\n",
              "         Store_and_fwd_flag  RateCodeID  Pickup_longitude  Pickup_latitude  \\\n",
              "0                         1           5          -73.9795          40.6850   \n",
              "1                         1           5          -74.0108          40.9122   \n",
              "2                         1           1          -73.9214          40.7667   \n",
              "5                         1           1          -73.9453          40.8082   \n",
              "6                         1           1          -73.8909          40.7464   \n",
              "...                     ...         ...               ...              ...   \n",
              "1494915                   1           1          -73.9900          40.6866   \n",
              "1494916                   1           1          -73.9579          40.7219   \n",
              "1494920                   1           1          -73.9963          40.6907   \n",
              "1494924                   1           1          -73.9536          40.5875   \n",
              "1494925                   1           1          -73.9661          40.6814   \n",
              "\n",
              "         Dropoff_longitude  Dropoff_latitude  Passenger_count  Trip_distance  \\\n",
              "0                 -73.9794           40.6850                1         0.0000   \n",
              "1                 -74.0108           40.9122                1         0.0000   \n",
              "2                 -73.9144           40.7647                1         0.5900   \n",
              "5                 -73.9377           40.8212                1         1.0700   \n",
              "6                 -73.8769           40.7563                1         1.4300   \n",
              "...                    ...               ...              ...            ...   \n",
              "1494915           -73.9771           40.7493                1         4.8000   \n",
              "1494916           -73.9128           40.7801                1         5.5000   \n",
              "1494920           -73.9433           40.6842                1         3.5000   \n",
              "1494924           -73.9411           40.5908                1         0.8000   \n",
              "1494925           -73.9555           40.6910                1         1.4000   \n",
              "\n",
              "         Fare_amount  Extra  MTA_tax  Tip_amount  Tolls_amount  \\\n",
              "0             7.8000 0.0000   0.0000      1.9500        0.0000   \n",
              "1            45.0000 0.0000   0.0000      0.0000        0.0000   \n",
              "2             4.0000 0.5000   0.5000      0.5000        0.0000   \n",
              "5             5.5000 0.5000   0.5000      1.3600        0.0000   \n",
              "6             6.5000 0.5000   0.5000      0.0000        0.0000   \n",
              "...              ...    ...      ...         ...           ...   \n",
              "1494915      19.0000 0.5000   0.5000      4.0500        0.0000   \n",
              "1494916      19.0000 0.5000   0.5000      4.0500        0.0000   \n",
              "1494920      15.5000 0.5000   0.5000      4.2000        0.0000   \n",
              "1494924       5.0000 0.5000   0.5000      1.2500        0.0000   \n",
              "1494925       6.5000 0.5000   0.5000      1.0000        0.0000   \n",
              "\n",
              "         improvement_surcharge  Total_amount  Payment_type  Trip_type   \\\n",
              "0                       0.0000        9.7500             1      2.0000   \n",
              "1                       0.0000       45.0000             1      2.0000   \n",
              "2                       0.3000        5.8000             1      1.0000   \n",
              "5                       0.3000        8.1600             1      1.0000   \n",
              "6                       0.3000        7.8000             1      1.0000   \n",
              "...                        ...           ...           ...         ...   \n",
              "1494915                 0.3000       24.3500             1      1.0000   \n",
              "1494916                 0.3000       24.3500             1      1.0000   \n",
              "1494920                 0.3000       21.0000             1      1.0000   \n",
              "1494924                 0.3000        7.5500             1      1.0000   \n",
              "1494925                 0.3000        8.8000             1      1.0000   \n",
              "\n",
              "                                      lat,long Hour Day  tip_per_total_fare  \n",
              "0        40.684955596923835,-73.97948455810547   00  01              0.2000  \n",
              "1         40.91221618652344,-74.01079559326173   00  01              0.0000  \n",
              "2         40.76670837402344,-73.92140960693358   00  01              0.0862  \n",
              "5         40.80818557739258,-73.94529724121094   00  01              0.1667  \n",
              "6          40.7464256286621,-73.89087677001953   00  01              0.0000  \n",
              "...                                        ...  ...  ..                 ...  \n",
              "1494915  40.686561584472656,-73.98996734619139   23  30              0.1663  \n",
              "1494916   40.72185134887695,-73.95793914794923   23  30              0.1663  \n",
              "1494920    40.69069290161133,-73.9963150024414   23  30              0.2000  \n",
              "1494924   40.58748245239258,-73.95360565185547   23  30              0.1656  \n",
              "1494925  40.681350708007805,-73.96611022949219   23  30              0.1136  \n",
              "\n",
              "[700113 rows x 24 columns]"
            ],
            "text/html": [
              "\n",
              "  <div id=\"df-a5838137-da06-4087-b8a7-185f2835474a\">\n",
              "    <div class=\"colab-df-container\">\n",
              "      <div>\n",
              "<style scoped>\n",
              "    .dataframe tbody tr th:only-of-type {\n",
              "        vertical-align: middle;\n",
              "    }\n",
              "\n",
              "    .dataframe tbody tr th {\n",
              "        vertical-align: top;\n",
              "    }\n",
              "\n",
              "    .dataframe thead th {\n",
              "        text-align: right;\n",
              "    }\n",
              "</style>\n",
              "<table border=\"1\" class=\"dataframe\">\n",
              "  <thead>\n",
              "    <tr style=\"text-align: right;\">\n",
              "      <th></th>\n",
              "      <th>VendorID</th>\n",
              "      <th>lpep_pickup_datetime</th>\n",
              "      <th>Lpep_dropoff_datetime</th>\n",
              "      <th>Store_and_fwd_flag</th>\n",
              "      <th>RateCodeID</th>\n",
              "      <th>Pickup_longitude</th>\n",
              "      <th>Pickup_latitude</th>\n",
              "      <th>Dropoff_longitude</th>\n",
              "      <th>Dropoff_latitude</th>\n",
              "      <th>Passenger_count</th>\n",
              "      <th>Trip_distance</th>\n",
              "      <th>Fare_amount</th>\n",
              "      <th>Extra</th>\n",
              "      <th>MTA_tax</th>\n",
              "      <th>Tip_amount</th>\n",
              "      <th>Tolls_amount</th>\n",
              "      <th>improvement_surcharge</th>\n",
              "      <th>Total_amount</th>\n",
              "      <th>Payment_type</th>\n",
              "      <th>Trip_type</th>\n",
              "      <th>lat,long</th>\n",
              "      <th>Hour</th>\n",
              "      <th>Day</th>\n",
              "      <th>tip_per_total_fare</th>\n",
              "    </tr>\n",
              "  </thead>\n",
              "  <tbody>\n",
              "    <tr>\n",
              "      <th>0</th>\n",
              "      <td>2</td>\n",
              "      <td>2015-09-01 00:02:34</td>\n",
              "      <td>2015-09-01 00:02:38</td>\n",
              "      <td>1</td>\n",
              "      <td>5</td>\n",
              "      <td>-73.9795</td>\n",
              "      <td>40.6850</td>\n",
              "      <td>-73.9794</td>\n",
              "      <td>40.6850</td>\n",
              "      <td>1</td>\n",
              "      <td>0.0000</td>\n",
              "      <td>7.8000</td>\n",
              "      <td>0.0000</td>\n",
              "      <td>0.0000</td>\n",
              "      <td>1.9500</td>\n",
              "      <td>0.0000</td>\n",
              "      <td>0.0000</td>\n",
              "      <td>9.7500</td>\n",
              "      <td>1</td>\n",
              "      <td>2.0000</td>\n",
              "      <td>40.684955596923835,-73.97948455810547</td>\n",
              "      <td>00</td>\n",
              "      <td>01</td>\n",
              "      <td>0.2000</td>\n",
              "    </tr>\n",
              "    <tr>\n",
              "      <th>1</th>\n",
              "      <td>2</td>\n",
              "      <td>2015-09-01 00:04:20</td>\n",
              "      <td>2015-09-01 00:04:24</td>\n",
              "      <td>1</td>\n",
              "      <td>5</td>\n",
              "      <td>-74.0108</td>\n",
              "      <td>40.9122</td>\n",
              "      <td>-74.0108</td>\n",
              "      <td>40.9122</td>\n",
              "      <td>1</td>\n",
              "      <td>0.0000</td>\n",
              "      <td>45.0000</td>\n",
              "      <td>0.0000</td>\n",
              "      <td>0.0000</td>\n",
              "      <td>0.0000</td>\n",
              "      <td>0.0000</td>\n",
              "      <td>0.0000</td>\n",
              "      <td>45.0000</td>\n",
              "      <td>1</td>\n",
              "      <td>2.0000</td>\n",
              "      <td>40.91221618652344,-74.01079559326173</td>\n",
              "      <td>00</td>\n",
              "      <td>01</td>\n",
              "      <td>0.0000</td>\n",
              "    </tr>\n",
              "    <tr>\n",
              "      <th>2</th>\n",
              "      <td>2</td>\n",
              "      <td>2015-09-01 00:01:50</td>\n",
              "      <td>2015-09-01 00:04:24</td>\n",
              "      <td>1</td>\n",
              "      <td>1</td>\n",
              "      <td>-73.9214</td>\n",
              "      <td>40.7667</td>\n",
              "      <td>-73.9144</td>\n",
              "      <td>40.7647</td>\n",
              "      <td>1</td>\n",
              "      <td>0.5900</td>\n",
              "      <td>4.0000</td>\n",
              "      <td>0.5000</td>\n",
              "      <td>0.5000</td>\n",
              "      <td>0.5000</td>\n",
              "      <td>0.0000</td>\n",
              "      <td>0.3000</td>\n",
              "      <td>5.8000</td>\n",
              "      <td>1</td>\n",
              "      <td>1.0000</td>\n",
              "      <td>40.76670837402344,-73.92140960693358</td>\n",
              "      <td>00</td>\n",
              "      <td>01</td>\n",
              "      <td>0.0862</td>\n",
              "    </tr>\n",
              "    <tr>\n",
              "      <th>5</th>\n",
              "      <td>2</td>\n",
              "      <td>2015-09-01 00:00:39</td>\n",
              "      <td>2015-09-01 00:05:20</td>\n",
              "      <td>1</td>\n",
              "      <td>1</td>\n",
              "      <td>-73.9453</td>\n",
              "      <td>40.8082</td>\n",
              "      <td>-73.9377</td>\n",
              "      <td>40.8212</td>\n",
              "      <td>1</td>\n",
              "      <td>1.0700</td>\n",
              "      <td>5.5000</td>\n",
              "      <td>0.5000</td>\n",
              "      <td>0.5000</td>\n",
              "      <td>1.3600</td>\n",
              "      <td>0.0000</td>\n",
              "      <td>0.3000</td>\n",
              "      <td>8.1600</td>\n",
              "      <td>1</td>\n",
              "      <td>1.0000</td>\n",
              "      <td>40.80818557739258,-73.94529724121094</td>\n",
              "      <td>00</td>\n",
              "      <td>01</td>\n",
              "      <td>0.1667</td>\n",
              "    </tr>\n",
              "    <tr>\n",
              "      <th>6</th>\n",
              "      <td>2</td>\n",
              "      <td>2015-09-01 00:00:52</td>\n",
              "      <td>2015-09-01 00:05:50</td>\n",
              "      <td>1</td>\n",
              "      <td>1</td>\n",
              "      <td>-73.8909</td>\n",
              "      <td>40.7464</td>\n",
              "      <td>-73.8769</td>\n",
              "      <td>40.7563</td>\n",
              "      <td>1</td>\n",
              "      <td>1.4300</td>\n",
              "      <td>6.5000</td>\n",
              "      <td>0.5000</td>\n",
              "      <td>0.5000</td>\n",
              "      <td>0.0000</td>\n",
              "      <td>0.0000</td>\n",
              "      <td>0.3000</td>\n",
              "      <td>7.8000</td>\n",
              "      <td>1</td>\n",
              "      <td>1.0000</td>\n",
              "      <td>40.7464256286621,-73.89087677001953</td>\n",
              "      <td>00</td>\n",
              "      <td>01</td>\n",
              "      <td>0.0000</td>\n",
              "    </tr>\n",
              "    <tr>\n",
              "      <th>...</th>\n",
              "      <td>...</td>\n",
              "      <td>...</td>\n",
              "      <td>...</td>\n",
              "      <td>...</td>\n",
              "      <td>...</td>\n",
              "      <td>...</td>\n",
              "      <td>...</td>\n",
              "      <td>...</td>\n",
              "      <td>...</td>\n",
              "      <td>...</td>\n",
              "      <td>...</td>\n",
              "      <td>...</td>\n",
              "      <td>...</td>\n",
              "      <td>...</td>\n",
              "      <td>...</td>\n",
              "      <td>...</td>\n",
              "      <td>...</td>\n",
              "      <td>...</td>\n",
              "      <td>...</td>\n",
              "      <td>...</td>\n",
              "      <td>...</td>\n",
              "      <td>...</td>\n",
              "      <td>...</td>\n",
              "      <td>...</td>\n",
              "    </tr>\n",
              "    <tr>\n",
              "      <th>1494915</th>\n",
              "      <td>1</td>\n",
              "      <td>2015-09-30 23:00:49</td>\n",
              "      <td>2015-09-30 23:23:45</td>\n",
              "      <td>1</td>\n",
              "      <td>1</td>\n",
              "      <td>-73.9900</td>\n",
              "      <td>40.6866</td>\n",
              "      <td>-73.9771</td>\n",
              "      <td>40.7493</td>\n",
              "      <td>1</td>\n",
              "      <td>4.8000</td>\n",
              "      <td>19.0000</td>\n",
              "      <td>0.5000</td>\n",
              "      <td>0.5000</td>\n",
              "      <td>4.0500</td>\n",
              "      <td>0.0000</td>\n",
              "      <td>0.3000</td>\n",
              "      <td>24.3500</td>\n",
              "      <td>1</td>\n",
              "      <td>1.0000</td>\n",
              "      <td>40.686561584472656,-73.98996734619139</td>\n",
              "      <td>23</td>\n",
              "      <td>30</td>\n",
              "      <td>0.1663</td>\n",
              "    </tr>\n",
              "    <tr>\n",
              "      <th>1494916</th>\n",
              "      <td>1</td>\n",
              "      <td>2015-09-30 23:00:29</td>\n",
              "      <td>2015-09-30 23:20:19</td>\n",
              "      <td>1</td>\n",
              "      <td>1</td>\n",
              "      <td>-73.9579</td>\n",
              "      <td>40.7219</td>\n",
              "      <td>-73.9128</td>\n",
              "      <td>40.7801</td>\n",
              "      <td>1</td>\n",
              "      <td>5.5000</td>\n",
              "      <td>19.0000</td>\n",
              "      <td>0.5000</td>\n",
              "      <td>0.5000</td>\n",
              "      <td>4.0500</td>\n",
              "      <td>0.0000</td>\n",
              "      <td>0.3000</td>\n",
              "      <td>24.3500</td>\n",
              "      <td>1</td>\n",
              "      <td>1.0000</td>\n",
              "      <td>40.72185134887695,-73.95793914794923</td>\n",
              "      <td>23</td>\n",
              "      <td>30</td>\n",
              "      <td>0.1663</td>\n",
              "    </tr>\n",
              "    <tr>\n",
              "      <th>1494920</th>\n",
              "      <td>1</td>\n",
              "      <td>2015-09-30 23:01:05</td>\n",
              "      <td>2015-09-30 23:19:14</td>\n",
              "      <td>1</td>\n",
              "      <td>1</td>\n",
              "      <td>-73.9963</td>\n",
              "      <td>40.6907</td>\n",
              "      <td>-73.9433</td>\n",
              "      <td>40.6842</td>\n",
              "      <td>1</td>\n",
              "      <td>3.5000</td>\n",
              "      <td>15.5000</td>\n",
              "      <td>0.5000</td>\n",
              "      <td>0.5000</td>\n",
              "      <td>4.2000</td>\n",
              "      <td>0.0000</td>\n",
              "      <td>0.3000</td>\n",
              "      <td>21.0000</td>\n",
              "      <td>1</td>\n",
              "      <td>1.0000</td>\n",
              "      <td>40.69069290161133,-73.9963150024414</td>\n",
              "      <td>23</td>\n",
              "      <td>30</td>\n",
              "      <td>0.2000</td>\n",
              "    </tr>\n",
              "    <tr>\n",
              "      <th>1494924</th>\n",
              "      <td>1</td>\n",
              "      <td>2015-09-30 23:00:10</td>\n",
              "      <td>2015-09-30 23:03:49</td>\n",
              "      <td>1</td>\n",
              "      <td>1</td>\n",
              "      <td>-73.9536</td>\n",
              "      <td>40.5875</td>\n",
              "      <td>-73.9411</td>\n",
              "      <td>40.5908</td>\n",
              "      <td>1</td>\n",
              "      <td>0.8000</td>\n",
              "      <td>5.0000</td>\n",
              "      <td>0.5000</td>\n",
              "      <td>0.5000</td>\n",
              "      <td>1.2500</td>\n",
              "      <td>0.0000</td>\n",
              "      <td>0.3000</td>\n",
              "      <td>7.5500</td>\n",
              "      <td>1</td>\n",
              "      <td>1.0000</td>\n",
              "      <td>40.58748245239258,-73.95360565185547</td>\n",
              "      <td>23</td>\n",
              "      <td>30</td>\n",
              "      <td>0.1656</td>\n",
              "    </tr>\n",
              "    <tr>\n",
              "      <th>1494925</th>\n",
              "      <td>1</td>\n",
              "      <td>2015-09-30 23:00:11</td>\n",
              "      <td>2015-09-30 23:05:36</td>\n",
              "      <td>1</td>\n",
              "      <td>1</td>\n",
              "      <td>-73.9661</td>\n",
              "      <td>40.6814</td>\n",
              "      <td>-73.9555</td>\n",
              "      <td>40.6910</td>\n",
              "      <td>1</td>\n",
              "      <td>1.4000</td>\n",
              "      <td>6.5000</td>\n",
              "      <td>0.5000</td>\n",
              "      <td>0.5000</td>\n",
              "      <td>1.0000</td>\n",
              "      <td>0.0000</td>\n",
              "      <td>0.3000</td>\n",
              "      <td>8.8000</td>\n",
              "      <td>1</td>\n",
              "      <td>1.0000</td>\n",
              "      <td>40.681350708007805,-73.96611022949219</td>\n",
              "      <td>23</td>\n",
              "      <td>30</td>\n",
              "      <td>0.1136</td>\n",
              "    </tr>\n",
              "  </tbody>\n",
              "</table>\n",
              "<p>700113 rows × 24 columns</p>\n",
              "</div>\n",
              "      <button class=\"colab-df-convert\" onclick=\"convertToInteractive('df-a5838137-da06-4087-b8a7-185f2835474a')\"\n",
              "              title=\"Convert this dataframe to an interactive table.\"\n",
              "              style=\"display:none;\">\n",
              "        \n",
              "  <svg xmlns=\"http://www.w3.org/2000/svg\" height=\"24px\"viewBox=\"0 0 24 24\"\n",
              "       width=\"24px\">\n",
              "    <path d=\"M0 0h24v24H0V0z\" fill=\"none\"/>\n",
              "    <path d=\"M18.56 5.44l.94 2.06.94-2.06 2.06-.94-2.06-.94-.94-2.06-.94 2.06-2.06.94zm-11 1L8.5 8.5l.94-2.06 2.06-.94-2.06-.94L8.5 2.5l-.94 2.06-2.06.94zm10 10l.94 2.06.94-2.06 2.06-.94-2.06-.94-.94-2.06-.94 2.06-2.06.94z\"/><path d=\"M17.41 7.96l-1.37-1.37c-.4-.4-.92-.59-1.43-.59-.52 0-1.04.2-1.43.59L10.3 9.45l-7.72 7.72c-.78.78-.78 2.05 0 2.83L4 21.41c.39.39.9.59 1.41.59.51 0 1.02-.2 1.41-.59l7.78-7.78 2.81-2.81c.8-.78.8-2.07 0-2.86zM5.41 20L4 18.59l7.72-7.72 1.47 1.35L5.41 20z\"/>\n",
              "  </svg>\n",
              "      </button>\n",
              "      \n",
              "  <style>\n",
              "    .colab-df-container {\n",
              "      display:flex;\n",
              "      flex-wrap:wrap;\n",
              "      gap: 12px;\n",
              "    }\n",
              "\n",
              "    .colab-df-convert {\n",
              "      background-color: #E8F0FE;\n",
              "      border: none;\n",
              "      border-radius: 50%;\n",
              "      cursor: pointer;\n",
              "      display: none;\n",
              "      fill: #1967D2;\n",
              "      height: 32px;\n",
              "      padding: 0 0 0 0;\n",
              "      width: 32px;\n",
              "    }\n",
              "\n",
              "    .colab-df-convert:hover {\n",
              "      background-color: #E2EBFA;\n",
              "      box-shadow: 0px 1px 2px rgba(60, 64, 67, 0.3), 0px 1px 3px 1px rgba(60, 64, 67, 0.15);\n",
              "      fill: #174EA6;\n",
              "    }\n",
              "\n",
              "    [theme=dark] .colab-df-convert {\n",
              "      background-color: #3B4455;\n",
              "      fill: #D2E3FC;\n",
              "    }\n",
              "\n",
              "    [theme=dark] .colab-df-convert:hover {\n",
              "      background-color: #434B5C;\n",
              "      box-shadow: 0px 1px 3px 1px rgba(0, 0, 0, 0.15);\n",
              "      filter: drop-shadow(0px 1px 2px rgba(0, 0, 0, 0.3));\n",
              "      fill: #FFFFFF;\n",
              "    }\n",
              "  </style>\n",
              "\n",
              "      <script>\n",
              "        const buttonEl =\n",
              "          document.querySelector('#df-a5838137-da06-4087-b8a7-185f2835474a button.colab-df-convert');\n",
              "        buttonEl.style.display =\n",
              "          google.colab.kernel.accessAllowed ? 'block' : 'none';\n",
              "\n",
              "        async function convertToInteractive(key) {\n",
              "          const element = document.querySelector('#df-a5838137-da06-4087-b8a7-185f2835474a');\n",
              "          const dataTable =\n",
              "            await google.colab.kernel.invokeFunction('convertToInteractive',\n",
              "                                                     [key], {});\n",
              "          if (!dataTable) return;\n",
              "\n",
              "          const docLinkHtml = 'Like what you see? Visit the ' +\n",
              "            '<a target=\"_blank\" href=https://colab.research.google.com/notebooks/data_table.ipynb>data table notebook</a>'\n",
              "            + ' to learn more about interactive tables.';\n",
              "          element.innerHTML = '';\n",
              "          dataTable['output_type'] = 'display_data';\n",
              "          await google.colab.output.renderOutput(dataTable, element);\n",
              "          const docLink = document.createElement('div');\n",
              "          docLink.innerHTML = docLinkHtml;\n",
              "          element.appendChild(docLink);\n",
              "        }\n",
              "      </script>\n",
              "    </div>\n",
              "  </div>\n",
              "  "
            ]
          },
          "metadata": {},
          "execution_count": 40
        }
      ],
      "source": [
        "cc_df"
      ]
    },
    {
      "cell_type": "code",
      "execution_count": null,
      "id": "286e4cb7",
      "metadata": {
        "id": "286e4cb7"
      },
      "outputs": [],
      "source": [
        "df_1 = cc_df.copy()"
      ]
    },
    {
      "cell_type": "code",
      "execution_count": null,
      "id": "78d5553f",
      "metadata": {
        "id": "78d5553f"
      },
      "outputs": [],
      "source": [
        "# select columns for predict tip per fare amount model\n",
        "# payment type =  1 \n",
        "# from tip amount dictionary : This field is automatically populated for credit card tips. Cash tips are not included.\n",
        "# delete vendor id,date time, lat long,payment type\n",
        "df_1 = df_1.drop(['VendorID', 'lpep_pickup_datetime', 'Lpep_dropoff_datetime','Pickup_longitude',\n",
        "       'Pickup_latitude', 'Dropoff_longitude', 'Dropoff_latitude','Payment_type','lat,long'],axis=1)"
      ]
    },
    {
      "cell_type": "code",
      "execution_count": null,
      "id": "fa6c9081",
      "metadata": {
        "id": "fa6c9081"
      },
      "outputs": [],
      "source": [
        "df_1= df_1.astype('float64')"
      ]
    },
    {
      "cell_type": "code",
      "execution_count": null,
      "id": "1c9257bb",
      "metadata": {
        "colab": {
          "base_uri": "https://localhost:8080/"
        },
        "id": "1c9257bb",
        "outputId": "dcc664af-91af-4916-b6ff-24a8b6604ac4"
      },
      "outputs": [
        {
          "output_type": "execute_result",
          "data": {
            "text/plain": [
              "Store_and_fwd_flag       0\n",
              "RateCodeID               0\n",
              "Passenger_count          0\n",
              "Trip_distance            0\n",
              "Fare_amount              0\n",
              "Extra                    0\n",
              "MTA_tax                  0\n",
              "Tip_amount               0\n",
              "Tolls_amount             0\n",
              "improvement_surcharge    0\n",
              "Total_amount             0\n",
              "Trip_type                3\n",
              "Hour                     0\n",
              "Day                      0\n",
              "tip_per_total_fare       0\n",
              "dtype: int64"
            ]
          },
          "metadata": {},
          "execution_count": 44
        }
      ],
      "source": [
        "df_1.isnull().sum()"
      ]
    },
    {
      "cell_type": "code",
      "execution_count": null,
      "id": "909bddff",
      "metadata": {
        "id": "909bddff"
      },
      "outputs": [],
      "source": [
        "# fill na value\n",
        "\n",
        "df_1['Trip_type '].fillna(df_1['Trip_type '].mode()[0], inplace=True)\n",
        "\n",
        "# tip per total fare เป็น Nan \n",
        "# from tip/total amount = 0/0 becaue tip amount = 0\n",
        "df_1['tip_per_total_fare'].fillna(0,inplace=True)"
      ]
    },
    {
      "cell_type": "code",
      "execution_count": null,
      "id": "24ffbaea",
      "metadata": {
        "colab": {
          "base_uri": "https://localhost:8080/"
        },
        "id": "24ffbaea",
        "outputId": "80055668-177c-4353-f143-0ea50e2561f9"
      },
      "outputs": [
        {
          "output_type": "execute_result",
          "data": {
            "text/plain": [
              "Store_and_fwd_flag       0\n",
              "RateCodeID               0\n",
              "Passenger_count          0\n",
              "Trip_distance            0\n",
              "Fare_amount              0\n",
              "Extra                    0\n",
              "MTA_tax                  0\n",
              "Tip_amount               0\n",
              "Tolls_amount             0\n",
              "improvement_surcharge    0\n",
              "Total_amount             0\n",
              "Trip_type                0\n",
              "Hour                     0\n",
              "Day                      0\n",
              "tip_per_total_fare       0\n",
              "dtype: int64"
            ]
          },
          "metadata": {},
          "execution_count": 46
        }
      ],
      "source": [
        "# check null again\n",
        "df_1.isnull().sum()"
      ]
    },
    {
      "cell_type": "code",
      "execution_count": null,
      "id": "cdd9963d",
      "metadata": {
        "id": "cdd9963d"
      },
      "outputs": [],
      "source": [
        "corr_matrix = df_1.corr()"
      ]
    },
    {
      "cell_type": "code",
      "execution_count": null,
      "id": "39f87ffc",
      "metadata": {
        "colab": {
          "base_uri": "https://localhost:8080/"
        },
        "id": "39f87ffc",
        "outputId": "26ad2fb9-dd1c-4ae7-cda3-2a5608d44dc3"
      },
      "outputs": [
        {
          "output_type": "execute_result",
          "data": {
            "text/plain": [
              "tip_per_total_fare      1.0000\n",
              "Tip_amount              0.5717\n",
              "MTA_tax                 0.1007\n",
              "improvement_surcharge   0.0975\n",
              "Trip_type               0.0974\n",
              "RateCodeID              0.0926\n",
              "Fare_amount             0.0740\n",
              "Total_amount            0.0710\n",
              "Trip_distance           0.0447\n",
              "Hour                    0.0147\n",
              "Extra                   0.0128\n",
              "Day                     0.0110\n",
              "Passenger_count         0.0097\n",
              "Tolls_amount            0.0048\n",
              "Store_and_fwd_flag      0.0020\n",
              "Name: tip_per_total_fare, dtype: float64"
            ]
          },
          "metadata": {},
          "execution_count": 48
        }
      ],
      "source": [
        "# use absolute to found max correlation between tip per total fare \n",
        "corr_matrix['tip_per_total_fare'].abs().sort_values(ascending=False)"
      ]
    },
    {
      "cell_type": "code",
      "execution_count": null,
      "id": "babf22c3",
      "metadata": {
        "id": "babf22c3"
      },
      "outputs": [],
      "source": [
        "# select feature that have correlations with target variable >= 0.01"
      ]
    },
    {
      "cell_type": "code",
      "execution_count": null,
      "id": "c8308598",
      "metadata": {
        "id": "c8308598"
      },
      "outputs": [],
      "source": [
        "corr_matrix = corr_matrix[corr_matrix['tip_per_total_fare'].abs() >= 0.01]"
      ]
    },
    {
      "cell_type": "code",
      "execution_count": null,
      "id": "1d6e95ba",
      "metadata": {
        "colab": {
          "base_uri": "https://localhost:8080/"
        },
        "id": "1d6e95ba",
        "outputId": "3156cdb9-be31-479a-e198-13332c62c315"
      },
      "outputs": [
        {
          "output_type": "execute_result",
          "data": {
            "text/plain": [
              "(15, 12)"
            ]
          },
          "metadata": {},
          "execution_count": 51
        }
      ],
      "source": [
        "corr_matrix.T.shape"
      ]
    },
    {
      "cell_type": "code",
      "execution_count": null,
      "id": "ce5df3cf",
      "metadata": {
        "id": "ce5df3cf"
      },
      "outputs": [],
      "source": [
        "col = corr_matrix.T.columns"
      ]
    },
    {
      "cell_type": "code",
      "execution_count": null,
      "id": "2f6accde",
      "metadata": {
        "colab": {
          "base_uri": "https://localhost:8080/"
        },
        "id": "2f6accde",
        "outputId": "488607c1-0509-47b4-c8dc-8c984634334f"
      },
      "outputs": [
        {
          "output_type": "execute_result",
          "data": {
            "text/plain": [
              "Index(['RateCodeID', 'Trip_distance', 'Fare_amount', 'Extra', 'MTA_tax',\n",
              "       'Tip_amount', 'improvement_surcharge', 'Total_amount', 'Trip_type ',\n",
              "       'Hour', 'Day', 'tip_per_total_fare'],\n",
              "      dtype='object')"
            ]
          },
          "metadata": {},
          "execution_count": 53
        }
      ],
      "source": [
        "col"
      ]
    },
    {
      "cell_type": "code",
      "execution_count": null,
      "id": "5e7667e2",
      "metadata": {
        "id": "5e7667e2"
      },
      "outputs": [],
      "source": [
        "# use selected variable (variable which correlation with targer variable >= 0.01)\n",
        "df_1 = df_1[col]"
      ]
    },
    {
      "cell_type": "code",
      "execution_count": null,
      "id": "365bb19b",
      "metadata": {
        "colab": {
          "base_uri": "https://localhost:8080/",
          "height": 224
        },
        "id": "365bb19b",
        "outputId": "57927694-fb6f-410f-e374-16e895b17f5f"
      },
      "outputs": [
        {
          "output_type": "stream",
          "name": "stdout",
          "text": [
            "(700113, 12)\n"
          ]
        },
        {
          "output_type": "display_data",
          "data": {
            "text/plain": [
              "   RateCodeID  Trip_distance  Fare_amount  Extra  MTA_tax  Tip_amount  \\\n",
              "0      5.0000         0.0000       7.8000 0.0000   0.0000      1.9500   \n",
              "1      5.0000         0.0000      45.0000 0.0000   0.0000      0.0000   \n",
              "2      1.0000         0.5900       4.0000 0.5000   0.5000      0.5000   \n",
              "5      1.0000         1.0700       5.5000 0.5000   0.5000      1.3600   \n",
              "6      1.0000         1.4300       6.5000 0.5000   0.5000      0.0000   \n",
              "\n",
              "   improvement_surcharge  Total_amount  Trip_type    Hour    Day  \\\n",
              "0                 0.0000        9.7500      2.0000 0.0000 1.0000   \n",
              "1                 0.0000       45.0000      2.0000 0.0000 1.0000   \n",
              "2                 0.3000        5.8000      1.0000 0.0000 1.0000   \n",
              "5                 0.3000        8.1600      1.0000 0.0000 1.0000   \n",
              "6                 0.3000        7.8000      1.0000 0.0000 1.0000   \n",
              "\n",
              "   tip_per_total_fare  \n",
              "0              0.2000  \n",
              "1              0.0000  \n",
              "2              0.0862  \n",
              "5              0.1667  \n",
              "6              0.0000  "
            ],
            "text/html": [
              "\n",
              "  <div id=\"df-b4e1ee30-dd07-4deb-9b8c-d1a1b6296e95\">\n",
              "    <div class=\"colab-df-container\">\n",
              "      <div>\n",
              "<style scoped>\n",
              "    .dataframe tbody tr th:only-of-type {\n",
              "        vertical-align: middle;\n",
              "    }\n",
              "\n",
              "    .dataframe tbody tr th {\n",
              "        vertical-align: top;\n",
              "    }\n",
              "\n",
              "    .dataframe thead th {\n",
              "        text-align: right;\n",
              "    }\n",
              "</style>\n",
              "<table border=\"1\" class=\"dataframe\">\n",
              "  <thead>\n",
              "    <tr style=\"text-align: right;\">\n",
              "      <th></th>\n",
              "      <th>RateCodeID</th>\n",
              "      <th>Trip_distance</th>\n",
              "      <th>Fare_amount</th>\n",
              "      <th>Extra</th>\n",
              "      <th>MTA_tax</th>\n",
              "      <th>Tip_amount</th>\n",
              "      <th>improvement_surcharge</th>\n",
              "      <th>Total_amount</th>\n",
              "      <th>Trip_type</th>\n",
              "      <th>Hour</th>\n",
              "      <th>Day</th>\n",
              "      <th>tip_per_total_fare</th>\n",
              "    </tr>\n",
              "  </thead>\n",
              "  <tbody>\n",
              "    <tr>\n",
              "      <th>0</th>\n",
              "      <td>5.0000</td>\n",
              "      <td>0.0000</td>\n",
              "      <td>7.8000</td>\n",
              "      <td>0.0000</td>\n",
              "      <td>0.0000</td>\n",
              "      <td>1.9500</td>\n",
              "      <td>0.0000</td>\n",
              "      <td>9.7500</td>\n",
              "      <td>2.0000</td>\n",
              "      <td>0.0000</td>\n",
              "      <td>1.0000</td>\n",
              "      <td>0.2000</td>\n",
              "    </tr>\n",
              "    <tr>\n",
              "      <th>1</th>\n",
              "      <td>5.0000</td>\n",
              "      <td>0.0000</td>\n",
              "      <td>45.0000</td>\n",
              "      <td>0.0000</td>\n",
              "      <td>0.0000</td>\n",
              "      <td>0.0000</td>\n",
              "      <td>0.0000</td>\n",
              "      <td>45.0000</td>\n",
              "      <td>2.0000</td>\n",
              "      <td>0.0000</td>\n",
              "      <td>1.0000</td>\n",
              "      <td>0.0000</td>\n",
              "    </tr>\n",
              "    <tr>\n",
              "      <th>2</th>\n",
              "      <td>1.0000</td>\n",
              "      <td>0.5900</td>\n",
              "      <td>4.0000</td>\n",
              "      <td>0.5000</td>\n",
              "      <td>0.5000</td>\n",
              "      <td>0.5000</td>\n",
              "      <td>0.3000</td>\n",
              "      <td>5.8000</td>\n",
              "      <td>1.0000</td>\n",
              "      <td>0.0000</td>\n",
              "      <td>1.0000</td>\n",
              "      <td>0.0862</td>\n",
              "    </tr>\n",
              "    <tr>\n",
              "      <th>5</th>\n",
              "      <td>1.0000</td>\n",
              "      <td>1.0700</td>\n",
              "      <td>5.5000</td>\n",
              "      <td>0.5000</td>\n",
              "      <td>0.5000</td>\n",
              "      <td>1.3600</td>\n",
              "      <td>0.3000</td>\n",
              "      <td>8.1600</td>\n",
              "      <td>1.0000</td>\n",
              "      <td>0.0000</td>\n",
              "      <td>1.0000</td>\n",
              "      <td>0.1667</td>\n",
              "    </tr>\n",
              "    <tr>\n",
              "      <th>6</th>\n",
              "      <td>1.0000</td>\n",
              "      <td>1.4300</td>\n",
              "      <td>6.5000</td>\n",
              "      <td>0.5000</td>\n",
              "      <td>0.5000</td>\n",
              "      <td>0.0000</td>\n",
              "      <td>0.3000</td>\n",
              "      <td>7.8000</td>\n",
              "      <td>1.0000</td>\n",
              "      <td>0.0000</td>\n",
              "      <td>1.0000</td>\n",
              "      <td>0.0000</td>\n",
              "    </tr>\n",
              "  </tbody>\n",
              "</table>\n",
              "</div>\n",
              "      <button class=\"colab-df-convert\" onclick=\"convertToInteractive('df-b4e1ee30-dd07-4deb-9b8c-d1a1b6296e95')\"\n",
              "              title=\"Convert this dataframe to an interactive table.\"\n",
              "              style=\"display:none;\">\n",
              "        \n",
              "  <svg xmlns=\"http://www.w3.org/2000/svg\" height=\"24px\"viewBox=\"0 0 24 24\"\n",
              "       width=\"24px\">\n",
              "    <path d=\"M0 0h24v24H0V0z\" fill=\"none\"/>\n",
              "    <path d=\"M18.56 5.44l.94 2.06.94-2.06 2.06-.94-2.06-.94-.94-2.06-.94 2.06-2.06.94zm-11 1L8.5 8.5l.94-2.06 2.06-.94-2.06-.94L8.5 2.5l-.94 2.06-2.06.94zm10 10l.94 2.06.94-2.06 2.06-.94-2.06-.94-.94-2.06-.94 2.06-2.06.94z\"/><path d=\"M17.41 7.96l-1.37-1.37c-.4-.4-.92-.59-1.43-.59-.52 0-1.04.2-1.43.59L10.3 9.45l-7.72 7.72c-.78.78-.78 2.05 0 2.83L4 21.41c.39.39.9.59 1.41.59.51 0 1.02-.2 1.41-.59l7.78-7.78 2.81-2.81c.8-.78.8-2.07 0-2.86zM5.41 20L4 18.59l7.72-7.72 1.47 1.35L5.41 20z\"/>\n",
              "  </svg>\n",
              "      </button>\n",
              "      \n",
              "  <style>\n",
              "    .colab-df-container {\n",
              "      display:flex;\n",
              "      flex-wrap:wrap;\n",
              "      gap: 12px;\n",
              "    }\n",
              "\n",
              "    .colab-df-convert {\n",
              "      background-color: #E8F0FE;\n",
              "      border: none;\n",
              "      border-radius: 50%;\n",
              "      cursor: pointer;\n",
              "      display: none;\n",
              "      fill: #1967D2;\n",
              "      height: 32px;\n",
              "      padding: 0 0 0 0;\n",
              "      width: 32px;\n",
              "    }\n",
              "\n",
              "    .colab-df-convert:hover {\n",
              "      background-color: #E2EBFA;\n",
              "      box-shadow: 0px 1px 2px rgba(60, 64, 67, 0.3), 0px 1px 3px 1px rgba(60, 64, 67, 0.15);\n",
              "      fill: #174EA6;\n",
              "    }\n",
              "\n",
              "    [theme=dark] .colab-df-convert {\n",
              "      background-color: #3B4455;\n",
              "      fill: #D2E3FC;\n",
              "    }\n",
              "\n",
              "    [theme=dark] .colab-df-convert:hover {\n",
              "      background-color: #434B5C;\n",
              "      box-shadow: 0px 1px 3px 1px rgba(0, 0, 0, 0.15);\n",
              "      filter: drop-shadow(0px 1px 2px rgba(0, 0, 0, 0.3));\n",
              "      fill: #FFFFFF;\n",
              "    }\n",
              "  </style>\n",
              "\n",
              "      <script>\n",
              "        const buttonEl =\n",
              "          document.querySelector('#df-b4e1ee30-dd07-4deb-9b8c-d1a1b6296e95 button.colab-df-convert');\n",
              "        buttonEl.style.display =\n",
              "          google.colab.kernel.accessAllowed ? 'block' : 'none';\n",
              "\n",
              "        async function convertToInteractive(key) {\n",
              "          const element = document.querySelector('#df-b4e1ee30-dd07-4deb-9b8c-d1a1b6296e95');\n",
              "          const dataTable =\n",
              "            await google.colab.kernel.invokeFunction('convertToInteractive',\n",
              "                                                     [key], {});\n",
              "          if (!dataTable) return;\n",
              "\n",
              "          const docLinkHtml = 'Like what you see? Visit the ' +\n",
              "            '<a target=\"_blank\" href=https://colab.research.google.com/notebooks/data_table.ipynb>data table notebook</a>'\n",
              "            + ' to learn more about interactive tables.';\n",
              "          element.innerHTML = '';\n",
              "          dataTable['output_type'] = 'display_data';\n",
              "          await google.colab.output.renderOutput(dataTable, element);\n",
              "          const docLink = document.createElement('div');\n",
              "          docLink.innerHTML = docLinkHtml;\n",
              "          element.appendChild(docLink);\n",
              "        }\n",
              "      </script>\n",
              "    </div>\n",
              "  </div>\n",
              "  "
            ]
          },
          "metadata": {}
        }
      ],
      "source": [
        "print(df_1.shape)\n",
        "display(df_1.head())"
      ]
    },
    {
      "cell_type": "markdown",
      "source": [
        "#### Prediction Regression Model for tip per total fare"
      ],
      "metadata": {
        "id": "e1KBjDk83lgA"
      },
      "id": "e1KBjDk83lgA"
    },
    {
      "cell_type": "code",
      "execution_count": null,
      "id": "60e5e771",
      "metadata": {
        "colab": {
          "base_uri": "https://localhost:8080/"
        },
        "id": "60e5e771",
        "outputId": "15fd4f46-2751-4142-f397-4d76bf18f8fd"
      },
      "outputs": [
        {
          "output_type": "execute_result",
          "data": {
            "text/plain": [
              "RateCodeID               0\n",
              "Trip_distance            0\n",
              "Fare_amount              0\n",
              "Extra                    0\n",
              "MTA_tax                  0\n",
              "Tip_amount               0\n",
              "improvement_surcharge    0\n",
              "Total_amount             0\n",
              "Trip_type                0\n",
              "Hour                     0\n",
              "Day                      0\n",
              "tip_per_total_fare       0\n",
              "dtype: int64"
            ]
          },
          "metadata": {},
          "execution_count": 56
        }
      ],
      "source": [
        "df_1.isnull().sum()"
      ]
    },
    {
      "cell_type": "code",
      "source": [
        "X = df_1.drop(\"tip_per_total_fare\",axis=1)\n",
        "y = df_1[\"tip_per_total_fare\"]"
      ],
      "metadata": {
        "id": "VpVdxdzy3keC"
      },
      "id": "VpVdxdzy3keC",
      "execution_count": null,
      "outputs": []
    },
    {
      "cell_type": "code",
      "source": [
        "X_numpy = X.to_numpy()\n",
        "y_numpy = y.to_numpy()"
      ],
      "metadata": {
        "id": "mx8psxLe30Tv"
      },
      "id": "mx8psxLe30Tv",
      "execution_count": null,
      "outputs": []
    },
    {
      "cell_type": "code",
      "source": [
        "df_1.describe()"
      ],
      "metadata": {
        "colab": {
          "base_uri": "https://localhost:8080/",
          "height": 364
        },
        "id": "USIAkvX232kp",
        "outputId": "949f7c9a-b0e2-4a26-dc84-398a1496e416"
      },
      "id": "USIAkvX232kp",
      "execution_count": null,
      "outputs": [
        {
          "output_type": "execute_result",
          "data": {
            "text/plain": [
              "       RateCodeID  Trip_distance  Fare_amount       Extra     MTA_tax  \\\n",
              "count 700113.0000    700113.0000  700113.0000 700113.0000 700113.0000   \n",
              "mean       1.0696         3.4459      14.1622      0.3567      0.4917   \n",
              "std        0.5484         3.2795      10.6570      0.3624      0.0640   \n",
              "min        1.0000         0.0000      -3.5000     -0.5000     -0.5000   \n",
              "25%        1.0000         1.2900       7.0000      0.0000      0.5000   \n",
              "50%        1.0000         2.4100      11.0000      0.5000      0.5000   \n",
              "75%        1.0000         4.4600      18.0000      0.5000      0.5000   \n",
              "max       99.0000       246.2800     490.0000      1.0000      0.5000   \n",
              "\n",
              "       Tip_amount  improvement_surcharge  Total_amount  Trip_type   \\\n",
              "count 700113.0000            700113.0000   700113.0000 700113.0000   \n",
              "mean       2.6341                 0.2951       18.1172      1.0155   \n",
              "std        2.9532                 0.0379       12.7996      0.1235   \n",
              "min       -0.9600                -0.3000       -5.7600      1.0000   \n",
              "25%        1.1600                 0.3000        9.9500      1.0000   \n",
              "50%        2.0000                 0.3000       14.3000      1.0000   \n",
              "75%        3.3600                 0.3000       22.4900      1.0000   \n",
              "max      300.0000                 0.3000      497.5500      2.0000   \n",
              "\n",
              "             Hour         Day  tip_per_total_fare  \n",
              "count 700113.0000 700113.0000         700113.0000  \n",
              "mean      13.5854     15.7088              0.1415  \n",
              "std        6.8976      8.4810              0.0782  \n",
              "min        0.0000      1.0000              0.0000  \n",
              "25%        9.0000      9.0000              0.1079  \n",
              "50%       15.0000     16.0000              0.1667  \n",
              "75%       19.0000     23.0000              0.1667  \n",
              "max       23.0000     30.0000              1.0000  "
            ],
            "text/html": [
              "\n",
              "  <div id=\"df-e973c9d0-a4e8-4c0e-a7e9-847505428f71\">\n",
              "    <div class=\"colab-df-container\">\n",
              "      <div>\n",
              "<style scoped>\n",
              "    .dataframe tbody tr th:only-of-type {\n",
              "        vertical-align: middle;\n",
              "    }\n",
              "\n",
              "    .dataframe tbody tr th {\n",
              "        vertical-align: top;\n",
              "    }\n",
              "\n",
              "    .dataframe thead th {\n",
              "        text-align: right;\n",
              "    }\n",
              "</style>\n",
              "<table border=\"1\" class=\"dataframe\">\n",
              "  <thead>\n",
              "    <tr style=\"text-align: right;\">\n",
              "      <th></th>\n",
              "      <th>RateCodeID</th>\n",
              "      <th>Trip_distance</th>\n",
              "      <th>Fare_amount</th>\n",
              "      <th>Extra</th>\n",
              "      <th>MTA_tax</th>\n",
              "      <th>Tip_amount</th>\n",
              "      <th>improvement_surcharge</th>\n",
              "      <th>Total_amount</th>\n",
              "      <th>Trip_type</th>\n",
              "      <th>Hour</th>\n",
              "      <th>Day</th>\n",
              "      <th>tip_per_total_fare</th>\n",
              "    </tr>\n",
              "  </thead>\n",
              "  <tbody>\n",
              "    <tr>\n",
              "      <th>count</th>\n",
              "      <td>700113.0000</td>\n",
              "      <td>700113.0000</td>\n",
              "      <td>700113.0000</td>\n",
              "      <td>700113.0000</td>\n",
              "      <td>700113.0000</td>\n",
              "      <td>700113.0000</td>\n",
              "      <td>700113.0000</td>\n",
              "      <td>700113.0000</td>\n",
              "      <td>700113.0000</td>\n",
              "      <td>700113.0000</td>\n",
              "      <td>700113.0000</td>\n",
              "      <td>700113.0000</td>\n",
              "    </tr>\n",
              "    <tr>\n",
              "      <th>mean</th>\n",
              "      <td>1.0696</td>\n",
              "      <td>3.4459</td>\n",
              "      <td>14.1622</td>\n",
              "      <td>0.3567</td>\n",
              "      <td>0.4917</td>\n",
              "      <td>2.6341</td>\n",
              "      <td>0.2951</td>\n",
              "      <td>18.1172</td>\n",
              "      <td>1.0155</td>\n",
              "      <td>13.5854</td>\n",
              "      <td>15.7088</td>\n",
              "      <td>0.1415</td>\n",
              "    </tr>\n",
              "    <tr>\n",
              "      <th>std</th>\n",
              "      <td>0.5484</td>\n",
              "      <td>3.2795</td>\n",
              "      <td>10.6570</td>\n",
              "      <td>0.3624</td>\n",
              "      <td>0.0640</td>\n",
              "      <td>2.9532</td>\n",
              "      <td>0.0379</td>\n",
              "      <td>12.7996</td>\n",
              "      <td>0.1235</td>\n",
              "      <td>6.8976</td>\n",
              "      <td>8.4810</td>\n",
              "      <td>0.0782</td>\n",
              "    </tr>\n",
              "    <tr>\n",
              "      <th>min</th>\n",
              "      <td>1.0000</td>\n",
              "      <td>0.0000</td>\n",
              "      <td>-3.5000</td>\n",
              "      <td>-0.5000</td>\n",
              "      <td>-0.5000</td>\n",
              "      <td>-0.9600</td>\n",
              "      <td>-0.3000</td>\n",
              "      <td>-5.7600</td>\n",
              "      <td>1.0000</td>\n",
              "      <td>0.0000</td>\n",
              "      <td>1.0000</td>\n",
              "      <td>0.0000</td>\n",
              "    </tr>\n",
              "    <tr>\n",
              "      <th>25%</th>\n",
              "      <td>1.0000</td>\n",
              "      <td>1.2900</td>\n",
              "      <td>7.0000</td>\n",
              "      <td>0.0000</td>\n",
              "      <td>0.5000</td>\n",
              "      <td>1.1600</td>\n",
              "      <td>0.3000</td>\n",
              "      <td>9.9500</td>\n",
              "      <td>1.0000</td>\n",
              "      <td>9.0000</td>\n",
              "      <td>9.0000</td>\n",
              "      <td>0.1079</td>\n",
              "    </tr>\n",
              "    <tr>\n",
              "      <th>50%</th>\n",
              "      <td>1.0000</td>\n",
              "      <td>2.4100</td>\n",
              "      <td>11.0000</td>\n",
              "      <td>0.5000</td>\n",
              "      <td>0.5000</td>\n",
              "      <td>2.0000</td>\n",
              "      <td>0.3000</td>\n",
              "      <td>14.3000</td>\n",
              "      <td>1.0000</td>\n",
              "      <td>15.0000</td>\n",
              "      <td>16.0000</td>\n",
              "      <td>0.1667</td>\n",
              "    </tr>\n",
              "    <tr>\n",
              "      <th>75%</th>\n",
              "      <td>1.0000</td>\n",
              "      <td>4.4600</td>\n",
              "      <td>18.0000</td>\n",
              "      <td>0.5000</td>\n",
              "      <td>0.5000</td>\n",
              "      <td>3.3600</td>\n",
              "      <td>0.3000</td>\n",
              "      <td>22.4900</td>\n",
              "      <td>1.0000</td>\n",
              "      <td>19.0000</td>\n",
              "      <td>23.0000</td>\n",
              "      <td>0.1667</td>\n",
              "    </tr>\n",
              "    <tr>\n",
              "      <th>max</th>\n",
              "      <td>99.0000</td>\n",
              "      <td>246.2800</td>\n",
              "      <td>490.0000</td>\n",
              "      <td>1.0000</td>\n",
              "      <td>0.5000</td>\n",
              "      <td>300.0000</td>\n",
              "      <td>0.3000</td>\n",
              "      <td>497.5500</td>\n",
              "      <td>2.0000</td>\n",
              "      <td>23.0000</td>\n",
              "      <td>30.0000</td>\n",
              "      <td>1.0000</td>\n",
              "    </tr>\n",
              "  </tbody>\n",
              "</table>\n",
              "</div>\n",
              "      <button class=\"colab-df-convert\" onclick=\"convertToInteractive('df-e973c9d0-a4e8-4c0e-a7e9-847505428f71')\"\n",
              "              title=\"Convert this dataframe to an interactive table.\"\n",
              "              style=\"display:none;\">\n",
              "        \n",
              "  <svg xmlns=\"http://www.w3.org/2000/svg\" height=\"24px\"viewBox=\"0 0 24 24\"\n",
              "       width=\"24px\">\n",
              "    <path d=\"M0 0h24v24H0V0z\" fill=\"none\"/>\n",
              "    <path d=\"M18.56 5.44l.94 2.06.94-2.06 2.06-.94-2.06-.94-.94-2.06-.94 2.06-2.06.94zm-11 1L8.5 8.5l.94-2.06 2.06-.94-2.06-.94L8.5 2.5l-.94 2.06-2.06.94zm10 10l.94 2.06.94-2.06 2.06-.94-2.06-.94-.94-2.06-.94 2.06-2.06.94z\"/><path d=\"M17.41 7.96l-1.37-1.37c-.4-.4-.92-.59-1.43-.59-.52 0-1.04.2-1.43.59L10.3 9.45l-7.72 7.72c-.78.78-.78 2.05 0 2.83L4 21.41c.39.39.9.59 1.41.59.51 0 1.02-.2 1.41-.59l7.78-7.78 2.81-2.81c.8-.78.8-2.07 0-2.86zM5.41 20L4 18.59l7.72-7.72 1.47 1.35L5.41 20z\"/>\n",
              "  </svg>\n",
              "      </button>\n",
              "      \n",
              "  <style>\n",
              "    .colab-df-container {\n",
              "      display:flex;\n",
              "      flex-wrap:wrap;\n",
              "      gap: 12px;\n",
              "    }\n",
              "\n",
              "    .colab-df-convert {\n",
              "      background-color: #E8F0FE;\n",
              "      border: none;\n",
              "      border-radius: 50%;\n",
              "      cursor: pointer;\n",
              "      display: none;\n",
              "      fill: #1967D2;\n",
              "      height: 32px;\n",
              "      padding: 0 0 0 0;\n",
              "      width: 32px;\n",
              "    }\n",
              "\n",
              "    .colab-df-convert:hover {\n",
              "      background-color: #E2EBFA;\n",
              "      box-shadow: 0px 1px 2px rgba(60, 64, 67, 0.3), 0px 1px 3px 1px rgba(60, 64, 67, 0.15);\n",
              "      fill: #174EA6;\n",
              "    }\n",
              "\n",
              "    [theme=dark] .colab-df-convert {\n",
              "      background-color: #3B4455;\n",
              "      fill: #D2E3FC;\n",
              "    }\n",
              "\n",
              "    [theme=dark] .colab-df-convert:hover {\n",
              "      background-color: #434B5C;\n",
              "      box-shadow: 0px 1px 3px 1px rgba(0, 0, 0, 0.15);\n",
              "      filter: drop-shadow(0px 1px 2px rgba(0, 0, 0, 0.3));\n",
              "      fill: #FFFFFF;\n",
              "    }\n",
              "  </style>\n",
              "\n",
              "      <script>\n",
              "        const buttonEl =\n",
              "          document.querySelector('#df-e973c9d0-a4e8-4c0e-a7e9-847505428f71 button.colab-df-convert');\n",
              "        buttonEl.style.display =\n",
              "          google.colab.kernel.accessAllowed ? 'block' : 'none';\n",
              "\n",
              "        async function convertToInteractive(key) {\n",
              "          const element = document.querySelector('#df-e973c9d0-a4e8-4c0e-a7e9-847505428f71');\n",
              "          const dataTable =\n",
              "            await google.colab.kernel.invokeFunction('convertToInteractive',\n",
              "                                                     [key], {});\n",
              "          if (!dataTable) return;\n",
              "\n",
              "          const docLinkHtml = 'Like what you see? Visit the ' +\n",
              "            '<a target=\"_blank\" href=https://colab.research.google.com/notebooks/data_table.ipynb>data table notebook</a>'\n",
              "            + ' to learn more about interactive tables.';\n",
              "          element.innerHTML = '';\n",
              "          dataTable['output_type'] = 'display_data';\n",
              "          await google.colab.output.renderOutput(dataTable, element);\n",
              "          const docLink = document.createElement('div');\n",
              "          docLink.innerHTML = docLinkHtml;\n",
              "          element.appendChild(docLink);\n",
              "        }\n",
              "      </script>\n",
              "    </div>\n",
              "  </div>\n",
              "  "
            ]
          },
          "metadata": {},
          "execution_count": 59
        }
      ]
    },
    {
      "cell_type": "code",
      "source": [
        "X_train, X_test, y_train, y_test = train_test_split(X, y, test_size=0.25,random_state=42)"
      ],
      "metadata": {
        "id": "fqPnSV5c36X_"
      },
      "id": "fqPnSV5c36X_",
      "execution_count": null,
      "outputs": []
    },
    {
      "cell_type": "code",
      "source": [
        "print(f'training features: {X_train.shape}')\n",
        "print(f'training label: {y_train.shape}')\n",
        "print(f'test features: {X_test.shape}')\n",
        "print(f'test label: {y_test.shape}')"
      ],
      "metadata": {
        "colab": {
          "base_uri": "https://localhost:8080/"
        },
        "id": "MsANjioK4Gna",
        "outputId": "041e0b57-32e9-47d9-f546-3f932455c877"
      },
      "id": "MsANjioK4Gna",
      "execution_count": null,
      "outputs": [
        {
          "output_type": "stream",
          "name": "stdout",
          "text": [
            "training features: (525084, 11)\n",
            "training label: (525084,)\n",
            "test features: (175029, 11)\n",
            "test label: (175029,)\n"
          ]
        }
      ]
    },
    {
      "cell_type": "code",
      "source": [
        "# linear regression\n",
        "model_reg = LinearRegression()\n",
        "model_reg.fit(X_train, y_train)\n",
        "y_pred_reg = model_reg.predict(X_test)\n",
        "mse_reg = mean_squared_error(y_test, y_pred_reg)\n",
        "print('MSE of Linear Regression: %0.8f'% mse_reg)\n",
        "\n",
        "# ridge regression\n",
        "model_rid = Ridge()\n",
        "model_rid.fit(X_train, y_train)\n",
        "y_pred_rid = model_rid.predict(X_test)\n",
        "mse_rid = mean_squared_error(y_test, y_pred_rid)\n",
        "print('MSE of Ridge Regression : %0.8f'% mse_rid)\n",
        "\n",
        "# lasso regression\n",
        "model_las = linear_model.Lasso()\n",
        "model_las.fit(X_train, y_train)\n",
        "y_pred_las = model_las.predict(X_test)\n",
        "mse_las = mean_squared_error(y_test, y_pred_las)\n",
        "print('MSE of Lasso Regression: %0.8f'% mse_las)\n",
        "\n",
        "# Decision Tree Regressor\n",
        "regressor = DecisionTreeRegressor(random_state=0)\n",
        "regressor.fit(X_train, y_train)\n",
        "y_pred_dtr = regressor.predict(X_test)\n",
        "mse_dtr = mean_squared_error(y_test, y_pred_dtr)\n",
        "print('MSE of Decision Tree Regressor: %0.8f'% mse_dtr)\n",
        "\n",
        "# Random Forest Regressor\n",
        "regr = RandomForestRegressor(random_state=0)\n",
        "regr.fit(X_train, y_train)\n",
        "y_pred_regr = regr.predict(X_test)\n",
        "mse_regr = mean_squared_error(y_test, y_pred_regr)\n",
        "print('MSE of Random Forest Regressor: %0.8f'% mse_regr)"
      ],
      "metadata": {
        "colab": {
          "base_uri": "https://localhost:8080/"
        },
        "id": "u5bf9w304Mgn",
        "outputId": "4b600a59-e14f-4131-a3ea-647ec563907b"
      },
      "id": "u5bf9w304Mgn",
      "execution_count": null,
      "outputs": [
        {
          "output_type": "stream",
          "name": "stdout",
          "text": [
            "MSE of Linear Regression: 0.00292790\n",
            "MSE of Ridge Regression : 0.00292790\n",
            "MSE of Lasso Regression: 0.00602752\n",
            "MSE of Decision Tree Regressor: 0.00000269\n",
            "MSE of Random Forest Regressor: 0.00000130\n"
          ]
        }
      ]
    },
    {
      "cell_type": "markdown",
      "id": "53c3c4a0",
      "metadata": {
        "id": "53c3c4a0"
      },
      "source": [
        "#### Rescale Data before prediction"
      ]
    },
    {
      "cell_type": "code",
      "execution_count": null,
      "id": "cb2c448a",
      "metadata": {
        "id": "cb2c448a"
      },
      "outputs": [],
      "source": [
        "# from input variable have many scale of unit such as Passenger_count,Trip_distance\n",
        "# so scaling data can fix it"
      ]
    },
    {
      "cell_type": "code",
      "execution_count": null,
      "id": "bf59cafe",
      "metadata": {
        "id": "bf59cafe"
      },
      "outputs": [],
      "source": [
        "# normalize features\n",
        "scaler = preprocessing.MinMaxScaler(feature_range=(0, 1))"
      ]
    },
    {
      "cell_type": "code",
      "execution_count": null,
      "id": "7f3c39f4",
      "metadata": {
        "id": "7f3c39f4"
      },
      "outputs": [],
      "source": [
        "scaler_x = scaler.fit(X_numpy.reshape(-1,11))\n",
        "scaler_y = scaler.fit(y_numpy.reshape(-1,1))"
      ]
    },
    {
      "cell_type": "code",
      "execution_count": null,
      "id": "66bec1c3",
      "metadata": {
        "id": "66bec1c3"
      },
      "outputs": [],
      "source": [
        "scaled_test_x = scaler_x.fit_transform(X_numpy.reshape(-1,11))\n",
        "scaled_test_y = scaler_y.fit_transform(y_numpy.reshape(-1,1))"
      ]
    },
    {
      "cell_type": "code",
      "execution_count": null,
      "id": "529372b2",
      "metadata": {
        "id": "529372b2"
      },
      "outputs": [],
      "source": [
        "scaled_data = np.concatenate((scaled_test_x,scaled_test_y),axis=1)"
      ]
    },
    {
      "cell_type": "code",
      "execution_count": null,
      "id": "f3895500",
      "metadata": {
        "id": "f3895500"
      },
      "outputs": [],
      "source": [
        "df_scaled_data = pd.DataFrame(scaled_data, columns = df_1.columns)"
      ]
    },
    {
      "cell_type": "code",
      "execution_count": null,
      "id": "b2678568",
      "metadata": {
        "id": "b2678568"
      },
      "outputs": [],
      "source": [
        "X_train_sc, X_test_sc, y_train_sc, y_test_sc = train_test_split(scaled_test_x, scaled_test_y, test_size=0.25,random_state=42)"
      ]
    },
    {
      "cell_type": "code",
      "execution_count": null,
      "id": "cd2c30e7",
      "metadata": {
        "colab": {
          "base_uri": "https://localhost:8080/"
        },
        "id": "cd2c30e7",
        "outputId": "bbf01092-90cb-4699-adc8-e3e56b4b526c"
      },
      "outputs": [
        {
          "output_type": "stream",
          "name": "stdout",
          "text": [
            "training features: (525084, 11)\n",
            "training label: (525084, 1)\n",
            "test features: (175029, 11)\n",
            "test label: (175029, 1)\n"
          ]
        }
      ],
      "source": [
        "print(f'training features: {X_train_sc.shape}')\n",
        "print(f'training label: {y_train_sc.shape}')\n",
        "print(f'test features: {X_test_sc.shape}')\n",
        "print(f'test label: {y_test_sc.shape}')"
      ]
    },
    {
      "cell_type": "code",
      "execution_count": null,
      "id": "407bf2f8",
      "metadata": {
        "colab": {
          "base_uri": "https://localhost:8080/"
        },
        "id": "407bf2f8",
        "outputId": "3a1369b5-b713-49a3-d47e-e09bee8fb258"
      },
      "outputs": [
        {
          "output_type": "stream",
          "name": "stdout",
          "text": [
            "calculate MSE Afrer inverse scale\n",
            "MSE of Linear Regression: 0.00292790\n",
            "MSE of Ridge Regression: 0.00293383\n",
            "MSE of Lasso Regression: 0.00602752\n",
            "MSE of Decision Tree Regressor: 0.00000270\n",
            "MSE of Random Forest Regressor: 0.00000130\n"
          ]
        }
      ],
      "source": [
        "# calculate mse after rescale data and compare mse model between non-rescale data and scale data\n",
        "\n",
        "print('calculate MSE Afrer inverse scale')\n",
        "\n",
        "# linear regression\n",
        "model_reg = LinearRegression()\n",
        "model_reg.fit(X_train_sc, y_train_sc)\n",
        "y_pred_reg = model_reg.predict(X_test_sc)\n",
        "inv_y_pred_reg = scaler_y.inverse_transform(y_pred_reg.reshape(-1,1))\n",
        "inv_y_test = scaler_y.inverse_transform(y_test_sc)\n",
        "mse_reg = mean_squared_error(y_test_sc, inv_y_pred_reg)\n",
        "print('MSE of Linear Regression: %0.8f'% (mse_reg))\n",
        "#print(inv_y_pred_reg)\n",
        "\n",
        "# ridge regression\n",
        "model_rid = Ridge()\n",
        "model_rid.fit(X_train_sc, y_train_sc)\n",
        "y_pred_rid = model_rid.predict(X_test_sc)\n",
        "inv_y_pred_rid = scaler_y.inverse_transform(y_pred_rid)\n",
        "inv_y_test = scaler_y.inverse_transform(y_test_sc)\n",
        "mse_rid = mean_squared_error(y_test_sc, inv_y_pred_rid)\n",
        "print('MSE of Ridge Regression: %0.8f'% (mse_rid))\n",
        "\n",
        "# lasso regression\n",
        "model_las = linear_model.Lasso()\n",
        "model_las.fit(X_train_sc, y_train_sc)\n",
        "y_pred_las = model_las.predict(X_test_sc)\n",
        "inv_y_pred_las = scaler_y.inverse_transform(y_pred_las.reshape(-1,1))\n",
        "inv_y_test = scaler_y.inverse_transform(y_test_sc)\n",
        "mse_las = mean_squared_error(y_test_sc, inv_y_pred_las)\n",
        "print('MSE of Lasso Regression: %0.8f'% (mse_las))\n",
        "\n",
        "# Decision Tree Regressor\n",
        "regressor = DecisionTreeRegressor(random_state=0)\n",
        "regressor.fit(X_train_sc, y_train_sc)\n",
        "y_pred_dtr = regressor.predict(X_test_sc)\n",
        "inv_y_pred_dtr = scaler_y.inverse_transform(y_pred_dtr.reshape(-1,1))\n",
        "inv_y_test = scaler_y.inverse_transform(y_test_sc)\n",
        "mse_dtr = mean_squared_error(y_test_sc, inv_y_pred_dtr)\n",
        "print('MSE of Decision Tree Regressor: %0.8f'% (mse_dtr))\n",
        "\n",
        "#Random Forest Regressor\n",
        "regr = RandomForestRegressor(random_state=0)\n",
        "regr.fit(X_train_sc, y_train_sc)\n",
        "y_pred_regr = regr.predict(X_test_sc)\n",
        "inv_y_pred_regr = scaler_y.inverse_transform(y_pred_regr.reshape(-1,1))\n",
        "inv_y_test = scaler_y.inverse_transform(y_test_sc)\n",
        "mse_regr = mean_squared_error(y_test_sc, inv_y_pred_regr)\n",
        "print('MSE of Random Forest Regressor: %0.8f'% (mse_regr))"
      ]
    },
    {
      "cell_type": "markdown",
      "id": "fd76a298",
      "metadata": {
        "id": "fd76a298"
      },
      "source": [
        "#### There is no significant diferrent of mean sqaure error (mse) performance between non-rescale data model and scale data model.\n",
        "\n",
        "---\n",
        "\n",
        "\n",
        "So I pick scale data model to calculate the performance.\n",
        "\n",
        "\n"
      ]
    },
    {
      "cell_type": "code",
      "execution_count": null,
      "id": "6e617647",
      "metadata": {
        "id": "6e617647"
      },
      "outputs": [],
      "source": [
        "# create list of model\n",
        "list_mod = [model_reg,model_rid,model_las,regressor,regr]"
      ]
    },
    {
      "cell_type": "code",
      "execution_count": null,
      "id": "d558b8e4",
      "metadata": {
        "colab": {
          "base_uri": "https://localhost:8080/"
        },
        "id": "d558b8e4",
        "outputId": "411d4f8b-a490-4766-fd13-e7745dd4ca60"
      },
      "outputs": [
        {
          "output_type": "stream",
          "name": "stdout",
          "text": [
            "LinearRegression() 0.5266 accuracy with a standard deviation of 0.0384\n",
            "Ridge() 0.5253 accuracy with a standard deviation of 0.0346\n",
            "Lasso() -0.0002 accuracy with a standard deviation of 0.0002\n",
            "DecisionTreeRegressor(random_state=0) 0.9986 accuracy with a standard deviation of 0.0007\n",
            "RandomForestRegressor(random_state=0) 0.9991 accuracy with a standard deviation of 0.0007\n"
          ]
        }
      ],
      "source": [
        "# r2 5cv\n",
        "for i in list_mod:\n",
        "  score_r2 = cross_val_score(i, scaled_test_x, scaled_test_y, scoring='r2',cv=5)\n",
        "  score_r2.tolist()\n",
        "  print(i,\"%0.4f accuracy with a standard deviation of %0.4f\" % (score_r2.mean(), score_r2.std()))"
      ]
    },
    {
      "cell_type": "code",
      "execution_count": null,
      "id": "319b5b5c",
      "metadata": {
        "colab": {
          "base_uri": "https://localhost:8080/"
        },
        "id": "319b5b5c",
        "outputId": "6d0f92ca-3140-4f36-9415-9099b4a4ec46"
      },
      "outputs": [
        {
          "output_type": "stream",
          "name": "stdout",
          "text": [
            "LinearRegression() -0.00289124 accuracy with a standard deviation of 0.00021286\n",
            "Ridge() -0.00289956 accuracy with a standard deviation of 0.00019176\n",
            "Lasso() -0.00611401 accuracy with a standard deviation of 0.00015377\n",
            "DecisionTreeRegressor(random_state=0) -0.00000837 accuracy with a standard deviation of 0.00000455\n",
            "RandomForestRegressor(random_state=0) -0.00000570 accuracy with a standard deviation of 0.00000475\n"
          ]
        }
      ],
      "source": [
        "for i in list_mod:\n",
        "  score_mse = cross_val_score(i, scaled_test_x, scaled_test_y, scoring='neg_mean_squared_error',cv=5)\n",
        "  score_mse.tolist()\n",
        "  print(i,\"%0.8f accuracy with a standard deviation of %0.8f\" % (score_mse.mean(), score_mse.std()))"
      ]
    },
    {
      "cell_type": "markdown",
      "source": [
        "From performance of r2 and mse RandomForestRegressor perform the best model in this data set."
      ],
      "metadata": {
        "id": "okM96KC3MgZE"
      },
      "id": "okM96KC3MgZE"
    },
    {
      "cell_type": "markdown",
      "id": "fb5b22de",
      "metadata": {
        "id": "fb5b22de"
      },
      "source": [
        "# Question 5 - Option C : Search"
      ]
    },
    {
      "cell_type": "markdown",
      "source": [
        "- We’re thinking about promoting ride sharing. Build a function that given point a point P, find the k trip origination points nearest P.\n",
        "\n",
        "  - For this question, point P would be a taxi ride starting location picked by us at a given LAT-LONG.\n",
        "\n",
        "- As an extra layer of complexity, consider the time for pickups, so this could eventually be used for real time ride sharing matching.\n",
        "\n",
        "- Please explain not only how this can be computed, but how efficient your approach is (time and space complexity)"
      ],
      "metadata": {
        "id": "xsB-I7F08rlZ"
      },
      "id": "xsB-I7F08rlZ"
    },
    {
      "cell_type": "code",
      "execution_count": null,
      "id": "06cbe51f",
      "metadata": {
        "id": "06cbe51f"
      },
      "outputs": [],
      "source": [
        "# copy dataframe for calculation\n",
        "df_pickup_lo = df.copy()"
      ]
    },
    {
      "cell_type": "code",
      "execution_count": null,
      "id": "9fdf5102",
      "metadata": {
        "id": "9fdf5102"
      },
      "outputs": [],
      "source": [
        "#df_pickup_lo['lat,long'] = df_pickup_lo['Pickup_latitude'].astype(str) + ',' + df_pickup_lo['Pickup_longitude'].astype(str) "
      ]
    },
    {
      "cell_type": "code",
      "execution_count": null,
      "id": "de51b0b5",
      "metadata": {
        "colab": {
          "base_uri": "https://localhost:8080/"
        },
        "id": "de51b0b5",
        "outputId": "5e2ca1fe-076c-4f5e-e988-62dd0a03adb8"
      },
      "outputs": [
        {
          "output_type": "execute_result",
          "data": {
            "text/plain": [
              "40.721336364746094,-73.84429931640625    61\n",
              "40.721336364746094,-73.84429168701173    55\n",
              "40.721336364746094,-73.84431457519531    48\n",
              "40.72132873535156,-73.84429168701173     46\n",
              "40.721336364746094,-73.84427642822266    45\n",
              "                                         ..\n",
              "40.713035583496094,-73.97047424316406     1\n",
              "40.694427490234375,-73.9945068359375      1\n",
              "40.71739196777344,-73.95276641845702      1\n",
              "40.80990982055664,-73.95890045166014      1\n",
              "40.681350708007805,-73.96611022949219     1\n",
              "Name: lat,long, Length: 1321688, dtype: int64"
            ]
          },
          "metadata": {},
          "execution_count": 77
        }
      ],
      "source": [
        "df_pickup_lo['lat,long'].value_counts()"
      ]
    },
    {
      "cell_type": "code",
      "execution_count": null,
      "id": "3d45e9ac",
      "metadata": {
        "id": "3d45e9ac"
      },
      "outputs": [],
      "source": [
        "pickup_lo = df_pickup_lo['lat,long'].value_counts().reset_index()"
      ]
    },
    {
      "cell_type": "code",
      "execution_count": null,
      "id": "7906e7d1",
      "metadata": {
        "id": "7906e7d1"
      },
      "outputs": [],
      "source": [
        "pickup_lo = pickup_lo.rename(columns={\"index\": \"lat,long\", \"lat,long\": \"count\"})"
      ]
    },
    {
      "cell_type": "code",
      "execution_count": null,
      "id": "256f1939",
      "metadata": {
        "colab": {
          "base_uri": "https://localhost:8080/",
          "height": 300
        },
        "id": "256f1939",
        "outputId": "3d679a09-345e-4015-cb71-11efa9dbd68b"
      },
      "outputs": [
        {
          "output_type": "execute_result",
          "data": {
            "text/plain": [
              "             count\n",
              "count 1321688.0000\n",
              "mean        1.1295\n",
              "std         0.6083\n",
              "min         1.0000\n",
              "25%         1.0000\n",
              "50%         1.0000\n",
              "75%         1.0000\n",
              "max        61.0000"
            ],
            "text/html": [
              "\n",
              "  <div id=\"df-25b450d6-33bc-477f-9092-84cc3e86a183\">\n",
              "    <div class=\"colab-df-container\">\n",
              "      <div>\n",
              "<style scoped>\n",
              "    .dataframe tbody tr th:only-of-type {\n",
              "        vertical-align: middle;\n",
              "    }\n",
              "\n",
              "    .dataframe tbody tr th {\n",
              "        vertical-align: top;\n",
              "    }\n",
              "\n",
              "    .dataframe thead th {\n",
              "        text-align: right;\n",
              "    }\n",
              "</style>\n",
              "<table border=\"1\" class=\"dataframe\">\n",
              "  <thead>\n",
              "    <tr style=\"text-align: right;\">\n",
              "      <th></th>\n",
              "      <th>count</th>\n",
              "    </tr>\n",
              "  </thead>\n",
              "  <tbody>\n",
              "    <tr>\n",
              "      <th>count</th>\n",
              "      <td>1321688.0000</td>\n",
              "    </tr>\n",
              "    <tr>\n",
              "      <th>mean</th>\n",
              "      <td>1.1295</td>\n",
              "    </tr>\n",
              "    <tr>\n",
              "      <th>std</th>\n",
              "      <td>0.6083</td>\n",
              "    </tr>\n",
              "    <tr>\n",
              "      <th>min</th>\n",
              "      <td>1.0000</td>\n",
              "    </tr>\n",
              "    <tr>\n",
              "      <th>25%</th>\n",
              "      <td>1.0000</td>\n",
              "    </tr>\n",
              "    <tr>\n",
              "      <th>50%</th>\n",
              "      <td>1.0000</td>\n",
              "    </tr>\n",
              "    <tr>\n",
              "      <th>75%</th>\n",
              "      <td>1.0000</td>\n",
              "    </tr>\n",
              "    <tr>\n",
              "      <th>max</th>\n",
              "      <td>61.0000</td>\n",
              "    </tr>\n",
              "  </tbody>\n",
              "</table>\n",
              "</div>\n",
              "      <button class=\"colab-df-convert\" onclick=\"convertToInteractive('df-25b450d6-33bc-477f-9092-84cc3e86a183')\"\n",
              "              title=\"Convert this dataframe to an interactive table.\"\n",
              "              style=\"display:none;\">\n",
              "        \n",
              "  <svg xmlns=\"http://www.w3.org/2000/svg\" height=\"24px\"viewBox=\"0 0 24 24\"\n",
              "       width=\"24px\">\n",
              "    <path d=\"M0 0h24v24H0V0z\" fill=\"none\"/>\n",
              "    <path d=\"M18.56 5.44l.94 2.06.94-2.06 2.06-.94-2.06-.94-.94-2.06-.94 2.06-2.06.94zm-11 1L8.5 8.5l.94-2.06 2.06-.94-2.06-.94L8.5 2.5l-.94 2.06-2.06.94zm10 10l.94 2.06.94-2.06 2.06-.94-2.06-.94-.94-2.06-.94 2.06-2.06.94z\"/><path d=\"M17.41 7.96l-1.37-1.37c-.4-.4-.92-.59-1.43-.59-.52 0-1.04.2-1.43.59L10.3 9.45l-7.72 7.72c-.78.78-.78 2.05 0 2.83L4 21.41c.39.39.9.59 1.41.59.51 0 1.02-.2 1.41-.59l7.78-7.78 2.81-2.81c.8-.78.8-2.07 0-2.86zM5.41 20L4 18.59l7.72-7.72 1.47 1.35L5.41 20z\"/>\n",
              "  </svg>\n",
              "      </button>\n",
              "      \n",
              "  <style>\n",
              "    .colab-df-container {\n",
              "      display:flex;\n",
              "      flex-wrap:wrap;\n",
              "      gap: 12px;\n",
              "    }\n",
              "\n",
              "    .colab-df-convert {\n",
              "      background-color: #E8F0FE;\n",
              "      border: none;\n",
              "      border-radius: 50%;\n",
              "      cursor: pointer;\n",
              "      display: none;\n",
              "      fill: #1967D2;\n",
              "      height: 32px;\n",
              "      padding: 0 0 0 0;\n",
              "      width: 32px;\n",
              "    }\n",
              "\n",
              "    .colab-df-convert:hover {\n",
              "      background-color: #E2EBFA;\n",
              "      box-shadow: 0px 1px 2px rgba(60, 64, 67, 0.3), 0px 1px 3px 1px rgba(60, 64, 67, 0.15);\n",
              "      fill: #174EA6;\n",
              "    }\n",
              "\n",
              "    [theme=dark] .colab-df-convert {\n",
              "      background-color: #3B4455;\n",
              "      fill: #D2E3FC;\n",
              "    }\n",
              "\n",
              "    [theme=dark] .colab-df-convert:hover {\n",
              "      background-color: #434B5C;\n",
              "      box-shadow: 0px 1px 3px 1px rgba(0, 0, 0, 0.15);\n",
              "      filter: drop-shadow(0px 1px 2px rgba(0, 0, 0, 0.3));\n",
              "      fill: #FFFFFF;\n",
              "    }\n",
              "  </style>\n",
              "\n",
              "      <script>\n",
              "        const buttonEl =\n",
              "          document.querySelector('#df-25b450d6-33bc-477f-9092-84cc3e86a183 button.colab-df-convert');\n",
              "        buttonEl.style.display =\n",
              "          google.colab.kernel.accessAllowed ? 'block' : 'none';\n",
              "\n",
              "        async function convertToInteractive(key) {\n",
              "          const element = document.querySelector('#df-25b450d6-33bc-477f-9092-84cc3e86a183');\n",
              "          const dataTable =\n",
              "            await google.colab.kernel.invokeFunction('convertToInteractive',\n",
              "                                                     [key], {});\n",
              "          if (!dataTable) return;\n",
              "\n",
              "          const docLinkHtml = 'Like what you see? Visit the ' +\n",
              "            '<a target=\"_blank\" href=https://colab.research.google.com/notebooks/data_table.ipynb>data table notebook</a>'\n",
              "            + ' to learn more about interactive tables.';\n",
              "          element.innerHTML = '';\n",
              "          dataTable['output_type'] = 'display_data';\n",
              "          await google.colab.output.renderOutput(dataTable, element);\n",
              "          const docLink = document.createElement('div');\n",
              "          docLink.innerHTML = docLinkHtml;\n",
              "          element.appendChild(docLink);\n",
              "        }\n",
              "      </script>\n",
              "    </div>\n",
              "  </div>\n",
              "  "
            ]
          },
          "metadata": {},
          "execution_count": 80
        }
      ],
      "source": [
        "pickup_lo.describe()"
      ]
    },
    {
      "cell_type": "code",
      "source": [
        "pickup_lo.shape"
      ],
      "metadata": {
        "colab": {
          "base_uri": "https://localhost:8080/"
        },
        "id": "UBqbdHgMG6wq",
        "outputId": "b863f85a-0ee1-487c-9a69-88327f7b404b"
      },
      "id": "UBqbdHgMG6wq",
      "execution_count": null,
      "outputs": [
        {
          "output_type": "execute_result",
          "data": {
            "text/plain": [
              "(1321688, 2)"
            ]
          },
          "metadata": {},
          "execution_count": 81
        }
      ]
    },
    {
      "cell_type": "code",
      "source": [
        "pickup_lo['rank_count'] = pickup_lo['count'].rank(method='max', ascending=False)"
      ],
      "metadata": {
        "id": "uv0lG9BwpH7-"
      },
      "id": "uv0lG9BwpH7-",
      "execution_count": null,
      "outputs": []
    },
    {
      "cell_type": "code",
      "source": [
        "pickup_lo.groupby('rank_count')['lat,long'].count()"
      ],
      "metadata": {
        "colab": {
          "base_uri": "https://localhost:8080/"
        },
        "id": "z2Z2Wn2Yp5f8",
        "outputId": "d4b50aee-f910-4f0d-b04d-8d2496667c91"
      },
      "id": "z2Z2Wn2Yp5f8",
      "execution_count": null,
      "outputs": [
        {
          "output_type": "execute_result",
          "data": {
            "text/plain": [
              "rank_count\n",
              "1.0000                1\n",
              "2.0000                1\n",
              "3.0000                1\n",
              "4.0000                1\n",
              "5.0000                1\n",
              "6.0000                1\n",
              "7.0000                1\n",
              "10.0000               3\n",
              "11.0000               1\n",
              "12.0000               1\n",
              "15.0000               3\n",
              "20.0000               5\n",
              "25.0000               5\n",
              "26.0000               1\n",
              "28.0000               2\n",
              "29.0000               1\n",
              "32.0000               3\n",
              "38.0000               6\n",
              "42.0000               4\n",
              "48.0000               6\n",
              "49.0000               1\n",
              "56.0000               7\n",
              "63.0000               7\n",
              "68.0000               5\n",
              "84.0000              16\n",
              "90.0000               6\n",
              "102.0000             12\n",
              "117.0000             15\n",
              "129.0000             12\n",
              "143.0000             14\n",
              "159.0000             16\n",
              "172.0000             13\n",
              "194.0000             22\n",
              "228.0000             34\n",
              "272.0000             44\n",
              "319.0000             47\n",
              "421.0000            102\n",
              "531.0000            110\n",
              "696.0000            165\n",
              "952.0000            256\n",
              "1363.0000           411\n",
              "2037.0000           674\n",
              "3224.0000          1187\n",
              "5712.0000          2488\n",
              "11380.0000         5668\n",
              "28511.0000        17131\n",
              "113665.0000       85154\n",
              "1321688.0000    1208023\n",
              "Name: lat,long, dtype: int64"
            ]
          },
          "metadata": {},
          "execution_count": 83
        }
      ]
    },
    {
      "cell_type": "markdown",
      "source": [
        "### This data set has more than one million data so it take a lot runtimes so I decied to select only top 500 rank of count to calculation"
      ],
      "metadata": {
        "id": "D__-JVvC9_CR"
      },
      "id": "D__-JVvC9_CR"
    },
    {
      "cell_type": "code",
      "execution_count": null,
      "id": "16197279",
      "metadata": {
        "id": "16197279"
      },
      "outputs": [],
      "source": [
        "# select pickup location which top 500 lat long\n",
        "pickup_lo = pickup_lo[pickup_lo['rank_count']<=500]"
      ]
    },
    {
      "cell_type": "code",
      "source": [
        "pickup_lo"
      ],
      "metadata": {
        "colab": {
          "base_uri": "https://localhost:8080/",
          "height": 423
        },
        "id": "B3t8Nz4IqFFK",
        "outputId": "4aa4df9a-8186-4bb3-e086-0f95ea51a752"
      },
      "id": "B3t8Nz4IqFFK",
      "execution_count": null,
      "outputs": [
        {
          "output_type": "execute_result",
          "data": {
            "text/plain": [
              "                                  lat,long  count  rank_count\n",
              "0    40.721336364746094,-73.84429931640625     61      1.0000\n",
              "1    40.721336364746094,-73.84429168701173     55      2.0000\n",
              "2    40.721336364746094,-73.84431457519531     48      3.0000\n",
              "3     40.72132873535156,-73.84429168701173     46      4.0000\n",
              "4    40.721336364746094,-73.84427642822266     45      5.0000\n",
              "..                                     ...    ...         ...\n",
              "416    40.7179069519043,-73.95759582519531     12    421.0000\n",
              "417   40.72141647338867,-73.84429931640625     12    421.0000\n",
              "418      40.72137069702149,-73.84423828125     12    421.0000\n",
              "419   40.71371841430664,-73.82992553710938     12    421.0000\n",
              "420    40.72139358520508,-73.8443603515625     12    421.0000\n",
              "\n",
              "[421 rows x 3 columns]"
            ],
            "text/html": [
              "\n",
              "  <div id=\"df-59ace41a-b8d6-41ba-a92c-452e208e718f\">\n",
              "    <div class=\"colab-df-container\">\n",
              "      <div>\n",
              "<style scoped>\n",
              "    .dataframe tbody tr th:only-of-type {\n",
              "        vertical-align: middle;\n",
              "    }\n",
              "\n",
              "    .dataframe tbody tr th {\n",
              "        vertical-align: top;\n",
              "    }\n",
              "\n",
              "    .dataframe thead th {\n",
              "        text-align: right;\n",
              "    }\n",
              "</style>\n",
              "<table border=\"1\" class=\"dataframe\">\n",
              "  <thead>\n",
              "    <tr style=\"text-align: right;\">\n",
              "      <th></th>\n",
              "      <th>lat,long</th>\n",
              "      <th>count</th>\n",
              "      <th>rank_count</th>\n",
              "    </tr>\n",
              "  </thead>\n",
              "  <tbody>\n",
              "    <tr>\n",
              "      <th>0</th>\n",
              "      <td>40.721336364746094,-73.84429931640625</td>\n",
              "      <td>61</td>\n",
              "      <td>1.0000</td>\n",
              "    </tr>\n",
              "    <tr>\n",
              "      <th>1</th>\n",
              "      <td>40.721336364746094,-73.84429168701173</td>\n",
              "      <td>55</td>\n",
              "      <td>2.0000</td>\n",
              "    </tr>\n",
              "    <tr>\n",
              "      <th>2</th>\n",
              "      <td>40.721336364746094,-73.84431457519531</td>\n",
              "      <td>48</td>\n",
              "      <td>3.0000</td>\n",
              "    </tr>\n",
              "    <tr>\n",
              "      <th>3</th>\n",
              "      <td>40.72132873535156,-73.84429168701173</td>\n",
              "      <td>46</td>\n",
              "      <td>4.0000</td>\n",
              "    </tr>\n",
              "    <tr>\n",
              "      <th>4</th>\n",
              "      <td>40.721336364746094,-73.84427642822266</td>\n",
              "      <td>45</td>\n",
              "      <td>5.0000</td>\n",
              "    </tr>\n",
              "    <tr>\n",
              "      <th>...</th>\n",
              "      <td>...</td>\n",
              "      <td>...</td>\n",
              "      <td>...</td>\n",
              "    </tr>\n",
              "    <tr>\n",
              "      <th>416</th>\n",
              "      <td>40.7179069519043,-73.95759582519531</td>\n",
              "      <td>12</td>\n",
              "      <td>421.0000</td>\n",
              "    </tr>\n",
              "    <tr>\n",
              "      <th>417</th>\n",
              "      <td>40.72141647338867,-73.84429931640625</td>\n",
              "      <td>12</td>\n",
              "      <td>421.0000</td>\n",
              "    </tr>\n",
              "    <tr>\n",
              "      <th>418</th>\n",
              "      <td>40.72137069702149,-73.84423828125</td>\n",
              "      <td>12</td>\n",
              "      <td>421.0000</td>\n",
              "    </tr>\n",
              "    <tr>\n",
              "      <th>419</th>\n",
              "      <td>40.71371841430664,-73.82992553710938</td>\n",
              "      <td>12</td>\n",
              "      <td>421.0000</td>\n",
              "    </tr>\n",
              "    <tr>\n",
              "      <th>420</th>\n",
              "      <td>40.72139358520508,-73.8443603515625</td>\n",
              "      <td>12</td>\n",
              "      <td>421.0000</td>\n",
              "    </tr>\n",
              "  </tbody>\n",
              "</table>\n",
              "<p>421 rows × 3 columns</p>\n",
              "</div>\n",
              "      <button class=\"colab-df-convert\" onclick=\"convertToInteractive('df-59ace41a-b8d6-41ba-a92c-452e208e718f')\"\n",
              "              title=\"Convert this dataframe to an interactive table.\"\n",
              "              style=\"display:none;\">\n",
              "        \n",
              "  <svg xmlns=\"http://www.w3.org/2000/svg\" height=\"24px\"viewBox=\"0 0 24 24\"\n",
              "       width=\"24px\">\n",
              "    <path d=\"M0 0h24v24H0V0z\" fill=\"none\"/>\n",
              "    <path d=\"M18.56 5.44l.94 2.06.94-2.06 2.06-.94-2.06-.94-.94-2.06-.94 2.06-2.06.94zm-11 1L8.5 8.5l.94-2.06 2.06-.94-2.06-.94L8.5 2.5l-.94 2.06-2.06.94zm10 10l.94 2.06.94-2.06 2.06-.94-2.06-.94-.94-2.06-.94 2.06-2.06.94z\"/><path d=\"M17.41 7.96l-1.37-1.37c-.4-.4-.92-.59-1.43-.59-.52 0-1.04.2-1.43.59L10.3 9.45l-7.72 7.72c-.78.78-.78 2.05 0 2.83L4 21.41c.39.39.9.59 1.41.59.51 0 1.02-.2 1.41-.59l7.78-7.78 2.81-2.81c.8-.78.8-2.07 0-2.86zM5.41 20L4 18.59l7.72-7.72 1.47 1.35L5.41 20z\"/>\n",
              "  </svg>\n",
              "      </button>\n",
              "      \n",
              "  <style>\n",
              "    .colab-df-container {\n",
              "      display:flex;\n",
              "      flex-wrap:wrap;\n",
              "      gap: 12px;\n",
              "    }\n",
              "\n",
              "    .colab-df-convert {\n",
              "      background-color: #E8F0FE;\n",
              "      border: none;\n",
              "      border-radius: 50%;\n",
              "      cursor: pointer;\n",
              "      display: none;\n",
              "      fill: #1967D2;\n",
              "      height: 32px;\n",
              "      padding: 0 0 0 0;\n",
              "      width: 32px;\n",
              "    }\n",
              "\n",
              "    .colab-df-convert:hover {\n",
              "      background-color: #E2EBFA;\n",
              "      box-shadow: 0px 1px 2px rgba(60, 64, 67, 0.3), 0px 1px 3px 1px rgba(60, 64, 67, 0.15);\n",
              "      fill: #174EA6;\n",
              "    }\n",
              "\n",
              "    [theme=dark] .colab-df-convert {\n",
              "      background-color: #3B4455;\n",
              "      fill: #D2E3FC;\n",
              "    }\n",
              "\n",
              "    [theme=dark] .colab-df-convert:hover {\n",
              "      background-color: #434B5C;\n",
              "      box-shadow: 0px 1px 3px 1px rgba(0, 0, 0, 0.15);\n",
              "      filter: drop-shadow(0px 1px 2px rgba(0, 0, 0, 0.3));\n",
              "      fill: #FFFFFF;\n",
              "    }\n",
              "  </style>\n",
              "\n",
              "      <script>\n",
              "        const buttonEl =\n",
              "          document.querySelector('#df-59ace41a-b8d6-41ba-a92c-452e208e718f button.colab-df-convert');\n",
              "        buttonEl.style.display =\n",
              "          google.colab.kernel.accessAllowed ? 'block' : 'none';\n",
              "\n",
              "        async function convertToInteractive(key) {\n",
              "          const element = document.querySelector('#df-59ace41a-b8d6-41ba-a92c-452e208e718f');\n",
              "          const dataTable =\n",
              "            await google.colab.kernel.invokeFunction('convertToInteractive',\n",
              "                                                     [key], {});\n",
              "          if (!dataTable) return;\n",
              "\n",
              "          const docLinkHtml = 'Like what you see? Visit the ' +\n",
              "            '<a target=\"_blank\" href=https://colab.research.google.com/notebooks/data_table.ipynb>data table notebook</a>'\n",
              "            + ' to learn more about interactive tables.';\n",
              "          element.innerHTML = '';\n",
              "          dataTable['output_type'] = 'display_data';\n",
              "          await google.colab.output.renderOutput(dataTable, element);\n",
              "          const docLink = document.createElement('div');\n",
              "          docLink.innerHTML = docLinkHtml;\n",
              "          element.appendChild(docLink);\n",
              "        }\n",
              "      </script>\n",
              "    </div>\n",
              "  </div>\n",
              "  "
            ]
          },
          "metadata": {},
          "execution_count": 85
        }
      ]
    },
    {
      "cell_type": "code",
      "execution_count": null,
      "id": "f9fda04c",
      "metadata": {
        "id": "f9fda04c"
      },
      "outputs": [],
      "source": [
        "focus_pickup_lo_list = pickup_lo['lat,long'].tolist()"
      ]
    },
    {
      "cell_type": "code",
      "execution_count": null,
      "id": "43adc1b3",
      "metadata": {
        "colab": {
          "base_uri": "https://localhost:8080/"
        },
        "id": "43adc1b3",
        "outputId": "f686cdb2-a0d0-47ad-a13d-6c8be01b1a10"
      },
      "outputs": [
        {
          "output_type": "execute_result",
          "data": {
            "text/plain": [
              "421"
            ]
          },
          "metadata": {},
          "execution_count": 87
        }
      ],
      "source": [
        "len(focus_pickup_lo_list)"
      ]
    },
    {
      "cell_type": "code",
      "execution_count": null,
      "id": "48f60aa7",
      "metadata": {
        "id": "48f60aa7"
      },
      "outputs": [],
      "source": [
        "# get detail address from latitude and longtitude\n",
        "address_pickup = []\n",
        "street_pickup = []\n",
        "for i in focus_pickup_lo_list :\n",
        "    g = geocoder.osm(i, method='reverse')\n",
        "    z = g.json['address'].split(',')\n",
        "    for x in z:\n",
        "        x = z[0]\n",
        "    for y in z:\n",
        "        y = z[1]\n",
        "    address_pickup.append(x)\n",
        "    street_pickup.append(y)"
      ]
    },
    {
      "cell_type": "code",
      "source": [
        "pickup_lo['address'] = address_pickup\n",
        "pickup_lo['street'] = street_pickup\n",
        "pickup_lo['location'] = pickup_lo['address'] + pickup_lo['street']"
      ],
      "metadata": {
        "id": "rx_Dhw5vJiwF"
      },
      "id": "rx_Dhw5vJiwF",
      "execution_count": null,
      "outputs": []
    },
    {
      "cell_type": "code",
      "source": [
        "pickup_lo"
      ],
      "metadata": {
        "colab": {
          "base_uri": "https://localhost:8080/",
          "height": 423
        },
        "id": "rSIbW9mXIEG6",
        "outputId": "aa9c29cf-d439-46cf-b1a5-aa583dfe1e4a"
      },
      "id": "rSIbW9mXIEG6",
      "execution_count": null,
      "outputs": [
        {
          "output_type": "execute_result",
          "data": {
            "text/plain": [
              "                                  lat,long  count  rank_count  \\\n",
              "0    40.721336364746094,-73.84429931640625     61      1.0000   \n",
              "1    40.721336364746094,-73.84429168701173     55      2.0000   \n",
              "2    40.721336364746094,-73.84431457519531     48      3.0000   \n",
              "3     40.72132873535156,-73.84429168701173     46      4.0000   \n",
              "4    40.721336364746094,-73.84427642822266     45      5.0000   \n",
              "..                                     ...    ...         ...   \n",
              "416    40.7179069519043,-73.95759582519531     12    421.0000   \n",
              "417   40.72141647338867,-73.84429931640625     12    421.0000   \n",
              "418      40.72137069702149,-73.84423828125     12    421.0000   \n",
              "419   40.71371841430664,-73.82992553710938     12    421.0000   \n",
              "420    40.72139358520508,-73.8443603515625     12    421.0000   \n",
              "\n",
              "                              address             street  \\\n",
              "0                  The Vitamin Shoppe   Queens Boulevard   \n",
              "1                  The Vitamin Shoppe   Queens Boulevard   \n",
              "2                  The Vitamin Shoppe   Queens Boulevard   \n",
              "3                  The Vitamin Shoppe   Queens Boulevard   \n",
              "4                  The Vitamin Shoppe   Queens Boulevard   \n",
              "..                                ...                ...   \n",
              "416  Bedford Av Subway Station L line                183   \n",
              "417                            107-50   Queens Boulevard   \n",
              "418                The Vitamin Shoppe   Queens Boulevard   \n",
              "419        Kew Gardens–Union Turnpike   Queens Boulevard   \n",
              "420                            107-50   Queens Boulevard   \n",
              "\n",
              "                                        location  \n",
              "0            The Vitamin Shoppe Queens Boulevard  \n",
              "1            The Vitamin Shoppe Queens Boulevard  \n",
              "2            The Vitamin Shoppe Queens Boulevard  \n",
              "3            The Vitamin Shoppe Queens Boulevard  \n",
              "4            The Vitamin Shoppe Queens Boulevard  \n",
              "..                                           ...  \n",
              "416         Bedford Av Subway Station L line 183  \n",
              "417                      107-50 Queens Boulevard  \n",
              "418          The Vitamin Shoppe Queens Boulevard  \n",
              "419  Kew Gardens–Union Turnpike Queens Boulevard  \n",
              "420                      107-50 Queens Boulevard  \n",
              "\n",
              "[421 rows x 6 columns]"
            ],
            "text/html": [
              "\n",
              "  <div id=\"df-799ca981-367e-4a38-a545-dfbf74c2647c\">\n",
              "    <div class=\"colab-df-container\">\n",
              "      <div>\n",
              "<style scoped>\n",
              "    .dataframe tbody tr th:only-of-type {\n",
              "        vertical-align: middle;\n",
              "    }\n",
              "\n",
              "    .dataframe tbody tr th {\n",
              "        vertical-align: top;\n",
              "    }\n",
              "\n",
              "    .dataframe thead th {\n",
              "        text-align: right;\n",
              "    }\n",
              "</style>\n",
              "<table border=\"1\" class=\"dataframe\">\n",
              "  <thead>\n",
              "    <tr style=\"text-align: right;\">\n",
              "      <th></th>\n",
              "      <th>lat,long</th>\n",
              "      <th>count</th>\n",
              "      <th>rank_count</th>\n",
              "      <th>address</th>\n",
              "      <th>street</th>\n",
              "      <th>location</th>\n",
              "    </tr>\n",
              "  </thead>\n",
              "  <tbody>\n",
              "    <tr>\n",
              "      <th>0</th>\n",
              "      <td>40.721336364746094,-73.84429931640625</td>\n",
              "      <td>61</td>\n",
              "      <td>1.0000</td>\n",
              "      <td>The Vitamin Shoppe</td>\n",
              "      <td>Queens Boulevard</td>\n",
              "      <td>The Vitamin Shoppe Queens Boulevard</td>\n",
              "    </tr>\n",
              "    <tr>\n",
              "      <th>1</th>\n",
              "      <td>40.721336364746094,-73.84429168701173</td>\n",
              "      <td>55</td>\n",
              "      <td>2.0000</td>\n",
              "      <td>The Vitamin Shoppe</td>\n",
              "      <td>Queens Boulevard</td>\n",
              "      <td>The Vitamin Shoppe Queens Boulevard</td>\n",
              "    </tr>\n",
              "    <tr>\n",
              "      <th>2</th>\n",
              "      <td>40.721336364746094,-73.84431457519531</td>\n",
              "      <td>48</td>\n",
              "      <td>3.0000</td>\n",
              "      <td>The Vitamin Shoppe</td>\n",
              "      <td>Queens Boulevard</td>\n",
              "      <td>The Vitamin Shoppe Queens Boulevard</td>\n",
              "    </tr>\n",
              "    <tr>\n",
              "      <th>3</th>\n",
              "      <td>40.72132873535156,-73.84429168701173</td>\n",
              "      <td>46</td>\n",
              "      <td>4.0000</td>\n",
              "      <td>The Vitamin Shoppe</td>\n",
              "      <td>Queens Boulevard</td>\n",
              "      <td>The Vitamin Shoppe Queens Boulevard</td>\n",
              "    </tr>\n",
              "    <tr>\n",
              "      <th>4</th>\n",
              "      <td>40.721336364746094,-73.84427642822266</td>\n",
              "      <td>45</td>\n",
              "      <td>5.0000</td>\n",
              "      <td>The Vitamin Shoppe</td>\n",
              "      <td>Queens Boulevard</td>\n",
              "      <td>The Vitamin Shoppe Queens Boulevard</td>\n",
              "    </tr>\n",
              "    <tr>\n",
              "      <th>...</th>\n",
              "      <td>...</td>\n",
              "      <td>...</td>\n",
              "      <td>...</td>\n",
              "      <td>...</td>\n",
              "      <td>...</td>\n",
              "      <td>...</td>\n",
              "    </tr>\n",
              "    <tr>\n",
              "      <th>416</th>\n",
              "      <td>40.7179069519043,-73.95759582519531</td>\n",
              "      <td>12</td>\n",
              "      <td>421.0000</td>\n",
              "      <td>Bedford Av Subway Station L line</td>\n",
              "      <td>183</td>\n",
              "      <td>Bedford Av Subway Station L line 183</td>\n",
              "    </tr>\n",
              "    <tr>\n",
              "      <th>417</th>\n",
              "      <td>40.72141647338867,-73.84429931640625</td>\n",
              "      <td>12</td>\n",
              "      <td>421.0000</td>\n",
              "      <td>107-50</td>\n",
              "      <td>Queens Boulevard</td>\n",
              "      <td>107-50 Queens Boulevard</td>\n",
              "    </tr>\n",
              "    <tr>\n",
              "      <th>418</th>\n",
              "      <td>40.72137069702149,-73.84423828125</td>\n",
              "      <td>12</td>\n",
              "      <td>421.0000</td>\n",
              "      <td>The Vitamin Shoppe</td>\n",
              "      <td>Queens Boulevard</td>\n",
              "      <td>The Vitamin Shoppe Queens Boulevard</td>\n",
              "    </tr>\n",
              "    <tr>\n",
              "      <th>419</th>\n",
              "      <td>40.71371841430664,-73.82992553710938</td>\n",
              "      <td>12</td>\n",
              "      <td>421.0000</td>\n",
              "      <td>Kew Gardens–Union Turnpike</td>\n",
              "      <td>Queens Boulevard</td>\n",
              "      <td>Kew Gardens–Union Turnpike Queens Boulevard</td>\n",
              "    </tr>\n",
              "    <tr>\n",
              "      <th>420</th>\n",
              "      <td>40.72139358520508,-73.8443603515625</td>\n",
              "      <td>12</td>\n",
              "      <td>421.0000</td>\n",
              "      <td>107-50</td>\n",
              "      <td>Queens Boulevard</td>\n",
              "      <td>107-50 Queens Boulevard</td>\n",
              "    </tr>\n",
              "  </tbody>\n",
              "</table>\n",
              "<p>421 rows × 6 columns</p>\n",
              "</div>\n",
              "      <button class=\"colab-df-convert\" onclick=\"convertToInteractive('df-799ca981-367e-4a38-a545-dfbf74c2647c')\"\n",
              "              title=\"Convert this dataframe to an interactive table.\"\n",
              "              style=\"display:none;\">\n",
              "        \n",
              "  <svg xmlns=\"http://www.w3.org/2000/svg\" height=\"24px\"viewBox=\"0 0 24 24\"\n",
              "       width=\"24px\">\n",
              "    <path d=\"M0 0h24v24H0V0z\" fill=\"none\"/>\n",
              "    <path d=\"M18.56 5.44l.94 2.06.94-2.06 2.06-.94-2.06-.94-.94-2.06-.94 2.06-2.06.94zm-11 1L8.5 8.5l.94-2.06 2.06-.94-2.06-.94L8.5 2.5l-.94 2.06-2.06.94zm10 10l.94 2.06.94-2.06 2.06-.94-2.06-.94-.94-2.06-.94 2.06-2.06.94z\"/><path d=\"M17.41 7.96l-1.37-1.37c-.4-.4-.92-.59-1.43-.59-.52 0-1.04.2-1.43.59L10.3 9.45l-7.72 7.72c-.78.78-.78 2.05 0 2.83L4 21.41c.39.39.9.59 1.41.59.51 0 1.02-.2 1.41-.59l7.78-7.78 2.81-2.81c.8-.78.8-2.07 0-2.86zM5.41 20L4 18.59l7.72-7.72 1.47 1.35L5.41 20z\"/>\n",
              "  </svg>\n",
              "      </button>\n",
              "      \n",
              "  <style>\n",
              "    .colab-df-container {\n",
              "      display:flex;\n",
              "      flex-wrap:wrap;\n",
              "      gap: 12px;\n",
              "    }\n",
              "\n",
              "    .colab-df-convert {\n",
              "      background-color: #E8F0FE;\n",
              "      border: none;\n",
              "      border-radius: 50%;\n",
              "      cursor: pointer;\n",
              "      display: none;\n",
              "      fill: #1967D2;\n",
              "      height: 32px;\n",
              "      padding: 0 0 0 0;\n",
              "      width: 32px;\n",
              "    }\n",
              "\n",
              "    .colab-df-convert:hover {\n",
              "      background-color: #E2EBFA;\n",
              "      box-shadow: 0px 1px 2px rgba(60, 64, 67, 0.3), 0px 1px 3px 1px rgba(60, 64, 67, 0.15);\n",
              "      fill: #174EA6;\n",
              "    }\n",
              "\n",
              "    [theme=dark] .colab-df-convert {\n",
              "      background-color: #3B4455;\n",
              "      fill: #D2E3FC;\n",
              "    }\n",
              "\n",
              "    [theme=dark] .colab-df-convert:hover {\n",
              "      background-color: #434B5C;\n",
              "      box-shadow: 0px 1px 3px 1px rgba(0, 0, 0, 0.15);\n",
              "      filter: drop-shadow(0px 1px 2px rgba(0, 0, 0, 0.3));\n",
              "      fill: #FFFFFF;\n",
              "    }\n",
              "  </style>\n",
              "\n",
              "      <script>\n",
              "        const buttonEl =\n",
              "          document.querySelector('#df-799ca981-367e-4a38-a545-dfbf74c2647c button.colab-df-convert');\n",
              "        buttonEl.style.display =\n",
              "          google.colab.kernel.accessAllowed ? 'block' : 'none';\n",
              "\n",
              "        async function convertToInteractive(key) {\n",
              "          const element = document.querySelector('#df-799ca981-367e-4a38-a545-dfbf74c2647c');\n",
              "          const dataTable =\n",
              "            await google.colab.kernel.invokeFunction('convertToInteractive',\n",
              "                                                     [key], {});\n",
              "          if (!dataTable) return;\n",
              "\n",
              "          const docLinkHtml = 'Like what you see? Visit the ' +\n",
              "            '<a target=\"_blank\" href=https://colab.research.google.com/notebooks/data_table.ipynb>data table notebook</a>'\n",
              "            + ' to learn more about interactive tables.';\n",
              "          element.innerHTML = '';\n",
              "          dataTable['output_type'] = 'display_data';\n",
              "          await google.colab.output.renderOutput(dataTable, element);\n",
              "          const docLink = document.createElement('div');\n",
              "          docLink.innerHTML = docLinkHtml;\n",
              "          element.appendChild(docLink);\n",
              "        }\n",
              "      </script>\n",
              "    </div>\n",
              "  </div>\n",
              "  "
            ]
          },
          "metadata": {},
          "execution_count": 90
        }
      ]
    },
    {
      "cell_type": "code",
      "source": [
        "# select only lat,long and location for mapping data\n",
        "pickup_lo = pickup_lo[['lat,long','location']]"
      ],
      "metadata": {
        "id": "nnrIZ_UdPyiS"
      },
      "id": "nnrIZ_UdPyiS",
      "execution_count": null,
      "outputs": []
    },
    {
      "cell_type": "code",
      "source": [
        "df_focus_location = pd.merge(df_pickup_lo,pickup_lo,how='inner',on='lat,long')"
      ],
      "metadata": {
        "id": "SdEH6RRZUNBL"
      },
      "id": "SdEH6RRZUNBL",
      "execution_count": null,
      "outputs": []
    },
    {
      "cell_type": "code",
      "source": [
        "df_focus_location.shape"
      ],
      "metadata": {
        "colab": {
          "base_uri": "https://localhost:8080/"
        },
        "id": "HOlbVR26VZlO",
        "outputId": "b281e1dd-c4a0-4c43-9c90-3dd8cab1401f"
      },
      "id": "HOlbVR26VZlO",
      "execution_count": null,
      "outputs": [
        {
          "output_type": "execute_result",
          "data": {
            "text/plain": [
              "(7688, 24)"
            ]
          },
          "metadata": {},
          "execution_count": 93
        }
      ]
    },
    {
      "cell_type": "code",
      "source": [
        "df_focus_location.columns"
      ],
      "metadata": {
        "colab": {
          "base_uri": "https://localhost:8080/"
        },
        "id": "ffbqyOdFbjfH",
        "outputId": "82801dbd-6a51-4f85-e0b8-ab2c91373375"
      },
      "id": "ffbqyOdFbjfH",
      "execution_count": null,
      "outputs": [
        {
          "output_type": "execute_result",
          "data": {
            "text/plain": [
              "Index(['VendorID', 'lpep_pickup_datetime', 'Lpep_dropoff_datetime',\n",
              "       'Store_and_fwd_flag', 'RateCodeID', 'Pickup_longitude',\n",
              "       'Pickup_latitude', 'Dropoff_longitude', 'Dropoff_latitude',\n",
              "       'Passenger_count', 'Trip_distance', 'Fare_amount', 'Extra', 'MTA_tax',\n",
              "       'Tip_amount', 'Tolls_amount', 'improvement_surcharge', 'Total_amount',\n",
              "       'Payment_type', 'Trip_type ', 'lat,long', 'Hour', 'Day', 'location'],\n",
              "      dtype='object')"
            ]
          },
          "metadata": {},
          "execution_count": 94
        }
      ]
    },
    {
      "cell_type": "markdown",
      "source": [
        "**In my opinion, the suitable passenger for ride sharing feature is a sole passenger and is using this feature in the nearless time with another passenger.**\n",
        "\n",
        "---\n",
        "\n",
        "There are Passenger_count,location_pickup,Hour,Day variables to consider\n",
        "\n",
        "> The passenger is based on the assumption that Only one passenger count is interested in ride sharing program \n",
        "so filter passenger count == 1\n",
        "\n",
        "\n",
        "> Criteria\n",
        "  > passernger_count =1 \n",
        "  > people have Day,Hour and location in the right time and the same place.\n",
        "\n"
      ],
      "metadata": {
        "id": "Ws8YQ7vTKTrp"
      },
      "id": "Ws8YQ7vTKTrp"
    },
    {
      "cell_type": "code",
      "source": [
        "df_focus_location = df_focus_location[df_focus_location['Passenger_count']==1]"
      ],
      "metadata": {
        "id": "fviRitdwdn0L"
      },
      "id": "fviRitdwdn0L",
      "execution_count": null,
      "outputs": []
    },
    {
      "cell_type": "code",
      "source": [
        "df_focus_location.head()"
      ],
      "metadata": {
        "colab": {
          "base_uri": "https://localhost:8080/",
          "height": 444
        },
        "id": "70cIa9tnf4mH",
        "outputId": "7b043293-8ac7-48ea-a936-5dff5eb7710c"
      },
      "id": "70cIa9tnf4mH",
      "execution_count": null,
      "outputs": [
        {
          "output_type": "execute_result",
          "data": {
            "text/plain": [
              "   VendorID lpep_pickup_datetime Lpep_dropoff_datetime Store_and_fwd_flag  \\\n",
              "0         2  2015-09-01 00:09:53   2015-09-01 00:17:05                  N   \n",
              "1         2  2015-09-02 08:43:20   2015-09-02 08:51:14                  N   \n",
              "2         2  2015-09-06 23:27:09   2015-09-06 23:41:19                  N   \n",
              "3         2  2015-09-10 17:58:30   2015-09-10 18:03:46                  N   \n",
              "4         2  2015-09-10 20:51:22   2015-09-10 21:03:37                  N   \n",
              "\n",
              "   RateCodeID  Pickup_longitude  Pickup_latitude  Dropoff_longitude  \\\n",
              "0           1          -73.8443          40.7214           -73.8128   \n",
              "1           1          -73.8443          40.7214           -73.8223   \n",
              "2           1          -73.8443          40.7214           -73.7738   \n",
              "3           1          -73.8443          40.7214           -73.8531   \n",
              "4           1          -73.8443          40.7214           -73.7754   \n",
              "\n",
              "   Dropoff_latitude  Passenger_count  Trip_distance  Fare_amount  Extra  \\\n",
              "0           40.7180                1         2.0700       9.0000 0.5000   \n",
              "1           40.7107                1         1.1900       7.5000 0.0000   \n",
              "2           40.6707                1         6.7100      20.5000 0.5000   \n",
              "3           40.7259                1         0.8700       5.5000 1.0000   \n",
              "4           40.7192                1         3.9800      14.0000 0.5000   \n",
              "\n",
              "   MTA_tax  Tip_amount  Tolls_amount  improvement_surcharge  Total_amount  \\\n",
              "0   0.5000      0.0000        0.0000                 0.3000       10.3000   \n",
              "1   0.5000      0.0000        0.0000                 0.3000        8.3000   \n",
              "2   0.5000      2.0000        0.0000                 0.3000       23.8000   \n",
              "3   0.5000      0.0000        0.0000                 0.3000        7.3000   \n",
              "4   0.5000      0.0000        0.0000                 0.3000       15.3000   \n",
              "\n",
              "   Payment_type  Trip_type                                lat,long Hour Day  \\\n",
              "0             2      1.0000  40.721378326416016,-73.84430694580078   00  01   \n",
              "1             2      1.0000  40.721378326416016,-73.84430694580078   08  02   \n",
              "2             1      1.0000  40.721378326416016,-73.84430694580078   23  06   \n",
              "3             2      1.0000  40.721378326416016,-73.84430694580078   17  10   \n",
              "4             2      1.0000  40.721378326416016,-73.84430694580078   20  10   \n",
              "\n",
              "                  location  \n",
              "0  107-50 Queens Boulevard  \n",
              "1  107-50 Queens Boulevard  \n",
              "2  107-50 Queens Boulevard  \n",
              "3  107-50 Queens Boulevard  \n",
              "4  107-50 Queens Boulevard  "
            ],
            "text/html": [
              "\n",
              "  <div id=\"df-6d55e994-6f61-4cf8-a457-fb1f861587db\">\n",
              "    <div class=\"colab-df-container\">\n",
              "      <div>\n",
              "<style scoped>\n",
              "    .dataframe tbody tr th:only-of-type {\n",
              "        vertical-align: middle;\n",
              "    }\n",
              "\n",
              "    .dataframe tbody tr th {\n",
              "        vertical-align: top;\n",
              "    }\n",
              "\n",
              "    .dataframe thead th {\n",
              "        text-align: right;\n",
              "    }\n",
              "</style>\n",
              "<table border=\"1\" class=\"dataframe\">\n",
              "  <thead>\n",
              "    <tr style=\"text-align: right;\">\n",
              "      <th></th>\n",
              "      <th>VendorID</th>\n",
              "      <th>lpep_pickup_datetime</th>\n",
              "      <th>Lpep_dropoff_datetime</th>\n",
              "      <th>Store_and_fwd_flag</th>\n",
              "      <th>RateCodeID</th>\n",
              "      <th>Pickup_longitude</th>\n",
              "      <th>Pickup_latitude</th>\n",
              "      <th>Dropoff_longitude</th>\n",
              "      <th>Dropoff_latitude</th>\n",
              "      <th>Passenger_count</th>\n",
              "      <th>Trip_distance</th>\n",
              "      <th>Fare_amount</th>\n",
              "      <th>Extra</th>\n",
              "      <th>MTA_tax</th>\n",
              "      <th>Tip_amount</th>\n",
              "      <th>Tolls_amount</th>\n",
              "      <th>improvement_surcharge</th>\n",
              "      <th>Total_amount</th>\n",
              "      <th>Payment_type</th>\n",
              "      <th>Trip_type</th>\n",
              "      <th>lat,long</th>\n",
              "      <th>Hour</th>\n",
              "      <th>Day</th>\n",
              "      <th>location</th>\n",
              "    </tr>\n",
              "  </thead>\n",
              "  <tbody>\n",
              "    <tr>\n",
              "      <th>0</th>\n",
              "      <td>2</td>\n",
              "      <td>2015-09-01 00:09:53</td>\n",
              "      <td>2015-09-01 00:17:05</td>\n",
              "      <td>N</td>\n",
              "      <td>1</td>\n",
              "      <td>-73.8443</td>\n",
              "      <td>40.7214</td>\n",
              "      <td>-73.8128</td>\n",
              "      <td>40.7180</td>\n",
              "      <td>1</td>\n",
              "      <td>2.0700</td>\n",
              "      <td>9.0000</td>\n",
              "      <td>0.5000</td>\n",
              "      <td>0.5000</td>\n",
              "      <td>0.0000</td>\n",
              "      <td>0.0000</td>\n",
              "      <td>0.3000</td>\n",
              "      <td>10.3000</td>\n",
              "      <td>2</td>\n",
              "      <td>1.0000</td>\n",
              "      <td>40.721378326416016,-73.84430694580078</td>\n",
              "      <td>00</td>\n",
              "      <td>01</td>\n",
              "      <td>107-50 Queens Boulevard</td>\n",
              "    </tr>\n",
              "    <tr>\n",
              "      <th>1</th>\n",
              "      <td>2</td>\n",
              "      <td>2015-09-02 08:43:20</td>\n",
              "      <td>2015-09-02 08:51:14</td>\n",
              "      <td>N</td>\n",
              "      <td>1</td>\n",
              "      <td>-73.8443</td>\n",
              "      <td>40.7214</td>\n",
              "      <td>-73.8223</td>\n",
              "      <td>40.7107</td>\n",
              "      <td>1</td>\n",
              "      <td>1.1900</td>\n",
              "      <td>7.5000</td>\n",
              "      <td>0.0000</td>\n",
              "      <td>0.5000</td>\n",
              "      <td>0.0000</td>\n",
              "      <td>0.0000</td>\n",
              "      <td>0.3000</td>\n",
              "      <td>8.3000</td>\n",
              "      <td>2</td>\n",
              "      <td>1.0000</td>\n",
              "      <td>40.721378326416016,-73.84430694580078</td>\n",
              "      <td>08</td>\n",
              "      <td>02</td>\n",
              "      <td>107-50 Queens Boulevard</td>\n",
              "    </tr>\n",
              "    <tr>\n",
              "      <th>2</th>\n",
              "      <td>2</td>\n",
              "      <td>2015-09-06 23:27:09</td>\n",
              "      <td>2015-09-06 23:41:19</td>\n",
              "      <td>N</td>\n",
              "      <td>1</td>\n",
              "      <td>-73.8443</td>\n",
              "      <td>40.7214</td>\n",
              "      <td>-73.7738</td>\n",
              "      <td>40.6707</td>\n",
              "      <td>1</td>\n",
              "      <td>6.7100</td>\n",
              "      <td>20.5000</td>\n",
              "      <td>0.5000</td>\n",
              "      <td>0.5000</td>\n",
              "      <td>2.0000</td>\n",
              "      <td>0.0000</td>\n",
              "      <td>0.3000</td>\n",
              "      <td>23.8000</td>\n",
              "      <td>1</td>\n",
              "      <td>1.0000</td>\n",
              "      <td>40.721378326416016,-73.84430694580078</td>\n",
              "      <td>23</td>\n",
              "      <td>06</td>\n",
              "      <td>107-50 Queens Boulevard</td>\n",
              "    </tr>\n",
              "    <tr>\n",
              "      <th>3</th>\n",
              "      <td>2</td>\n",
              "      <td>2015-09-10 17:58:30</td>\n",
              "      <td>2015-09-10 18:03:46</td>\n",
              "      <td>N</td>\n",
              "      <td>1</td>\n",
              "      <td>-73.8443</td>\n",
              "      <td>40.7214</td>\n",
              "      <td>-73.8531</td>\n",
              "      <td>40.7259</td>\n",
              "      <td>1</td>\n",
              "      <td>0.8700</td>\n",
              "      <td>5.5000</td>\n",
              "      <td>1.0000</td>\n",
              "      <td>0.5000</td>\n",
              "      <td>0.0000</td>\n",
              "      <td>0.0000</td>\n",
              "      <td>0.3000</td>\n",
              "      <td>7.3000</td>\n",
              "      <td>2</td>\n",
              "      <td>1.0000</td>\n",
              "      <td>40.721378326416016,-73.84430694580078</td>\n",
              "      <td>17</td>\n",
              "      <td>10</td>\n",
              "      <td>107-50 Queens Boulevard</td>\n",
              "    </tr>\n",
              "    <tr>\n",
              "      <th>4</th>\n",
              "      <td>2</td>\n",
              "      <td>2015-09-10 20:51:22</td>\n",
              "      <td>2015-09-10 21:03:37</td>\n",
              "      <td>N</td>\n",
              "      <td>1</td>\n",
              "      <td>-73.8443</td>\n",
              "      <td>40.7214</td>\n",
              "      <td>-73.7754</td>\n",
              "      <td>40.7192</td>\n",
              "      <td>1</td>\n",
              "      <td>3.9800</td>\n",
              "      <td>14.0000</td>\n",
              "      <td>0.5000</td>\n",
              "      <td>0.5000</td>\n",
              "      <td>0.0000</td>\n",
              "      <td>0.0000</td>\n",
              "      <td>0.3000</td>\n",
              "      <td>15.3000</td>\n",
              "      <td>2</td>\n",
              "      <td>1.0000</td>\n",
              "      <td>40.721378326416016,-73.84430694580078</td>\n",
              "      <td>20</td>\n",
              "      <td>10</td>\n",
              "      <td>107-50 Queens Boulevard</td>\n",
              "    </tr>\n",
              "  </tbody>\n",
              "</table>\n",
              "</div>\n",
              "      <button class=\"colab-df-convert\" onclick=\"convertToInteractive('df-6d55e994-6f61-4cf8-a457-fb1f861587db')\"\n",
              "              title=\"Convert this dataframe to an interactive table.\"\n",
              "              style=\"display:none;\">\n",
              "        \n",
              "  <svg xmlns=\"http://www.w3.org/2000/svg\" height=\"24px\"viewBox=\"0 0 24 24\"\n",
              "       width=\"24px\">\n",
              "    <path d=\"M0 0h24v24H0V0z\" fill=\"none\"/>\n",
              "    <path d=\"M18.56 5.44l.94 2.06.94-2.06 2.06-.94-2.06-.94-.94-2.06-.94 2.06-2.06.94zm-11 1L8.5 8.5l.94-2.06 2.06-.94-2.06-.94L8.5 2.5l-.94 2.06-2.06.94zm10 10l.94 2.06.94-2.06 2.06-.94-2.06-.94-.94-2.06-.94 2.06-2.06.94z\"/><path d=\"M17.41 7.96l-1.37-1.37c-.4-.4-.92-.59-1.43-.59-.52 0-1.04.2-1.43.59L10.3 9.45l-7.72 7.72c-.78.78-.78 2.05 0 2.83L4 21.41c.39.39.9.59 1.41.59.51 0 1.02-.2 1.41-.59l7.78-7.78 2.81-2.81c.8-.78.8-2.07 0-2.86zM5.41 20L4 18.59l7.72-7.72 1.47 1.35L5.41 20z\"/>\n",
              "  </svg>\n",
              "      </button>\n",
              "      \n",
              "  <style>\n",
              "    .colab-df-container {\n",
              "      display:flex;\n",
              "      flex-wrap:wrap;\n",
              "      gap: 12px;\n",
              "    }\n",
              "\n",
              "    .colab-df-convert {\n",
              "      background-color: #E8F0FE;\n",
              "      border: none;\n",
              "      border-radius: 50%;\n",
              "      cursor: pointer;\n",
              "      display: none;\n",
              "      fill: #1967D2;\n",
              "      height: 32px;\n",
              "      padding: 0 0 0 0;\n",
              "      width: 32px;\n",
              "    }\n",
              "\n",
              "    .colab-df-convert:hover {\n",
              "      background-color: #E2EBFA;\n",
              "      box-shadow: 0px 1px 2px rgba(60, 64, 67, 0.3), 0px 1px 3px 1px rgba(60, 64, 67, 0.15);\n",
              "      fill: #174EA6;\n",
              "    }\n",
              "\n",
              "    [theme=dark] .colab-df-convert {\n",
              "      background-color: #3B4455;\n",
              "      fill: #D2E3FC;\n",
              "    }\n",
              "\n",
              "    [theme=dark] .colab-df-convert:hover {\n",
              "      background-color: #434B5C;\n",
              "      box-shadow: 0px 1px 3px 1px rgba(0, 0, 0, 0.15);\n",
              "      filter: drop-shadow(0px 1px 2px rgba(0, 0, 0, 0.3));\n",
              "      fill: #FFFFFF;\n",
              "    }\n",
              "  </style>\n",
              "\n",
              "      <script>\n",
              "        const buttonEl =\n",
              "          document.querySelector('#df-6d55e994-6f61-4cf8-a457-fb1f861587db button.colab-df-convert');\n",
              "        buttonEl.style.display =\n",
              "          google.colab.kernel.accessAllowed ? 'block' : 'none';\n",
              "\n",
              "        async function convertToInteractive(key) {\n",
              "          const element = document.querySelector('#df-6d55e994-6f61-4cf8-a457-fb1f861587db');\n",
              "          const dataTable =\n",
              "            await google.colab.kernel.invokeFunction('convertToInteractive',\n",
              "                                                     [key], {});\n",
              "          if (!dataTable) return;\n",
              "\n",
              "          const docLinkHtml = 'Like what you see? Visit the ' +\n",
              "            '<a target=\"_blank\" href=https://colab.research.google.com/notebooks/data_table.ipynb>data table notebook</a>'\n",
              "            + ' to learn more about interactive tables.';\n",
              "          element.innerHTML = '';\n",
              "          dataTable['output_type'] = 'display_data';\n",
              "          await google.colab.output.renderOutput(dataTable, element);\n",
              "          const docLink = document.createElement('div');\n",
              "          docLink.innerHTML = docLinkHtml;\n",
              "          element.appendChild(docLink);\n",
              "        }\n",
              "      </script>\n",
              "    </div>\n",
              "  </div>\n",
              "  "
            ]
          },
          "metadata": {},
          "execution_count": 96
        }
      ]
    },
    {
      "cell_type": "code",
      "source": [
        "final_location = df_focus_location.groupby(['Day','Hour','location'])['Passenger_count'].sum().sort_values(ascending=False).to_frame().reset_index()"
      ],
      "metadata": {
        "id": "LGgn0V9Gd43z"
      },
      "id": "LGgn0V9Gd43z",
      "execution_count": null,
      "outputs": []
    },
    {
      "cell_type": "code",
      "source": [
        "# chose Passenger_count in columns that have passenger_count >1 because more than 1 person is calling for a car during the same day, time and location\n",
        "final_location = final_location[final_location['Passenger_count']>1]\n",
        "# data on new opportunities for ride sharing programs.\n",
        "print(\"total people who will use ride sharing program : \",final_location['Passenger_count'].sum(axis=0))\n",
        "display(final_location)"
      ],
      "metadata": {
        "colab": {
          "base_uri": "https://localhost:8080/",
          "height": 442
        },
        "id": "f02d9FifhnhF",
        "outputId": "5f545148-3dad-4679-e7b7-f98ca362fc65"
      },
      "id": "f02d9FifhnhF",
      "execution_count": null,
      "outputs": [
        {
          "output_type": "stream",
          "name": "stdout",
          "text": [
            "total people who will use ride sharing program :  5055\n"
          ]
        },
        {
          "output_type": "display_data",
          "data": {
            "text/plain": [
              "     Day Hour                             location  Passenger_count\n",
              "0     10   18  The Vitamin Shoppe Queens Boulevard               22\n",
              "1     24   20  The Vitamin Shoppe Queens Boulevard               21\n",
              "2     22   17  The Vitamin Shoppe Queens Boulevard               20\n",
              "3     16   18  The Vitamin Shoppe Queens Boulevard               19\n",
              "4     08   19  The Vitamin Shoppe Queens Boulevard               18\n",
              "...   ..  ...                                  ...              ...\n",
              "1120  29   18              107-50 Queens Boulevard                2\n",
              "1121  12   01     Flushing-Main Street Main Street                2\n",
              "1122  10   09              107-50 Queens Boulevard                2\n",
              "1123  01   15              107-50 Queens Boulevard                2\n",
              "1124  01   16  The Vitamin Shoppe Queens Boulevard                2\n",
              "\n",
              "[1125 rows x 4 columns]"
            ],
            "text/html": [
              "\n",
              "  <div id=\"df-7b3d3e4d-eff6-4ebd-aa5f-2f4ab0d2b0bf\">\n",
              "    <div class=\"colab-df-container\">\n",
              "      <div>\n",
              "<style scoped>\n",
              "    .dataframe tbody tr th:only-of-type {\n",
              "        vertical-align: middle;\n",
              "    }\n",
              "\n",
              "    .dataframe tbody tr th {\n",
              "        vertical-align: top;\n",
              "    }\n",
              "\n",
              "    .dataframe thead th {\n",
              "        text-align: right;\n",
              "    }\n",
              "</style>\n",
              "<table border=\"1\" class=\"dataframe\">\n",
              "  <thead>\n",
              "    <tr style=\"text-align: right;\">\n",
              "      <th></th>\n",
              "      <th>Day</th>\n",
              "      <th>Hour</th>\n",
              "      <th>location</th>\n",
              "      <th>Passenger_count</th>\n",
              "    </tr>\n",
              "  </thead>\n",
              "  <tbody>\n",
              "    <tr>\n",
              "      <th>0</th>\n",
              "      <td>10</td>\n",
              "      <td>18</td>\n",
              "      <td>The Vitamin Shoppe Queens Boulevard</td>\n",
              "      <td>22</td>\n",
              "    </tr>\n",
              "    <tr>\n",
              "      <th>1</th>\n",
              "      <td>24</td>\n",
              "      <td>20</td>\n",
              "      <td>The Vitamin Shoppe Queens Boulevard</td>\n",
              "      <td>21</td>\n",
              "    </tr>\n",
              "    <tr>\n",
              "      <th>2</th>\n",
              "      <td>22</td>\n",
              "      <td>17</td>\n",
              "      <td>The Vitamin Shoppe Queens Boulevard</td>\n",
              "      <td>20</td>\n",
              "    </tr>\n",
              "    <tr>\n",
              "      <th>3</th>\n",
              "      <td>16</td>\n",
              "      <td>18</td>\n",
              "      <td>The Vitamin Shoppe Queens Boulevard</td>\n",
              "      <td>19</td>\n",
              "    </tr>\n",
              "    <tr>\n",
              "      <th>4</th>\n",
              "      <td>08</td>\n",
              "      <td>19</td>\n",
              "      <td>The Vitamin Shoppe Queens Boulevard</td>\n",
              "      <td>18</td>\n",
              "    </tr>\n",
              "    <tr>\n",
              "      <th>...</th>\n",
              "      <td>...</td>\n",
              "      <td>...</td>\n",
              "      <td>...</td>\n",
              "      <td>...</td>\n",
              "    </tr>\n",
              "    <tr>\n",
              "      <th>1120</th>\n",
              "      <td>29</td>\n",
              "      <td>18</td>\n",
              "      <td>107-50 Queens Boulevard</td>\n",
              "      <td>2</td>\n",
              "    </tr>\n",
              "    <tr>\n",
              "      <th>1121</th>\n",
              "      <td>12</td>\n",
              "      <td>01</td>\n",
              "      <td>Flushing-Main Street Main Street</td>\n",
              "      <td>2</td>\n",
              "    </tr>\n",
              "    <tr>\n",
              "      <th>1122</th>\n",
              "      <td>10</td>\n",
              "      <td>09</td>\n",
              "      <td>107-50 Queens Boulevard</td>\n",
              "      <td>2</td>\n",
              "    </tr>\n",
              "    <tr>\n",
              "      <th>1123</th>\n",
              "      <td>01</td>\n",
              "      <td>15</td>\n",
              "      <td>107-50 Queens Boulevard</td>\n",
              "      <td>2</td>\n",
              "    </tr>\n",
              "    <tr>\n",
              "      <th>1124</th>\n",
              "      <td>01</td>\n",
              "      <td>16</td>\n",
              "      <td>The Vitamin Shoppe Queens Boulevard</td>\n",
              "      <td>2</td>\n",
              "    </tr>\n",
              "  </tbody>\n",
              "</table>\n",
              "<p>1125 rows × 4 columns</p>\n",
              "</div>\n",
              "      <button class=\"colab-df-convert\" onclick=\"convertToInteractive('df-7b3d3e4d-eff6-4ebd-aa5f-2f4ab0d2b0bf')\"\n",
              "              title=\"Convert this dataframe to an interactive table.\"\n",
              "              style=\"display:none;\">\n",
              "        \n",
              "  <svg xmlns=\"http://www.w3.org/2000/svg\" height=\"24px\"viewBox=\"0 0 24 24\"\n",
              "       width=\"24px\">\n",
              "    <path d=\"M0 0h24v24H0V0z\" fill=\"none\"/>\n",
              "    <path d=\"M18.56 5.44l.94 2.06.94-2.06 2.06-.94-2.06-.94-.94-2.06-.94 2.06-2.06.94zm-11 1L8.5 8.5l.94-2.06 2.06-.94-2.06-.94L8.5 2.5l-.94 2.06-2.06.94zm10 10l.94 2.06.94-2.06 2.06-.94-2.06-.94-.94-2.06-.94 2.06-2.06.94z\"/><path d=\"M17.41 7.96l-1.37-1.37c-.4-.4-.92-.59-1.43-.59-.52 0-1.04.2-1.43.59L10.3 9.45l-7.72 7.72c-.78.78-.78 2.05 0 2.83L4 21.41c.39.39.9.59 1.41.59.51 0 1.02-.2 1.41-.59l7.78-7.78 2.81-2.81c.8-.78.8-2.07 0-2.86zM5.41 20L4 18.59l7.72-7.72 1.47 1.35L5.41 20z\"/>\n",
              "  </svg>\n",
              "      </button>\n",
              "      \n",
              "  <style>\n",
              "    .colab-df-container {\n",
              "      display:flex;\n",
              "      flex-wrap:wrap;\n",
              "      gap: 12px;\n",
              "    }\n",
              "\n",
              "    .colab-df-convert {\n",
              "      background-color: #E8F0FE;\n",
              "      border: none;\n",
              "      border-radius: 50%;\n",
              "      cursor: pointer;\n",
              "      display: none;\n",
              "      fill: #1967D2;\n",
              "      height: 32px;\n",
              "      padding: 0 0 0 0;\n",
              "      width: 32px;\n",
              "    }\n",
              "\n",
              "    .colab-df-convert:hover {\n",
              "      background-color: #E2EBFA;\n",
              "      box-shadow: 0px 1px 2px rgba(60, 64, 67, 0.3), 0px 1px 3px 1px rgba(60, 64, 67, 0.15);\n",
              "      fill: #174EA6;\n",
              "    }\n",
              "\n",
              "    [theme=dark] .colab-df-convert {\n",
              "      background-color: #3B4455;\n",
              "      fill: #D2E3FC;\n",
              "    }\n",
              "\n",
              "    [theme=dark] .colab-df-convert:hover {\n",
              "      background-color: #434B5C;\n",
              "      box-shadow: 0px 1px 3px 1px rgba(0, 0, 0, 0.15);\n",
              "      filter: drop-shadow(0px 1px 2px rgba(0, 0, 0, 0.3));\n",
              "      fill: #FFFFFF;\n",
              "    }\n",
              "  </style>\n",
              "\n",
              "      <script>\n",
              "        const buttonEl =\n",
              "          document.querySelector('#df-7b3d3e4d-eff6-4ebd-aa5f-2f4ab0d2b0bf button.colab-df-convert');\n",
              "        buttonEl.style.display =\n",
              "          google.colab.kernel.accessAllowed ? 'block' : 'none';\n",
              "\n",
              "        async function convertToInteractive(key) {\n",
              "          const element = document.querySelector('#df-7b3d3e4d-eff6-4ebd-aa5f-2f4ab0d2b0bf');\n",
              "          const dataTable =\n",
              "            await google.colab.kernel.invokeFunction('convertToInteractive',\n",
              "                                                     [key], {});\n",
              "          if (!dataTable) return;\n",
              "\n",
              "          const docLinkHtml = 'Like what you see? Visit the ' +\n",
              "            '<a target=\"_blank\" href=https://colab.research.google.com/notebooks/data_table.ipynb>data table notebook</a>'\n",
              "            + ' to learn more about interactive tables.';\n",
              "          element.innerHTML = '';\n",
              "          dataTable['output_type'] = 'display_data';\n",
              "          await google.colab.output.renderOutput(dataTable, element);\n",
              "          const docLink = document.createElement('div');\n",
              "          docLink.innerHTML = docLinkHtml;\n",
              "          element.appendChild(docLink);\n",
              "        }\n",
              "      </script>\n",
              "    </div>\n",
              "  </div>\n",
              "  "
            ]
          },
          "metadata": {}
        }
      ]
    },
    {
      "cell_type": "markdown",
      "source": [
        "**--- Thank You ---**\n",
        "\n",
        "---\n",
        "\n",
        "\n",
        "If you require any further information, feel free to contact me."
      ],
      "metadata": {
        "id": "85eYZGXuGRF1"
      },
      "id": "85eYZGXuGRF1"
    }
  ],
  "metadata": {
    "kernelspec": {
      "display_name": "Python 3 (ipykernel)",
      "language": "python",
      "name": "python3"
    },
    "language_info": {
      "codemirror_mode": {
        "name": "ipython",
        "version": 3
      },
      "file_extension": ".py",
      "mimetype": "text/x-python",
      "name": "python",
      "nbconvert_exporter": "python",
      "pygments_lexer": "ipython3",
      "version": "3.7.11"
    },
    "colab": {
      "name": "DataScienceChallenge_SuchetReaboot.ipynb",
      "provenance": [],
      "collapsed_sections": [],
      "toc_visible": true,
      "include_colab_link": true
    },
    "accelerator": "GPU"
  },
  "nbformat": 4,
  "nbformat_minor": 5
}